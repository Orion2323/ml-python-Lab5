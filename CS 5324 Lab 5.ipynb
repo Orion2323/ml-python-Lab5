{
 "cells": [
  {
   "attachments": {},
   "cell_type": "markdown",
   "id": "89b62465",
   "metadata": {},
   "source": [
    "# CS 5324 Lab 5: Wide and Deep Networks"
   ]
  },
  {
   "attachments": {},
   "cell_type": "markdown",
   "id": "f52dbc27",
   "metadata": {},
   "source": [
    "For this assignment, we will be exploring the [Heart Failure Prediction](https://www.kaggle.com/datasets/fedesoriano/heart-failure-prediction?resource=download) dataset. It is a collection of datasets combined into one large dataset. This dataset is composed of observations regarding patients' health traits related to the likelihood of heart failure.\n",
    "\n",
    "This dataset was sourced from [Kaggle](https://www.kaggle.com/datasets) and consists of 918 observations."
   ]
  },
  {
   "attachments": {},
   "cell_type": "markdown",
   "id": "b3052a4e",
   "metadata": {},
   "source": [
    "## Team"
   ]
  },
  {
   "attachments": {},
   "cell_type": "markdown",
   "id": "91760563",
   "metadata": {},
   "source": [
    "The team consists of three members:\n",
    "1. Melodie Zhu\n",
    "2. Samina Faheem\n",
    "3. Giancarlos Dominguez"
   ]
  },
  {
   "attachments": {},
   "cell_type": "markdown",
   "id": "1c838ac1",
   "metadata": {},
   "source": [
    "## Dataset Preparation"
   ]
  },
  {
   "attachments": {},
   "cell_type": "markdown",
   "id": "af8dbe65",
   "metadata": {},
   "source": [
    "Let us import our dataset."
   ]
  },
  {
   "cell_type": "code",
   "execution_count": 141,
   "id": "7d6d9e1a",
   "metadata": {},
   "outputs": [],
   "source": [
    "# import libraies\n",
    "import os\n",
    "import pandas as pd\n",
    "import numpy as np\n",
    "import copy"
   ]
  },
  {
   "cell_type": "code",
   "execution_count": 142,
   "id": "eb375a4d",
   "metadata": {},
   "outputs": [],
   "source": [
    "# get dataset from csv file\n",
    "data_directory = os.getcwd() + '\\\\data\\\\heart.csv'\n",
    "df = pd.read_csv(data_directory)"
   ]
  },
  {
   "cell_type": "code",
   "execution_count": 143,
   "id": "613d20ba",
   "metadata": {},
   "outputs": [
    {
     "data": {
      "text/html": [
       "<div>\n",
       "<style scoped>\n",
       "    .dataframe tbody tr th:only-of-type {\n",
       "        vertical-align: middle;\n",
       "    }\n",
       "\n",
       "    .dataframe tbody tr th {\n",
       "        vertical-align: top;\n",
       "    }\n",
       "\n",
       "    .dataframe thead th {\n",
       "        text-align: right;\n",
       "    }\n",
       "</style>\n",
       "<table border=\"1\" class=\"dataframe\">\n",
       "  <thead>\n",
       "    <tr style=\"text-align: right;\">\n",
       "      <th></th>\n",
       "      <th>Age</th>\n",
       "      <th>Sex</th>\n",
       "      <th>ChestPainType</th>\n",
       "      <th>RestingBP</th>\n",
       "      <th>Cholesterol</th>\n",
       "      <th>FastingBS</th>\n",
       "      <th>RestingECG</th>\n",
       "      <th>MaxHR</th>\n",
       "      <th>ExerciseAngina</th>\n",
       "      <th>Oldpeak</th>\n",
       "      <th>ST_Slope</th>\n",
       "      <th>HeartDisease</th>\n",
       "    </tr>\n",
       "  </thead>\n",
       "  <tbody>\n",
       "    <tr>\n",
       "      <th>0</th>\n",
       "      <td>40</td>\n",
       "      <td>M</td>\n",
       "      <td>ATA</td>\n",
       "      <td>140</td>\n",
       "      <td>289</td>\n",
       "      <td>0</td>\n",
       "      <td>Normal</td>\n",
       "      <td>172</td>\n",
       "      <td>N</td>\n",
       "      <td>0.0</td>\n",
       "      <td>Up</td>\n",
       "      <td>0</td>\n",
       "    </tr>\n",
       "    <tr>\n",
       "      <th>1</th>\n",
       "      <td>49</td>\n",
       "      <td>F</td>\n",
       "      <td>NAP</td>\n",
       "      <td>160</td>\n",
       "      <td>180</td>\n",
       "      <td>0</td>\n",
       "      <td>Normal</td>\n",
       "      <td>156</td>\n",
       "      <td>N</td>\n",
       "      <td>1.0</td>\n",
       "      <td>Flat</td>\n",
       "      <td>1</td>\n",
       "    </tr>\n",
       "    <tr>\n",
       "      <th>2</th>\n",
       "      <td>37</td>\n",
       "      <td>M</td>\n",
       "      <td>ATA</td>\n",
       "      <td>130</td>\n",
       "      <td>283</td>\n",
       "      <td>0</td>\n",
       "      <td>ST</td>\n",
       "      <td>98</td>\n",
       "      <td>N</td>\n",
       "      <td>0.0</td>\n",
       "      <td>Up</td>\n",
       "      <td>0</td>\n",
       "    </tr>\n",
       "    <tr>\n",
       "      <th>3</th>\n",
       "      <td>48</td>\n",
       "      <td>F</td>\n",
       "      <td>ASY</td>\n",
       "      <td>138</td>\n",
       "      <td>214</td>\n",
       "      <td>0</td>\n",
       "      <td>Normal</td>\n",
       "      <td>108</td>\n",
       "      <td>Y</td>\n",
       "      <td>1.5</td>\n",
       "      <td>Flat</td>\n",
       "      <td>1</td>\n",
       "    </tr>\n",
       "    <tr>\n",
       "      <th>4</th>\n",
       "      <td>54</td>\n",
       "      <td>M</td>\n",
       "      <td>NAP</td>\n",
       "      <td>150</td>\n",
       "      <td>195</td>\n",
       "      <td>0</td>\n",
       "      <td>Normal</td>\n",
       "      <td>122</td>\n",
       "      <td>N</td>\n",
       "      <td>0.0</td>\n",
       "      <td>Up</td>\n",
       "      <td>0</td>\n",
       "    </tr>\n",
       "  </tbody>\n",
       "</table>\n",
       "</div>"
      ],
      "text/plain": [
       "   Age Sex ChestPainType  RestingBP  Cholesterol  FastingBS RestingECG  MaxHR  \\\n",
       "0   40   M           ATA        140          289          0     Normal    172   \n",
       "1   49   F           NAP        160          180          0     Normal    156   \n",
       "2   37   M           ATA        130          283          0         ST     98   \n",
       "3   48   F           ASY        138          214          0     Normal    108   \n",
       "4   54   M           NAP        150          195          0     Normal    122   \n",
       "\n",
       "  ExerciseAngina  Oldpeak ST_Slope  HeartDisease  \n",
       "0              N      0.0       Up             0  \n",
       "1              N      1.0     Flat             1  \n",
       "2              N      0.0       Up             0  \n",
       "3              Y      1.5     Flat             1  \n",
       "4              N      0.0       Up             0  "
      ]
     },
     "execution_count": 143,
     "metadata": {},
     "output_type": "execute_result"
    }
   ],
   "source": [
    "df.head()"
   ]
  },
  {
   "cell_type": "code",
   "execution_count": 144,
   "id": "5ecfe47d",
   "metadata": {},
   "outputs": [
    {
     "name": "stdout",
     "output_type": "stream",
     "text": [
      "Shape of the dataset (918, 12)\n",
      "\n",
      "Number of observations in the dataset: 918\n",
      "Number of features in the dataset: 12\n"
     ]
    }
   ],
   "source": [
    "print(\"Shape of the dataset\", df.shape)\n",
    "\n",
    "print(f\"\\nNumber of observations in the dataset: {df.shape[0]}\")\n",
    "print(f\"Number of features in the dataset: {df.shape[1]}\")"
   ]
  },
  {
   "attachments": {},
   "cell_type": "markdown",
   "id": "a1840d1e",
   "metadata": {},
   "source": [
    "Next, we will check for any duplicate observations."
   ]
  },
  {
   "cell_type": "code",
   "execution_count": 145,
   "id": "cd0f7c9f",
   "metadata": {},
   "outputs": [
    {
     "name": "stdout",
     "output_type": "stream",
     "text": [
      "\n",
      "Number of duplicate rows: 0\n"
     ]
    }
   ],
   "source": [
    "# check for duplicates\n",
    "print(f\"\\nNumber of duplicate rows: {df.duplicated().sum()}\")"
   ]
  },
  {
   "attachments": {},
   "cell_type": "markdown",
   "id": "87fd4037",
   "metadata": {},
   "source": [
    "Luckily, we don't have to worry about duplicate rows. Now, let us check for rows with missing values."
   ]
  },
  {
   "cell_type": "code",
   "execution_count": 146,
   "id": "1b27747b",
   "metadata": {},
   "outputs": [
    {
     "name": "stdout",
     "output_type": "stream",
     "text": [
      "\n",
      "Number of missing values: 0\n"
     ]
    }
   ],
   "source": [
    "# check for missing values\n",
    "print(f\"\\nNumber of missing values: {df.isnull().sum().sum()}\")"
   ]
  },
  {
   "attachments": {},
   "cell_type": "markdown",
   "id": "edbe3bce",
   "metadata": {},
   "source": [
    "None of our observations have missing values. Therefore, we don't have to worry about holes in our data."
   ]
  },
  {
   "attachments": {},
   "cell_type": "markdown",
   "id": "a3c6df2d",
   "metadata": {},
   "source": [
    "### Defining Class Variables"
   ]
  },
  {
   "attachments": {},
   "cell_type": "markdown",
   "id": "6696e73b",
   "metadata": {},
   "source": [
    "| Variable Name | Datatype | Description | Values |\n",
    ":------: | :------: | :------: | :------:|\n",
    "| `Age` | Numerical int | How old the patient is (yrs) | NA |\n",
    "| `Sex` | Categorical str | The biological gender of the patient | **M**: Male, **F**: Female |\n",
    "| `ChestPainType` | Categorical str | The chest pain condition of the patient | **TA**: Typical Angina, **ATA**: Atypical Angina, **NAP**: Non-Anginal Pain, **ASY**: Asymptomatic |\n",
    "| `RestingBP` | Numerical int | The resting blood pressure (mmHg) | NA |\n",
    "| `Cholesterol` | Numerical int | The cholesterol level of the patient (mm/dl) | NA |\n",
    "| `FastingBS` | Categorical int | The fasting blood sugar level of the patient | **1**: if FastingBS > 120 (mg/dl), **0**: otherwise |\n",
    "| `RestingECG` | Categorical str | The resting electrocardiogram results of the patient | **Normal**: Normal, **ST**: Having ST-T wave abnormality (T wave inversions and/or ST elevation or depression of > 0.05 mV), **LVH**: Showing probable or definite left ventricular hypertrophy by Estes' criteria |\n",
    "| `MaxHR` | Numerical int | The maximum heart rate recorded in the patient | NA |\n",
    "| `ExerciseAngina` | Categorical str | Whether the patient has exersice-induced angina | **Y**: Yes, **N**: No |\n",
    "| `OldPeak` | Numerical float | ST segment value of the patient | NA |\n",
    "| `ST_Slope` | Categorical str | Slope of the peak exercise ST segment | **Up**: Upsloping, **Flat**: Flat, **Down**: Downsloping |\n",
    "| `HeartDisease` | Categorical int | Whether the patient is likely to have heart failure| **1**: Likely to have heart failure, **0**: Not likely to have heart failure"
   ]
  },
  {
   "attachments": {},
   "cell_type": "markdown",
   "id": "b533efa4",
   "metadata": {},
   "source": [
    "Since all of our features are medically related to heart conditions and failure, we will not remove any features from our dataset.<br>\n",
    "\n",
    "Now, we will convert our categorical variables into integers and standardize our numerical variables."
   ]
  },
  {
   "cell_type": "code",
   "execution_count": 147,
   "id": "185ebe00",
   "metadata": {},
   "outputs": [
    {
     "data": {
      "text/html": [
       "<div>\n",
       "<style scoped>\n",
       "    .dataframe tbody tr th:only-of-type {\n",
       "        vertical-align: middle;\n",
       "    }\n",
       "\n",
       "    .dataframe tbody tr th {\n",
       "        vertical-align: top;\n",
       "    }\n",
       "\n",
       "    .dataframe thead th {\n",
       "        text-align: right;\n",
       "    }\n",
       "</style>\n",
       "<table border=\"1\" class=\"dataframe\">\n",
       "  <thead>\n",
       "    <tr style=\"text-align: right;\">\n",
       "      <th></th>\n",
       "      <th>Age</th>\n",
       "      <th>Sex</th>\n",
       "      <th>ChestPainType</th>\n",
       "      <th>RestingBP</th>\n",
       "      <th>Cholesterol</th>\n",
       "      <th>FastingBS</th>\n",
       "      <th>RestingECG</th>\n",
       "      <th>MaxHR</th>\n",
       "      <th>ExerciseAngina</th>\n",
       "      <th>Oldpeak</th>\n",
       "      <th>ST_Slope</th>\n",
       "      <th>HeartDisease</th>\n",
       "      <th>Sex_int</th>\n",
       "      <th>ChestPainType_int</th>\n",
       "      <th>RestingECG_int</th>\n",
       "      <th>ExerciseAngina_int</th>\n",
       "      <th>ST_Slope_int</th>\n",
       "    </tr>\n",
       "  </thead>\n",
       "  <tbody>\n",
       "    <tr>\n",
       "      <th>0</th>\n",
       "      <td>-1.433140</td>\n",
       "      <td>M</td>\n",
       "      <td>ATA</td>\n",
       "      <td>0.410909</td>\n",
       "      <td>0.825070</td>\n",
       "      <td>0</td>\n",
       "      <td>Normal</td>\n",
       "      <td>1.382928</td>\n",
       "      <td>N</td>\n",
       "      <td>0.0</td>\n",
       "      <td>Up</td>\n",
       "      <td>0</td>\n",
       "      <td>1</td>\n",
       "      <td>1</td>\n",
       "      <td>1</td>\n",
       "      <td>0</td>\n",
       "      <td>2</td>\n",
       "    </tr>\n",
       "    <tr>\n",
       "      <th>1</th>\n",
       "      <td>-0.478484</td>\n",
       "      <td>F</td>\n",
       "      <td>NAP</td>\n",
       "      <td>1.491752</td>\n",
       "      <td>-0.171961</td>\n",
       "      <td>0</td>\n",
       "      <td>Normal</td>\n",
       "      <td>0.754157</td>\n",
       "      <td>N</td>\n",
       "      <td>1.0</td>\n",
       "      <td>Flat</td>\n",
       "      <td>1</td>\n",
       "      <td>0</td>\n",
       "      <td>2</td>\n",
       "      <td>1</td>\n",
       "      <td>0</td>\n",
       "      <td>1</td>\n",
       "    </tr>\n",
       "    <tr>\n",
       "      <th>2</th>\n",
       "      <td>-1.751359</td>\n",
       "      <td>M</td>\n",
       "      <td>ATA</td>\n",
       "      <td>-0.129513</td>\n",
       "      <td>0.770188</td>\n",
       "      <td>0</td>\n",
       "      <td>ST</td>\n",
       "      <td>-1.525138</td>\n",
       "      <td>N</td>\n",
       "      <td>0.0</td>\n",
       "      <td>Up</td>\n",
       "      <td>0</td>\n",
       "      <td>1</td>\n",
       "      <td>1</td>\n",
       "      <td>2</td>\n",
       "      <td>0</td>\n",
       "      <td>2</td>\n",
       "    </tr>\n",
       "    <tr>\n",
       "      <th>3</th>\n",
       "      <td>-0.584556</td>\n",
       "      <td>F</td>\n",
       "      <td>ASY</td>\n",
       "      <td>0.302825</td>\n",
       "      <td>0.139040</td>\n",
       "      <td>0</td>\n",
       "      <td>Normal</td>\n",
       "      <td>-1.132156</td>\n",
       "      <td>Y</td>\n",
       "      <td>1.5</td>\n",
       "      <td>Flat</td>\n",
       "      <td>1</td>\n",
       "      <td>0</td>\n",
       "      <td>0</td>\n",
       "      <td>1</td>\n",
       "      <td>1</td>\n",
       "      <td>1</td>\n",
       "    </tr>\n",
       "    <tr>\n",
       "      <th>4</th>\n",
       "      <td>0.051881</td>\n",
       "      <td>M</td>\n",
       "      <td>NAP</td>\n",
       "      <td>0.951331</td>\n",
       "      <td>-0.034755</td>\n",
       "      <td>0</td>\n",
       "      <td>Normal</td>\n",
       "      <td>-0.581981</td>\n",
       "      <td>N</td>\n",
       "      <td>0.0</td>\n",
       "      <td>Up</td>\n",
       "      <td>0</td>\n",
       "      <td>1</td>\n",
       "      <td>2</td>\n",
       "      <td>1</td>\n",
       "      <td>0</td>\n",
       "      <td>2</td>\n",
       "    </tr>\n",
       "  </tbody>\n",
       "</table>\n",
       "</div>"
      ],
      "text/plain": [
       "        Age Sex ChestPainType  RestingBP  Cholesterol  FastingBS RestingECG  \\\n",
       "0 -1.433140   M           ATA   0.410909     0.825070          0     Normal   \n",
       "1 -0.478484   F           NAP   1.491752    -0.171961          0     Normal   \n",
       "2 -1.751359   M           ATA  -0.129513     0.770188          0         ST   \n",
       "3 -0.584556   F           ASY   0.302825     0.139040          0     Normal   \n",
       "4  0.051881   M           NAP   0.951331    -0.034755          0     Normal   \n",
       "\n",
       "      MaxHR ExerciseAngina  Oldpeak ST_Slope  HeartDisease  Sex_int  \\\n",
       "0  1.382928              N      0.0       Up             0        1   \n",
       "1  0.754157              N      1.0     Flat             1        0   \n",
       "2 -1.525138              N      0.0       Up             0        1   \n",
       "3 -1.132156              Y      1.5     Flat             1        0   \n",
       "4 -0.581981              N      0.0       Up             0        1   \n",
       "\n",
       "   ChestPainType_int  RestingECG_int  ExerciseAngina_int  ST_Slope_int  \n",
       "0                  1               1                   0             2  \n",
       "1                  2               1                   0             1  \n",
       "2                  1               2                   0             2  \n",
       "3                  0               1                   1             1  \n",
       "4                  2               1                   0             2  "
      ]
     },
     "execution_count": 147,
     "metadata": {},
     "output_type": "execute_result"
    }
   ],
   "source": [
    "from sklearn.preprocessing import LabelEncoder\n",
    "from sklearn.preprocessing import StandardScaler\n",
    "\n",
    "df_imputed = copy.deepcopy(df)\n",
    "\n",
    "# define vars to encode as integer    \n",
    "encoders = dict()\n",
    "categorical_headers = [\n",
    "    'Sex',\n",
    "    'ChestPainType',\n",
    "    'RestingECG',\n",
    "    'ExerciseAngina',\n",
    "    'ST_Slope'\n",
    "]\n",
    "\n",
    "# train all encoders\n",
    "for col in categorical_headers:\n",
    "    df_imputed[col] = df_imputed[col].str.strip()\n",
    "    \n",
    "    if col == 'HeartDisease':\n",
    "        tmp = LabelEncoder()\n",
    "        df_imputed[col] = tmp.fit_transform(df_imputed[col])\n",
    "    else:\n",
    "        # integer encode strings that are features\n",
    "        encoders[col] = LabelEncoder() # save the encoder\n",
    "        df_imputed[col+'_int'] = encoders[col].fit_transform(df_imputed[col])\n",
    "\n",
    "# scale numeric, continuous variables\n",
    "numeric_headers = [\n",
    "    \"Age\", \n",
    "    \"RestingBP\", \n",
    "    \"Cholesterol\",\n",
    "    \"MaxHR\"\n",
    "]\n",
    "\n",
    "ss = StandardScaler()\n",
    "df_imputed[numeric_headers] = ss.fit_transform(df_imputed[numeric_headers])\n",
    "\n",
    "include_header =[\"FastingBS\",\"Oldpeak\"]\n",
    "df_imputed.head()"
   ]
  },
  {
   "attachments": {},
   "cell_type": "markdown",
   "id": "4eeacfe9",
   "metadata": {},
   "source": [
    "It should be noted that we encoded our categorical variables into integers. The column names will be denoted by their original name with \"_int\" added at the end, but their context to the dataset will not change. Below are the variables we will use throughout the lab."
   ]
  },
  {
   "cell_type": "code",
   "execution_count": 148,
   "id": "4c3e6f19",
   "metadata": {},
   "outputs": [
    {
     "name": "stdout",
     "output_type": "stream",
     "text": [
      "We will use the following 11 features:\n",
      "[   'Sex_int',\n",
      "    'ChestPainType_int',\n",
      "    'RestingECG_int',\n",
      "    'ExerciseAngina_int',\n",
      "    'ST_Slope_int',\n",
      "    'Age',\n",
      "    'RestingBP',\n",
      "    'Cholesterol',\n",
      "    'MaxHR',\n",
      "    'FastingBS',\n",
      "    'Oldpeak']\n"
     ]
    }
   ],
   "source": [
    "categorical_headers_ints = [x+'_int' for x in categorical_headers]\n",
    "feature_columns = categorical_headers_ints+numeric_headers+include_header\n",
    "\n",
    "import pprint\n",
    "pp = pprint.PrettyPrinter(indent=4)\n",
    "\n",
    "print(f\"We will use the following {len(feature_columns)} features:\")\n",
    "pp.pprint(feature_columns)"
   ]
  },
  {
   "cell_type": "code",
   "execution_count": 149,
   "id": "fa892117",
   "metadata": {},
   "outputs": [
    {
     "name": "stdout",
     "output_type": "stream",
     "text": [
      "\n",
      "Categorical String Headers:\n",
      "['Sex', 'ChestPainType', 'RestingECG', 'ExerciseAngina', 'ST_Slope']\n",
      "\n",
      "Categorical Headers, Encoded as Integer:\n",
      "[   'Sex_int',\n",
      "    'ChestPainType_int',\n",
      "    'RestingECG_int',\n",
      "    'ExerciseAngina_int',\n",
      "    'ST_Slope_int']\n"
     ]
    }
   ],
   "source": [
    "print(\"\\nCategorical String Headers:\")\n",
    "pp.pprint(categorical_headers) # string data\n",
    "\n",
    "print(\"\\nCategorical Headers, Encoded as Integer:\")\n",
    "pp.pprint(categorical_headers_ints) # string data encoded as an integer"
   ]
  },
  {
   "attachments": {},
   "cell_type": "markdown",
   "id": "1b52db25",
   "metadata": {},
   "source": [
    "### Cross Product Features"
   ]
  },
  {
   "attachments": {},
   "cell_type": "markdown",
   "id": "46cd667a",
   "metadata": {},
   "source": [
    "Our dataset has 12 features, but we will focus on the categorical features (excluding our target feature) to make 2 cross-product features. We will limit ourselves to 2 cross-product features since we don't want to overfit the model and negatively affect our model's performance.\n",
    "\n",
    "`ChestPainType` & `ExerciseAngina`: The `ChestPainType` features considers differents types of angina. By merging the `ChestPainType` and `ExerciseAngina`, we can explore if there is any correlation between the different angina types and whether they were caused by exercise.\n",
    "\n",
    "`FastingBS` & `RestingECG`: The changes in a patient's fasting blood sugar level can influence the heart's electrical activity. By combining these features, we hope to highlight any correlation between a patient's fasting blood sugar level and their electrocardiogram results."
   ]
  },
  {
   "attachments": {},
   "cell_type": "markdown",
   "id": "5bf66f90",
   "metadata": {},
   "source": [
    "### Evaluation Method"
   ]
  },
  {
   "attachments": {},
   "cell_type": "markdown",
   "id": "0aa8cca2",
   "metadata": {},
   "source": [
    "For evaluating our models' performance, we will not be using accuracy, since it is prone to being skewed depending on how balanced the dataset is, among other factors. Instead, we will be using the recall evalutuation method. We will use this method due to the medical nature of our dataset, making it necessary to account for true positives and false negatives. Predicting false negative have higher consequences in a medical dataset. Hence, Recall should be used instead of accuracy due to the importance of false negatives for this dataset."
   ]
  },
  {
   "attachments": {},
   "cell_type": "markdown",
   "id": "bf437a4d",
   "metadata": {},
   "source": [
    "### Dataset Splitting Method"
   ]
  },
  {
   "attachments": {},
   "cell_type": "markdown",
   "id": "b446802e",
   "metadata": {},
   "source": [
    "For this dataset, we will split it using the stratified 10-fold cross validation. Since we only have 918 observations, we need to maximize the use of our dataset. This method will also ensure that the subsets are as evenly distributed like the class ratio of the overall dataset. By using stratified 10-folds, we ensure that the sub-datasets will not be more unbalanced."
   ]
  },
  {
   "cell_type": "code",
   "execution_count": 150,
   "id": "29a53464",
   "metadata": {},
   "outputs": [
    {
     "name": "stdout",
     "output_type": "stream",
     "text": [
      "Number of observations in dataset: 918\n",
      "Number of features in dataset: 11\n",
      "Number of classes for the target feature (HeartDisease): 2\n"
     ]
    }
   ],
   "source": [
    "from sklearn.model_selection import StratifiedKFold, StratifiedShuffleSplit, cross_val_score\n",
    "\n",
    "# predict X and y data:\n",
    "X = df_imputed[feature_columns].to_numpy()\n",
    "y = df_imputed['HeartDisease'].values\n",
    "\n",
    "# get size of dataset, number of features, and number of classes\n",
    "n_samples, n_features = X.shape\n",
    "n_classes = len(np.unique(y))\n",
    "\n",
    "print(\"Number of observations in dataset: {}\".format(n_samples))\n",
    "print(\"Number of features in dataset: {}\".format(n_features))\n",
    "print(\"Number of classes for the target feature (HeartDisease): {}\".format(n_classes))"
   ]
  },
  {
   "cell_type": "code",
   "execution_count": 151,
   "id": "e8b074fc",
   "metadata": {},
   "outputs": [
    {
     "name": "stdout",
     "output_type": "stream",
     "text": [
      "Number of instances in each class:[410 508]\n"
     ]
    },
    {
     "data": {
      "image/png": "[encoded data removed]",
      "text/plain": [
       "<Figure size 1080x720 with 1 Axes>"
      ]
     },
     "metadata": {},
     "output_type": "display_data"
    }
   ],
   "source": [
    "import matplotlib.pyplot as plt\n",
    "\n",
    "get_ipython().run_line_magic('matplotlib', 'inline')\n",
    "plt.style.use('ggplot')\n",
    "\n",
    "print('Number of instances in each class:'+str(np.bincount(y)))\n",
    "\n",
    "# plot piechart of the number of instances in each class\n",
    "plt.figure(figsize=(15,10))\n",
    "plt.pie(np.bincount(y), labels=['No Heart Disease', 'Heart Disease'], autopct='%1.2f%%')\n",
    "plt.show()"
   ]
  },
  {
   "attachments": {},
   "cell_type": "markdown",
   "id": "46acd214",
   "metadata": {},
   "source": [
    "From the pie chart above, we observe that the dataset classes are unbalanced. There are more patients with the likelihood of having heart failure than those not likely to have heart disease. With stratified 10-fold cross validation, all of our subsets will have the same 55/44 class ratio to prevent it from becoming further unbalanced.\n",
    "\n",
    "Now, we will split our dataset."
   ]
  },
  {
   "cell_type": "code",
   "execution_count": 152,
   "id": "f61d13e5",
   "metadata": {},
   "outputs": [
    {
     "name": "stdout",
     "output_type": "stream",
     "text": [
      "StratifiedKFold(n_splits=10, random_state=None, shuffle=False)\n"
     ]
    }
   ],
   "source": [
    "num_cv_iterations = 10\n",
    "num_instances = len(y)\n",
    "cv_object = StratifiedKFold(n_splits=num_cv_iterations)\n",
    "                         \n",
    "print(cv_object)"
   ]
  },
  {
   "cell_type": "code",
   "execution_count": 153,
   "id": "c3dcb0e4",
   "metadata": {},
   "outputs": [],
   "source": [
    "import tensorflow as tf \n",
    "from tensorflow import keras\n",
    "from tensorflow.keras.layers import Dense, Activation, Input\n",
    "from tensorflow.keras.models import Model\n",
    "from sklearn import metrics as mt\n",
    "\n",
    "iter_num=0\n",
    "\n",
    "for train_indices, test_indices in cv_object.split(X,y): \n",
    "    X_train = X[train_indices]\n",
    "    y_train = y[train_indices]\n",
    "    \n",
    "    X_test = X[test_indices]\n",
    "    y_test = y[test_indices]\n"
   ]
  },
  {
   "cell_type": "code",
   "execution_count": 154,
   "id": "bc371e7a",
   "metadata": {},
   "outputs": [
    {
     "name": "stdout",
     "output_type": "stream",
     "text": [
      "Recall score average: 89.01960784313727\n"
     ]
    },
    {
     "data": {
      "image/png": "[encoded data removed]",
      "text/plain": [
       "<Figure size 720x720 with 1 Axes>"
      ]
     },
     "metadata": {},
     "output_type": "display_data"
    }
   ],
   "source": [
    "from sklearn.metrics import make_scorer, recall_score\n",
    "from sklearn.linear_model import LogisticRegression\n",
    "\n",
    "# select model\n",
    "clf = LogisticRegression()\n",
    "clf.fit(X,y)\n",
    "\n",
    "#select cross validation\n",
    "cv = StratifiedShuffleSplit(n_splits=10)\n",
    "# select evaluation criteria\n",
    "my_scorer = make_scorer(recall_score)\n",
    "\n",
    "# run model training and cross validation\n",
    "per_fold_eval_criteria = cross_val_score(estimator=clf,\n",
    "                                    X=X,\n",
    "                                    y=y,\n",
    "                                    cv=cv,\n",
    "                                    scoring=my_scorer\n",
    ")\n",
    "\n",
    "plt.figure(figsize=(10,10))\n",
    "plt.bar(range(len(per_fold_eval_criteria)),per_fold_eval_criteria)\n",
    "plt.ylim([min(per_fold_eval_criteria)-0.01,max(per_fold_eval_criteria)])\n",
    "\n",
    "# title and labels\n",
    "plt.title('Recall Score per Fold')\n",
    "plt.ylabel('Recall Score')\n",
    "plt.xlabel('Fold Number')\n",
    "\n",
    "print(f'Recall score average: {per_fold_eval_criteria.mean()*100}')\n",
    "plt.show()"
   ]
  },
  {
   "attachments": {},
   "cell_type": "markdown",
   "id": "a70afea1",
   "metadata": {},
   "source": [
    "Some of our folds have a recall value of 0.9. The closer to 1 the recall score is, the better our model's performance. Since our average recall value among the folds is in the high 0.8's, we can say that our model is performing well."
   ]
  },
  {
   "attachments": {},
   "cell_type": "markdown",
   "id": "b147127e",
   "metadata": {},
   "source": [
    "## Modeling"
   ]
  },
  {
   "attachments": {},
   "cell_type": "markdown",
   "id": "4d2ff73f",
   "metadata": {},
   "source": [
    "We will create five different wide and deep networks. The first three will consist of different cross-product features combinations.\n",
    "\n",
    "From these three models, we will choose the cross-product feature combination from the model that performed best and use it as input to the last two wide and deep neural networks, which will have a number of layers.\n",
    "\n",
    "Lastly, we will compare our best performing model from the five models to a deep network (without the wide branch.)"
   ]
  },
  {
   "attachments": {},
   "cell_type": "markdown",
   "id": "1b331162",
   "metadata": {},
   "source": [
    "### First Combination"
   ]
  },
  {
   "cell_type": "code",
   "execution_count": 156,
   "id": "43c05bfb",
   "metadata": {},
   "outputs": [],
   "source": [
    "from tensorflow.keras.layers import Embedding\n",
    "from tensorflow.keras.layers import concatenate\n",
    "\n",
    "cat_X = df_imputed[categorical_headers_ints].to_numpy()\n",
    "cat_y = df_imputed['HeartDisease'].values\n",
    "\n",
    "iter_num=0\n",
    "# the indices are the rows used for training and testing in each iteration\n",
    "for train_indices, test_indices in cv_object.split(cat_X,cat_y): \n",
    "    X_train_cat = cat_X[train_indices]\n",
    "    y_train_cat = cat_y[train_indices]\n",
    "    \n",
    "    X_test_cat = cat_X[test_indices]\n",
    "    y_test_cat = cat_y[test_indices]\n",
    "    \n",
    "num_X = df_imputed[categorical_headers_ints].to_numpy()\n",
    "num_y = df_imputed['HeartDisease'].values # get the labels we want\n",
    "\n",
    "iter_num=0\n",
    "# the indices are the rows used for training and testing in each iteration\n",
    "for train_indices, test_indices in cv_object.split(num_X,num_y): \n",
    "    X_train_num = num_X[train_indices]\n",
    "    y_train_num = num_y[train_indices]\n",
    "    \n",
    "    X_test_num = num_X[test_indices]\n",
    "    y_test_num = num_y[test_indices]"
   ]
  },
  {
   "cell_type": "code",
   "execution_count": 158,
   "id": "0c3e16b6",
   "metadata": {},
   "outputs": [
    {
     "name": "stdout",
     "output_type": "stream",
     "text": [
      "Sex has 2 unique values:\n",
      "['M' 'F']\n",
      "ChestPainType has 4 unique values:\n",
      "['ATA' 'NAP' 'ASY' 'TA']\n",
      "RestingECG has 3 unique values:\n",
      "['Normal' 'ST' 'LVH']\n",
      "ExerciseAngina has 2 unique values:\n",
      "['N' 'Y']\n",
      "ST_Slope has 3 unique values:\n",
      "['Up' 'Flat' 'Down']\n"
     ]
    }
   ],
   "source": [
    "for col in categorical_headers:\n",
    "    vals = df_imputed[col].unique()\n",
    "    print(col,'has', len(vals), 'unique values:')\n",
    "    print(vals)"
   ]
  },
  {
   "cell_type": "code",
   "execution_count": 159,
   "id": "07fed31e",
   "metadata": {},
   "outputs": [],
   "source": [
    "cross_columns = [['ST_Slope','RestingECG'],['ChestPainType','RestingECG']]\n",
    "\n",
    "# cross each set of columns in the list above\n",
    "cross_col_df_names = []\n",
    "for cols_list in cross_columns:\n",
    "    # encode as ints for the embedding\n",
    "    enc = LabelEncoder()\n",
    "    \n",
    "    # 1. create crossed labels by join operation\n",
    "    X_crossed_train = df_imputed[cols_list].apply(lambda x: '_'.join(x), axis=1)\n",
    "    \n",
    "    # get a nice name for this new crossed column\n",
    "    cross_col_name = '_'.join(cols_list)\n",
    "    \n",
    "    # 2. encode as integers\n",
    "    enc.fit(np.hstack((X_crossed_train.to_numpy())))\n",
    "    \n",
    "    # 3. Save into dataframe with new name\n",
    "    df_imputed[cross_col_name] = enc.transform(X_crossed_train)\n",
    "    \n",
    "    # keep track of the new names of the crossed columns\n",
    "    cross_col_df_names.append(cross_col_name) "
   ]
  },
  {
   "cell_type": "code",
   "execution_count": 160,
   "id": "538ec829",
   "metadata": {},
   "outputs": [],
   "source": [
    "cross_X = df_imputed[cross_col_df_names].to_numpy()\n",
    "cross_y = df_imputed['HeartDisease'].values\n",
    "\n",
    "iter_num=0\n",
    "# the indices are the rows used for training and testing in each iteration\n",
    "for train_indices, test_indices in cv_object.split(cross_X,cross_y): \n",
    "    X_train_crossed = cross_X[train_indices]\n",
    "    y_train_crossed = cross_y[train_indices]\n",
    "    \n",
    "    X_test_crossed = cross_X[test_indices]\n",
    "    y_test_crossed = cross_y[test_indices]"
   ]
  },
  {
   "cell_type": "code",
   "execution_count": 161,
   "id": "33a611b0",
   "metadata": {},
   "outputs": [],
   "source": [
    "crossed_outputs = []\n",
    "\n",
    "# CROSSED DATA INPUT\n",
    "input_crossed = Input(shape=(X_train_crossed.shape[1],), dtype='int64', name='wide_inputs')\n",
    "for idx,col in enumerate(cross_col_df_names):\n",
    "    N = df_imputed[col].max()+1\n",
    "    \n",
    "    # this line of code does this: input_branch[:,idx]\n",
    "    x = tf.gather(input_crossed, idx, axis=1)\n",
    "    \n",
    "    # now use an embedding to deal with integers as if they were one hot encoded\n",
    "    x = Embedding(input_dim=N, \n",
    "                  output_dim=int(np.sqrt(N)), \n",
    "                  input_length=1, name=col+'_embed')(x)\n",
    "    \n",
    "    # save these outputs to concatenate later\n",
    "    crossed_outputs.append(x)\n",
    "    \n",
    "\n",
    "# now concatenate the outputs and add a fully connected layer\n",
    "wide_branch = concatenate(crossed_outputs, name='wide_concat')\n",
    "\n",
    "# reset this input branch\n",
    "all_deep_branch_outputs = []\n",
    "\n",
    "# CATEGORICAL DATA INPUT\n",
    "input_cat = Input(shape=(X_train_cat.shape[1],), dtype='int64', name='categorical_input')\n",
    "for idx,col in enumerate(categorical_headers_ints):\n",
    "    N = df_imputed[col].max()+1\n",
    "    \n",
    "    # this line of code does this: input_branch[:,idx]\n",
    "    x = tf.gather(input_cat, idx, axis=1)\n",
    "    \n",
    "    # now use an embedding to deal with integers as if they were one hot encoded\n",
    "    x = Embedding(input_dim=N, \n",
    "                  output_dim=int(np.sqrt(N)), \n",
    "                  input_length=1, name=col+'_embed')(x)\n",
    "    \n",
    "    # save these outputs to concatenate later\n",
    "    all_deep_branch_outputs.append(x)\n",
    "    \n",
    "# create dense input branch for numeric\n",
    "input_num = Input(shape=(X_train_num.shape[1],), name='numeric')\n",
    "x_dense = Dense(units=22, activation='relu',name='num_1')(input_num)\n",
    "    \n",
    "all_deep_branch_outputs.append(x_dense)\n",
    "\n",
    "# merge the deep branches together\n",
    "deep_branch = concatenate(all_deep_branch_outputs,name='concat_embeds')\n",
    "deep_branch = Dense(units=50,activation='relu', name='deep1')(deep_branch)\n",
    "deep_branch = Dense(units=25,activation='relu', name='deep2')(deep_branch)\n",
    "deep_branch = Dense(units=10,activation='relu', name='deep3')(deep_branch)\n",
    "    \n",
    "# merge the deep and wide branch\n",
    "final_branch = concatenate([wide_branch, deep_branch],\n",
    "                           name='concat_deep_wide')\n",
    "final_branch = Dense(units=1,activation='sigmoid',\n",
    "                     name='combined')(final_branch)\n",
    "\n",
    "model = Model(inputs=[input_crossed,input_cat,input_num], \n",
    "              outputs=final_branch)"
   ]
  },
  {
   "cell_type": "code",
   "execution_count": 162,
   "id": "1655a8bd",
   "metadata": {},
   "outputs": [
    {
     "name": "stdout",
     "output_type": "stream",
     "text": [
      "You must install pydot (`pip install pydot`) and install graphviz (see instructions at https://graphviz.gitlab.io/download/) for plot_model to work.\n",
      "Model: \"model_11\"\n",
      "__________________________________________________________________________________________________\n",
      " Layer (type)                   Output Shape         Param #     Connected to                     \n",
      "==================================================================================================\n",
      " categorical_input (InputLayer)  [(None, 5)]         0           []                               \n",
      "                                                                                                  \n",
      " tf.compat.v1.gather_109 (TFOpL  (None,)             0           ['categorical_input[0][0]']      \n",
      " ambda)                                                                                           \n",
      "                                                                                                  \n",
      " tf.compat.v1.gather_110 (TFOpL  (None,)             0           ['categorical_input[0][0]']      \n",
      " ambda)                                                                                           \n",
      "                                                                                                  \n",
      " tf.compat.v1.gather_111 (TFOpL  (None,)             0           ['categorical_input[0][0]']      \n",
      " ambda)                                                                                           \n",
      "                                                                                                  \n",
      " tf.compat.v1.gather_112 (TFOpL  (None,)             0           ['categorical_input[0][0]']      \n",
      " ambda)                                                                                           \n",
      "                                                                                                  \n",
      " tf.compat.v1.gather_113 (TFOpL  (None,)             0           ['categorical_input[0][0]']      \n",
      " ambda)                                                                                           \n",
      "                                                                                                  \n",
      " numeric (InputLayer)           [(None, 5)]          0           []                               \n",
      "                                                                                                  \n",
      " Sex_int_embed (Embedding)      (None, 1)            2           ['tf.compat.v1.gather_109[0][0]']\n",
      "                                                                                                  \n",
      " ChestPainType_int_embed (Embed  (None, 2)           8           ['tf.compat.v1.gather_110[0][0]']\n",
      " ding)                                                                                            \n",
      "                                                                                                  \n",
      " RestingECG_int_embed (Embeddin  (None, 1)           3           ['tf.compat.v1.gather_111[0][0]']\n",
      " g)                                                                                               \n",
      "                                                                                                  \n",
      " ExerciseAngina_int_embed (Embe  (None, 1)           2           ['tf.compat.v1.gather_112[0][0]']\n",
      " dding)                                                                                           \n",
      "                                                                                                  \n",
      " ST_Slope_int_embed (Embedding)  (None, 1)           3           ['tf.compat.v1.gather_113[0][0]']\n",
      "                                                                                                  \n",
      " num_1 (Dense)                  (None, 22)           132         ['numeric[0][0]']                \n",
      "                                                                                                  \n",
      " wide_inputs (InputLayer)       [(None, 2)]          0           []                               \n",
      "                                                                                                  \n",
      " concat_embeds (Concatenate)    (None, 28)           0           ['Sex_int_embed[0][0]',          \n",
      "                                                                  'ChestPainType_int_embed[0][0]',\n",
      "                                                                  'RestingECG_int_embed[0][0]',   \n",
      "                                                                  'ExerciseAngina_int_embed[0][0]'\n",
      "                                                                 , 'ST_Slope_int_embed[0][0]',    \n",
      "                                                                  'num_1[0][0]']                  \n",
      "                                                                                                  \n",
      " tf.compat.v1.gather_107 (TFOpL  (None,)             0           ['wide_inputs[0][0]']            \n",
      " ambda)                                                                                           \n",
      "                                                                                                  \n",
      " tf.compat.v1.gather_108 (TFOpL  (None,)             0           ['wide_inputs[0][0]']            \n",
      " ambda)                                                                                           \n",
      "                                                                                                  \n",
      " deep1 (Dense)                  (None, 50)           1450        ['concat_embeds[0][0]']          \n",
      "                                                                                                  \n",
      " ST_Slope_RestingECG_embed (Emb  (None, 3)           27          ['tf.compat.v1.gather_107[0][0]']\n",
      " edding)                                                                                          \n",
      "                                                                                                  \n",
      " ChestPainType_RestingECG_embed  (None, 3)           36          ['tf.compat.v1.gather_108[0][0]']\n",
      "  (Embedding)                                                                                     \n",
      "                                                                                                  \n",
      " deep2 (Dense)                  (None, 25)           1275        ['deep1[0][0]']                  \n",
      "                                                                                                  \n",
      " wide_concat (Concatenate)      (None, 6)            0           ['ST_Slope_RestingECG_embed[0][0]\n",
      "                                                                 ',                               \n",
      "                                                                  'ChestPainType_RestingECG_embed[\n",
      "                                                                 0][0]']                          \n",
      "                                                                                                  \n",
      " deep3 (Dense)                  (None, 10)           260         ['deep2[0][0]']                  \n",
      "                                                                                                  \n",
      " concat_deep_wide (Concatenate)  (None, 16)          0           ['wide_concat[0][0]',            \n",
      "                                                                  'deep3[0][0]']                  \n",
      "                                                                                                  \n",
      " combined (Dense)               (None, 1)            17          ['concat_deep_wide[0][0]']       \n",
      "                                                                                                  \n",
      "==================================================================================================\n",
      "Total params: 3,215\n",
      "Trainable params: 3,215\n",
      "Non-trainable params: 0\n",
      "__________________________________________________________________________________________________\n"
     ]
    }
   ],
   "source": [
    "from tensorflow.keras.utils import plot_model \n",
    "\n",
    "plot_model(\n",
    "    model, to_file='model.png', show_shapes=True, show_layer_names=True,\n",
    "    rankdir='LR', expand_nested=False, dpi=96\n",
    ")\n",
    "\n",
    "model.summary()"
   ]
  },
  {
   "cell_type": "code",
   "execution_count": 163,
   "id": "1cd0fec4",
   "metadata": {},
   "outputs": [
    {
     "name": "stdout",
     "output_type": "stream",
     "text": [
      "Epoch 1/15\n",
      "26/26 [==============================] - 2s 13ms/step - loss: 0.2465 - recall_11: 0.8253 - auc_11: 0.6202 - val_loss: 0.2425 - val_recall_11: 0.8800 - val_auc_11: 0.7541\n",
      "Epoch 2/15\n",
      "26/26 [==============================] - 0s 3ms/step - loss: 0.2275 - recall_11: 0.8734 - auc_11: 0.8781 - val_loss: 0.2238 - val_recall_11: 0.7400 - val_auc_11: 0.8251\n",
      "Epoch 3/15\n",
      "26/26 [==============================] - 0s 3ms/step - loss: 0.1846 - recall_11: 0.8734 - auc_11: 0.8888 - val_loss: 0.1833 - val_recall_11: 0.7000 - val_auc_11: 0.8385\n",
      "Epoch 4/15\n",
      "26/26 [==============================] - 0s 3ms/step - loss: 0.1331 - recall_11: 0.8428 - auc_11: 0.9002 - val_loss: 0.1510 - val_recall_11: 0.7400 - val_auc_11: 0.8673\n",
      "Epoch 5/15\n",
      "26/26 [==============================] - 0s 3ms/step - loss: 0.1156 - recall_11: 0.8734 - auc_11: 0.9059 - val_loss: 0.1486 - val_recall_11: 0.7400 - val_auc_11: 0.8754\n",
      "Epoch 6/15\n",
      "26/26 [==============================] - 0s 3ms/step - loss: 0.1129 - recall_11: 0.8799 - auc_11: 0.9076 - val_loss: 0.1431 - val_recall_11: 0.7400 - val_auc_11: 0.8751\n",
      "Epoch 7/15\n",
      "26/26 [==============================] - 0s 3ms/step - loss: 0.1133 - recall_11: 0.8668 - auc_11: 0.9082 - val_loss: 0.1408 - val_recall_11: 0.8000 - val_auc_11: 0.8788\n",
      "Epoch 8/15\n",
      "26/26 [==============================] - 0s 3ms/step - loss: 0.1099 - recall_11: 0.8734 - auc_11: 0.9124 - val_loss: 0.1414 - val_recall_11: 0.7600 - val_auc_11: 0.8785\n",
      "Epoch 9/15\n",
      "26/26 [==============================] - 0s 5ms/step - loss: 0.1070 - recall_11: 0.8843 - auc_11: 0.9158 - val_loss: 0.1449 - val_recall_11: 0.7400 - val_auc_11: 0.8783\n",
      "Epoch 10/15\n",
      "26/26 [==============================] - 0s 4ms/step - loss: 0.1059 - recall_11: 0.8865 - auc_11: 0.9189 - val_loss: 0.1438 - val_recall_11: 0.7400 - val_auc_11: 0.8827\n",
      "Epoch 11/15\n",
      "26/26 [==============================] - 0s 3ms/step - loss: 0.1050 - recall_11: 0.8865 - auc_11: 0.9210 - val_loss: 0.1454 - val_recall_11: 0.7400 - val_auc_11: 0.8795\n",
      "Epoch 12/15\n",
      "26/26 [==============================] - 0s 3ms/step - loss: 0.1041 - recall_11: 0.8821 - auc_11: 0.9212 - val_loss: 0.1435 - val_recall_11: 0.7400 - val_auc_11: 0.8863\n",
      "Epoch 13/15\n",
      "26/26 [==============================] - 0s 3ms/step - loss: 0.1035 - recall_11: 0.8843 - auc_11: 0.9216 - val_loss: 0.1426 - val_recall_11: 0.7400 - val_auc_11: 0.8873\n",
      "Epoch 14/15\n",
      "26/26 [==============================] - 0s 3ms/step - loss: 0.1034 - recall_11: 0.8821 - auc_11: 0.9226 - val_loss: 0.1423 - val_recall_11: 0.7200 - val_auc_11: 0.8861\n",
      "Epoch 15/15\n",
      "26/26 [==============================] - 0s 3ms/step - loss: 0.1025 - recall_11: 0.8821 - auc_11: 0.9234 - val_loss: 0.1449 - val_recall_11: 0.7200 - val_auc_11: 0.8822\n"
     ]
    }
   ],
   "source": [
    "from tensorflow.keras.metrics import Recall\n",
    "from tensorflow.keras.metrics import AUC\n",
    "\n",
    "model.compile(optimizer='adam',\n",
    "              loss='mean_squared_error',\n",
    "              metrics=[Recall(),AUC(from_logits=True)])\n",
    "\n",
    "history1 = model.fit([X_train_crossed,X_train_cat,X_train_num],\n",
    "                    y_train, \n",
    "                    epochs=15, \n",
    "                    batch_size=32, \n",
    "                    verbose=1, \n",
    "                    validation_data = ([X_test_crossed,X_test_cat,X_test_num],y_test))"
   ]
  },
  {
   "cell_type": "code",
   "execution_count": 164,
   "id": "9f9fe5b7",
   "metadata": {},
   "outputs": [
    {
     "name": "stdout",
     "output_type": "stream",
     "text": [
      "3/3 [==============================] - 0s 4ms/step\n"
     ]
    },
    {
     "data": {
      "text/plain": [
       "<Axes: >"
      ]
     },
     "execution_count": 164,
     "metadata": {},
     "output_type": "execute_result"
    },
    {
     "data": {
      "image/png": "[encoded data removed]",
      "text/plain": [
       "<Figure size 720x576 with 2 Axes>"
      ]
     },
     "metadata": {},
     "output_type": "display_data"
    }
   ],
   "source": [
    "from sklearn.metrics import confusion_matrix\n",
    "import seaborn as sns\n",
    "\n",
    "yhat1 = np.round(model.predict([X_test_crossed,X_test_cat,X_test_num]))\n",
    "\n",
    "# create confusion matrix\n",
    "cf_matrix = confusion_matrix(y_test, yhat1)\n",
    "\n",
    "# create number of values in each group\n",
    "group_counts = [\"{0:0.0f}\".format(value) for value in\n",
    "                cf_matrix.flatten()]\n",
    "\n",
    "# create percentages of each group\n",
    "group_percentages = [\"{0:.2%}\".format(value) for value in\n",
    "                    cf_matrix.flatten()/np.sum(cf_matrix)]\n",
    "\n",
    "# create labels\n",
    "group_names = ['True Negative', 'False Positive', 'False Negative', 'True Positive']\n",
    "labels = [f\"{v1}\\n{v2}\\n{v3}\" for v1, v2, v3 in\n",
    "          zip(group_names,group_counts,group_percentages)]\n",
    "labels = np.asarray(labels).reshape(2,2)\n",
    "\n",
    "plt.figure(figsize=(10,8))\n",
    "sns.heatmap(cf_matrix, annot=labels, fmt='')"
   ]
  },
  {
   "cell_type": "code",
   "execution_count": 165,
   "id": "0a40cbd0",
   "metadata": {},
   "outputs": [
    {
     "name": "stdout",
     "output_type": "stream",
     "text": [
      "['loss', 'recall_11', 'auc_11', 'val_loss', 'val_recall_11', 'val_auc_11']\n"
     ]
    }
   ],
   "source": [
    "hist1Keys = list(history1.history.keys())\n",
    "print(hist1Keys)"
   ]
  },
  {
   "cell_type": "code",
   "execution_count": 166,
   "id": "885b608c",
   "metadata": {},
   "outputs": [
    {
     "data": {
      "text/plain": [
       "Text(0.5, 0, 'epochs')"
      ]
     },
     "execution_count": 166,
     "metadata": {},
     "output_type": "execute_result"
    },
    {
     "data": {
      "image/png": "[encoded data removed]",
      "text/plain": [
       "<Figure size 720x288 with 4 Axes>"
      ]
     },
     "metadata": {
      "needs_background": "light"
     },
     "output_type": "display_data"
    }
   ],
   "source": [
    "get_ipython().run_line_magic('matplotlib', 'inline')\n",
    "\n",
    "plt.figure(figsize=(10,4))\n",
    "plt.subplot(2,2,1)\n",
    "plt.plot(history1.history[hist1Keys[1]])\n",
    "\n",
    "plt.ylabel('Recall')\n",
    "plt.title('Training')\n",
    "plt.subplot(2,2,2)\n",
    "plt.plot(history1.history[hist1Keys[4]])\n",
    "plt.title('Validation')\n",
    "\n",
    "plt.subplot(2,2,3)\n",
    "plt.plot(history1.history[hist1Keys[0]])\n",
    "plt.ylabel('Training Loss')\n",
    "plt.xlabel('epochs')\n",
    "\n",
    "plt.subplot(2,2,4)\n",
    "plt.plot(history1.history[hist1Keys[3]])\n",
    "plt.xlabel('epochs')\n"
   ]
  },
  {
   "cell_type": "code",
   "execution_count": 167,
   "id": "25d9efeb",
   "metadata": {},
   "outputs": [
    {
     "name": "stdout",
     "output_type": "stream",
     "text": [
      "              precision    recall  f1-score   support\n",
      "\n",
      "           0       0.71      0.83      0.76        41\n",
      "           1       0.84      0.72      0.77        50\n",
      "\n",
      "    accuracy                           0.77        91\n",
      "   macro avg       0.77      0.77      0.77        91\n",
      "weighted avg       0.78      0.77      0.77        91\n",
      "\n",
      "Model Accuracy:  0.7692307692307693\n"
     ]
    }
   ],
   "source": [
    "print(mt.classification_report(y_test,yhat1))\n",
    "print(\"Model Accuracy: \",mt.accuracy_score(y_test,yhat1))"
   ]
  },
  {
   "attachments": {},
   "cell_type": "markdown",
   "id": "28df765d",
   "metadata": {},
   "source": [
    "### Second Combination"
   ]
  },
  {
   "cell_type": "code",
   "execution_count": 168,
   "id": "01453a32",
   "metadata": {},
   "outputs": [],
   "source": [
    "cross_columns = [\n",
    "    ['ChestPainType','RestingECG'],\n",
    "    ['Sex','ExerciseAngina','ST_Slope']\n",
    "]\n",
    "\n",
    "# cross each set of columns in the list above\n",
    "cross_col_df_names = []\n",
    "for cols_list in cross_columns:\n",
    "    # encode as ints for the embedding\n",
    "    enc = LabelEncoder()\n",
    "    \n",
    "    # 1. create crossed labels by join operation\n",
    "    X_crossed_train = df_imputed[cols_list].apply(lambda x: '_'.join(x), axis=1)\n",
    "    \n",
    "    # get a nice name for this new crossed column\n",
    "    cross_col_name = '_'.join(cols_list)\n",
    "    \n",
    "    # 2. encode as integers\n",
    "    enc.fit(np.hstack((X_crossed_train.to_numpy())))\n",
    "    \n",
    "    # 3. Save into dataframe with new name\n",
    "    df_imputed[cross_col_name] = enc.transform(X_crossed_train)\n",
    "    \n",
    "    # keep track of the new names of the crossed columns\n",
    "    cross_col_df_names.append(cross_col_name) "
   ]
  },
  {
   "cell_type": "code",
   "execution_count": 169,
   "id": "2344b582",
   "metadata": {},
   "outputs": [],
   "source": [
    "cross_X = df_imputed[cross_col_df_names].to_numpy()\n",
    "cross_y = df_imputed['HeartDisease'].values\n",
    "\n",
    "iter_num=0\n",
    "# the indices are the rows used for training and testing in each iteration\n",
    "for train_indices, test_indices in cv_object.split(cross_X,cross_y): \n",
    "    X_train_crossed = cross_X[train_indices]\n",
    "    y_train_crossed = cross_y[train_indices]\n",
    "    \n",
    "    X_test_crossed = cross_X[test_indices]\n",
    "    y_test_crossed = cross_y[test_indices]"
   ]
  },
  {
   "cell_type": "code",
   "execution_count": 170,
   "id": "8243766e",
   "metadata": {},
   "outputs": [],
   "source": [
    "crossed_outputs = []\n",
    "\n",
    "# CROSSED DATA INPUT\n",
    "input_crossed = Input(shape=(X_train_crossed.shape[1],), dtype='int64', name='wide_inputs')\n",
    "for idx,col in enumerate(cross_col_df_names):\n",
    "    N = df_imputed[col].max()+1\n",
    "    \n",
    "    # this line of code does this: input_branch[:,idx]\n",
    "    x = tf.gather(input_crossed, idx, axis=1)\n",
    "    \n",
    "    # now use an embedding to deal with integers as if they were one hot encoded\n",
    "    x = Embedding(input_dim=N, \n",
    "                  output_dim=int(np.sqrt(N)), \n",
    "                  input_length=1, name=col+'_embed')(x)\n",
    "    \n",
    "    # save these outputs to concatenate later\n",
    "    crossed_outputs.append(x)\n",
    "\n",
    "# now concatenate the outputs and add a fully connected layer\n",
    "wide_branch = concatenate(crossed_outputs, name='wide_concat')\n",
    "\n",
    "# reset this input branch\n",
    "all_deep_branch_outputs = []\n",
    "\n",
    "# CATEGORICAL DATA INPUT\n",
    "input_cat = Input(shape=(X_train_cat.shape[1],), dtype='int64', name='categorical_input')\n",
    "for idx,col in enumerate(categorical_headers_ints):\n",
    "    N = df_imputed[col].max()+1\n",
    "    \n",
    "    # this line of code does this: input_branch[:,idx]\n",
    "    x = tf.gather(input_cat, idx, axis=1)\n",
    "    \n",
    "    # now use an embedding to deal with integers as if they were one hot encoded\n",
    "    x = Embedding(input_dim=N, \n",
    "                  output_dim=int(np.sqrt(N)), \n",
    "                  input_length=1, name=col+'_embed')(x)\n",
    "    \n",
    "    # save these outputs to concatenate later\n",
    "    all_deep_branch_outputs.append(x)\n",
    "\n",
    "# create dense input branch for numeric\n",
    "input_num = Input(shape=(X_train_num.shape[1],), name='numeric')\n",
    "x_dense = Dense(units=22, activation='relu',name='num_1')(input_num)\n",
    "    \n",
    "all_deep_branch_outputs.append(x_dense)\n",
    "\n",
    "# merge the deep branches together\n",
    "deep_branch = concatenate(all_deep_branch_outputs,name='concat_embeds')\n",
    "deep_branch = Dense(units=50,activation='relu', name='deep1')(deep_branch)\n",
    "deep_branch = Dense(units=25,activation='relu', name='deep2')(deep_branch)\n",
    "deep_branch = Dense(units=10,activation='relu', name='deep3')(deep_branch)\n",
    "    \n",
    "# merge the deep and wide branch\n",
    "final_branch = concatenate([wide_branch, deep_branch],\n",
    "                           name='concat_deep_wide')\n",
    "final_branch = Dense(units=1,activation='sigmoid',\n",
    "                     name='combined')(final_branch)\n",
    "\n",
    "model = Model(inputs=[input_crossed,input_cat,input_num], \n",
    "              outputs=final_branch)"
   ]
  },
  {
   "cell_type": "code",
   "execution_count": 171,
   "id": "e79d5000",
   "metadata": {},
   "outputs": [
    {
     "name": "stdout",
     "output_type": "stream",
     "text": [
      "You must install pydot (`pip install pydot`) and install graphviz (see instructions at https://graphviz.gitlab.io/download/) for plot_model to work.\n",
      "Model: \"model_12\"\n",
      "__________________________________________________________________________________________________\n",
      " Layer (type)                   Output Shape         Param #     Connected to                     \n",
      "==================================================================================================\n",
      " categorical_input (InputLayer)  [(None, 5)]         0           []                               \n",
      "                                                                                                  \n",
      " tf.compat.v1.gather_116 (TFOpL  (None,)             0           ['categorical_input[0][0]']      \n",
      " ambda)                                                                                           \n",
      "                                                                                                  \n",
      " tf.compat.v1.gather_117 (TFOpL  (None,)             0           ['categorical_input[0][0]']      \n",
      " ambda)                                                                                           \n",
      "                                                                                                  \n",
      " tf.compat.v1.gather_118 (TFOpL  (None,)             0           ['categorical_input[0][0]']      \n",
      " ambda)                                                                                           \n",
      "                                                                                                  \n",
      " tf.compat.v1.gather_119 (TFOpL  (None,)             0           ['categorical_input[0][0]']      \n",
      " ambda)                                                                                           \n",
      "                                                                                                  \n",
      " tf.compat.v1.gather_120 (TFOpL  (None,)             0           ['categorical_input[0][0]']      \n",
      " ambda)                                                                                           \n",
      "                                                                                                  \n",
      " numeric (InputLayer)           [(None, 5)]          0           []                               \n",
      "                                                                                                  \n",
      " Sex_int_embed (Embedding)      (None, 1)            2           ['tf.compat.v1.gather_116[0][0]']\n",
      "                                                                                                  \n",
      " ChestPainType_int_embed (Embed  (None, 2)           8           ['tf.compat.v1.gather_117[0][0]']\n",
      " ding)                                                                                            \n",
      "                                                                                                  \n",
      " RestingECG_int_embed (Embeddin  (None, 1)           3           ['tf.compat.v1.gather_118[0][0]']\n",
      " g)                                                                                               \n",
      "                                                                                                  \n",
      " ExerciseAngina_int_embed (Embe  (None, 1)           2           ['tf.compat.v1.gather_119[0][0]']\n",
      " dding)                                                                                           \n",
      "                                                                                                  \n",
      " ST_Slope_int_embed (Embedding)  (None, 1)           3           ['tf.compat.v1.gather_120[0][0]']\n",
      "                                                                                                  \n",
      " num_1 (Dense)                  (None, 22)           132         ['numeric[0][0]']                \n",
      "                                                                                                  \n",
      " wide_inputs (InputLayer)       [(None, 2)]          0           []                               \n",
      "                                                                                                  \n",
      " concat_embeds (Concatenate)    (None, 28)           0           ['Sex_int_embed[0][0]',          \n",
      "                                                                  'ChestPainType_int_embed[0][0]',\n",
      "                                                                  'RestingECG_int_embed[0][0]',   \n",
      "                                                                  'ExerciseAngina_int_embed[0][0]'\n",
      "                                                                 , 'ST_Slope_int_embed[0][0]',    \n",
      "                                                                  'num_1[0][0]']                  \n",
      "                                                                                                  \n",
      " tf.compat.v1.gather_114 (TFOpL  (None,)             0           ['wide_inputs[0][0]']            \n",
      " ambda)                                                                                           \n",
      "                                                                                                  \n",
      " tf.compat.v1.gather_115 (TFOpL  (None,)             0           ['wide_inputs[0][0]']            \n",
      " ambda)                                                                                           \n",
      "                                                                                                  \n",
      " deep1 (Dense)                  (None, 50)           1450        ['concat_embeds[0][0]']          \n",
      "                                                                                                  \n",
      " ChestPainType_RestingECG_embed  (None, 3)           36          ['tf.compat.v1.gather_114[0][0]']\n",
      "  (Embedding)                                                                                     \n",
      "                                                                                                  \n",
      " Sex_ExerciseAngina_ST_Slope_em  (None, 3)           36          ['tf.compat.v1.gather_115[0][0]']\n",
      " bed (Embedding)                                                                                  \n",
      "                                                                                                  \n",
      " deep2 (Dense)                  (None, 25)           1275        ['deep1[0][0]']                  \n",
      "                                                                                                  \n",
      " wide_concat (Concatenate)      (None, 6)            0           ['ChestPainType_RestingECG_embed[\n",
      "                                                                 0][0]',                          \n",
      "                                                                  'Sex_ExerciseAngina_ST_Slope_emb\n",
      "                                                                 ed[0][0]']                       \n",
      "                                                                                                  \n",
      " deep3 (Dense)                  (None, 10)           260         ['deep2[0][0]']                  \n",
      "                                                                                                  \n",
      " concat_deep_wide (Concatenate)  (None, 16)          0           ['wide_concat[0][0]',            \n",
      "                                                                  'deep3[0][0]']                  \n",
      "                                                                                                  \n",
      " combined (Dense)               (None, 1)            17          ['concat_deep_wide[0][0]']       \n",
      "                                                                                                  \n",
      "==================================================================================================\n",
      "Total params: 3,224\n",
      "Trainable params: 3,224\n",
      "Non-trainable params: 0\n",
      "__________________________________________________________________________________________________\n"
     ]
    }
   ],
   "source": [
    "plot_model(\n",
    "    model, to_file='model.png', show_shapes=True, show_layer_names=True,\n",
    "    rankdir='LR', expand_nested=False, dpi=96\n",
    ")\n",
    "\n",
    "model.summary()"
   ]
  },
  {
   "cell_type": "code",
   "execution_count": 172,
   "id": "3645d440",
   "metadata": {},
   "outputs": [
    {
     "name": "stdout",
     "output_type": "stream",
     "text": [
      "Epoch 1/15\n",
      "26/26 [==============================] - 2s 12ms/step - loss: 0.2271 - recall_12: 0.3537 - auc_12: 0.8566 - val_loss: 0.2194 - val_recall_12: 0.4800 - val_auc_12: 0.8512\n",
      "Epoch 2/15\n",
      "26/26 [==============================] - 0s 3ms/step - loss: 0.1931 - recall_12: 0.7052 - auc_12: 0.8942 - val_loss: 0.1954 - val_recall_12: 0.6600 - val_auc_12: 0.8727\n",
      "Epoch 3/15\n",
      "26/26 [==============================] - 0s 3ms/step - loss: 0.1590 - recall_12: 0.8188 - auc_12: 0.9040 - val_loss: 0.1654 - val_recall_12: 0.7200 - val_auc_12: 0.8700\n",
      "Epoch 4/15\n",
      "26/26 [==============================] - 0s 3ms/step - loss: 0.1273 - recall_12: 0.8777 - auc_12: 0.9057 - val_loss: 0.1519 - val_recall_12: 0.7200 - val_auc_12: 0.8795\n",
      "Epoch 5/15\n",
      "26/26 [==============================] - 0s 3ms/step - loss: 0.1132 - recall_12: 0.8821 - auc_12: 0.9079 - val_loss: 0.1431 - val_recall_12: 0.8000 - val_auc_12: 0.8829\n",
      "Epoch 6/15\n",
      "26/26 [==============================] - 0s 4ms/step - loss: 0.1097 - recall_12: 0.8843 - auc_12: 0.9140 - val_loss: 0.1403 - val_recall_12: 0.8000 - val_auc_12: 0.8810\n",
      "Epoch 7/15\n",
      "26/26 [==============================] - 0s 3ms/step - loss: 0.1091 - recall_12: 0.8930 - auc_12: 0.9162 - val_loss: 0.1408 - val_recall_12: 0.8000 - val_auc_12: 0.8866\n",
      "Epoch 8/15\n",
      "26/26 [==============================] - 0s 3ms/step - loss: 0.1092 - recall_12: 0.8930 - auc_12: 0.9129 - val_loss: 0.1424 - val_recall_12: 0.7600 - val_auc_12: 0.8837\n",
      "Epoch 9/15\n",
      "26/26 [==============================] - 0s 3ms/step - loss: 0.1059 - recall_12: 0.8821 - auc_12: 0.9214 - val_loss: 0.1375 - val_recall_12: 0.8200 - val_auc_12: 0.8844\n",
      "Epoch 10/15\n",
      "26/26 [==============================] - 0s 3ms/step - loss: 0.1063 - recall_12: 0.9061 - auc_12: 0.9203 - val_loss: 0.1458 - val_recall_12: 0.7400 - val_auc_12: 0.8895\n",
      "Epoch 11/15\n",
      "26/26 [==============================] - 0s 3ms/step - loss: 0.1063 - recall_12: 0.8843 - auc_12: 0.9195 - val_loss: 0.1464 - val_recall_12: 0.7600 - val_auc_12: 0.8873\n",
      "Epoch 12/15\n",
      "26/26 [==============================] - 0s 3ms/step - loss: 0.1038 - recall_12: 0.8843 - auc_12: 0.9225 - val_loss: 0.1428 - val_recall_12: 0.7600 - val_auc_12: 0.8878\n",
      "Epoch 13/15\n",
      "26/26 [==============================] - 0s 3ms/step - loss: 0.1055 - recall_12: 0.8865 - auc_12: 0.9218 - val_loss: 0.1380 - val_recall_12: 0.8200 - val_auc_12: 0.8822\n",
      "Epoch 14/15\n",
      "26/26 [==============================] - 0s 3ms/step - loss: 0.1037 - recall_12: 0.8886 - auc_12: 0.9222 - val_loss: 0.1442 - val_recall_12: 0.7600 - val_auc_12: 0.8900\n",
      "Epoch 15/15\n",
      "26/26 [==============================] - 0s 3ms/step - loss: 0.1024 - recall_12: 0.8821 - auc_12: 0.9248 - val_loss: 0.1446 - val_recall_12: 0.7600 - val_auc_12: 0.8890\n"
     ]
    }
   ],
   "source": [
    "model.compile(optimizer='adam',\n",
    "              loss='mean_squared_error',\n",
    "              metrics=[Recall(),AUC(from_logits=True)])\n",
    "\n",
    "history2 = model.fit([X_train_crossed,X_train_cat,X_train_num],\n",
    "                    y_train, \n",
    "                    epochs=15, \n",
    "                    batch_size=32, \n",
    "                    verbose=1, \n",
    "                    validation_data = ([X_test_crossed,X_test_cat,X_test_num],y_test))"
   ]
  },
  {
   "cell_type": "code",
   "execution_count": 173,
   "id": "2baf7813",
   "metadata": {},
   "outputs": [
    {
     "name": "stdout",
     "output_type": "stream",
     "text": [
      "3/3 [==============================] - 0s 4ms/step\n"
     ]
    },
    {
     "data": {
      "text/plain": [
       "<Axes: >"
      ]
     },
     "execution_count": 173,
     "metadata": {},
     "output_type": "execute_result"
    },
    {
     "data": {
      "image/png": "[encoded data removed]",
      "text/plain": [
       "<Figure size 720x576 with 2 Axes>"
      ]
     },
     "metadata": {
      "needs_background": "light"
     },
     "output_type": "display_data"
    }
   ],
   "source": [
    "yhat2 = np.round(model.predict([X_test_crossed,X_test_cat,X_test_num]))\n",
    "\n",
    "# create confusion matrix\n",
    "cf_matrix = confusion_matrix(y_test, yhat2)\n",
    "\n",
    "# create number of values in each group\n",
    "group_counts = [\"{0:0.0f}\".format(value) for value in\n",
    "                cf_matrix.flatten()]\n",
    "\n",
    "# create percentages of each group\n",
    "group_percentages = [\"{0:.2%}\".format(value) for value in\n",
    "                      cf_matrix.flatten()/np.sum(cf_matrix)]\n",
    "\n",
    "# create labels\n",
    "group_names = ['True Negative', 'False Positive', 'False Negative', 'True Positive']\n",
    "labels = [f\"{v1}\\n{v2}\\n{v3}\" for v1, v2, v3 in\n",
    "          zip(group_names,group_counts,group_percentages)]\n",
    "labels = np.asarray(labels).reshape(2,2)\n",
    "\n",
    "plt.figure(figsize=(10,8))\n",
    "sns.heatmap(cf_matrix, annot=labels, fmt='')"
   ]
  },
  {
   "cell_type": "code",
   "execution_count": 174,
   "id": "6aa1ab2a",
   "metadata": {},
   "outputs": [
    {
     "name": "stdout",
     "output_type": "stream",
     "text": [
      "['loss', 'recall_12', 'auc_12', 'val_loss', 'val_recall_12', 'val_auc_12']\n"
     ]
    }
   ],
   "source": [
    "hist2Keys = list(history2.history.keys())\n",
    "print(hist2Keys)"
   ]
  },
  {
   "cell_type": "code",
   "execution_count": 175,
   "id": "5c6f13a8",
   "metadata": {},
   "outputs": [
    {
     "data": {
      "text/plain": [
       "Text(0.5, 0, 'epochs')"
      ]
     },
     "execution_count": 175,
     "metadata": {},
     "output_type": "execute_result"
    },
    {
     "data": {
      "image/png": "[encoded data removed]",
      "text/plain": [
       "<Figure size 720x288 with 4 Axes>"
      ]
     },
     "metadata": {
      "needs_background": "light"
     },
     "output_type": "display_data"
    }
   ],
   "source": [
    "get_ipython().run_line_magic('matplotlib', 'inline')\n",
    "\n",
    "plt.figure(figsize=(10,4))\n",
    "plt.subplot(2,2,1)\n",
    "plt.plot(history2.history[hist2Keys[1]])\n",
    "\n",
    "plt.ylabel('Recall')\n",
    "plt.title('Training')\n",
    "plt.subplot(2,2,2)\n",
    "plt.plot(history2.history[hist2Keys[4]])\n",
    "plt.title('Validation')\n",
    "\n",
    "plt.subplot(2,2,3)\n",
    "plt.plot(history2.history[hist2Keys[0]])\n",
    "plt.ylabel('Training Loss')\n",
    "plt.xlabel('epochs')\n",
    "\n",
    "plt.subplot(2,2,4)\n",
    "plt.plot(history2.history[hist2Keys[3]])\n",
    "plt.xlabel('epochs')"
   ]
  },
  {
   "cell_type": "code",
   "execution_count": 176,
   "id": "7e174636",
   "metadata": {},
   "outputs": [
    {
     "name": "stdout",
     "output_type": "stream",
     "text": [
      "              precision    recall  f1-score   support\n",
      "\n",
      "           0       0.73      0.80      0.77        41\n",
      "           1       0.83      0.76      0.79        50\n",
      "\n",
      "    accuracy                           0.78        91\n",
      "   macro avg       0.78      0.78      0.78        91\n",
      "weighted avg       0.78      0.78      0.78        91\n",
      "\n",
      "Model Accuracy:  0.7802197802197802\n"
     ]
    }
   ],
   "source": [
    "print(mt.classification_report(y_test,yhat2))\n",
    "print(\"Model Accuracy: \",mt.accuracy_score(y_test,yhat2))"
   ]
  },
  {
   "attachments": {},
   "cell_type": "markdown",
   "id": "41a61f78",
   "metadata": {},
   "source": [
    "### Third Combination"
   ]
  },
  {
   "cell_type": "code",
   "execution_count": 177,
   "id": "e7a7f194",
   "metadata": {},
   "outputs": [],
   "source": [
    "cross_columns = [\n",
    "    ['ChestPainType','RestingECG','ST_Slope'],\n",
    "    ['Sex','ExerciseAngina']\n",
    "]\n",
    "\n",
    "# cross each set of columns in the list above\n",
    "cross_col_df_names = []\n",
    "for cols_list in cross_columns:\n",
    "    # encode as ints for the embedding\n",
    "    enc = LabelEncoder()\n",
    "    \n",
    "    # 1. create crossed labels by join operation\n",
    "    X_crossed_train = df_imputed[cols_list].apply(lambda x: '_'.join(x), axis=1)\n",
    "    \n",
    "    # get a nice name for this new crossed column\n",
    "    cross_col_name = '_'.join(cols_list)\n",
    "    \n",
    "    # 2. encode as integers\n",
    "    enc.fit(np.hstack((X_crossed_train.to_numpy())))\n",
    "    \n",
    "    # 3. Save into dataframe with new name\n",
    "    df_imputed[cross_col_name] = enc.transform(X_crossed_train)\n",
    "    \n",
    "    # keep track of the new names of the crossed columns\n",
    "    cross_col_df_names.append(cross_col_name) "
   ]
  },
  {
   "cell_type": "code",
   "execution_count": 178,
   "id": "e16718dd",
   "metadata": {},
   "outputs": [],
   "source": [
    "cross_X = df_imputed[cross_col_df_names].to_numpy()\n",
    "cross_y = df_imputed['HeartDisease'].values\n",
    "\n",
    "iter_num=0\n",
    "# the indices are the rows used for training and testing in each iteration\n",
    "for train_indices, test_indices in cv_object.split(cross_X,cross_y): \n",
    "    X_train_crossed = cross_X[train_indices]\n",
    "    y_train_crossed = cross_y[train_indices]\n",
    "    \n",
    "    X_test_crossed = cross_X[test_indices]\n",
    "    y_test_crossed = cross_y[test_indices]"
   ]
  },
  {
   "cell_type": "code",
   "execution_count": 179,
   "id": "069fecc6",
   "metadata": {},
   "outputs": [],
   "source": [
    "crossed_outputs = []\n",
    "\n",
    "# CROSSED DATA INPUT\n",
    "input_crossed = Input(shape=(X_train_crossed.shape[1],), dtype='int64', name='wide_inputs')\n",
    "for idx,col in enumerate(cross_col_df_names):\n",
    "    N = df_imputed[col].max()+1\n",
    "    \n",
    "    # this line of code does this: input_branch[:,idx]\n",
    "    x = tf.gather(input_crossed, idx, axis=1)\n",
    "    \n",
    "    # now use an embedding to deal with integers as if they were one hot encoded\n",
    "    x = Embedding(input_dim=N, \n",
    "                  output_dim=int(np.sqrt(N)), \n",
    "                  input_length=1, name=col+'_embed')(x)\n",
    "    \n",
    "    # save these outputs to concatenate later\n",
    "    crossed_outputs.append(x)\n",
    "    \n",
    "# now concatenate the outputs and add a fully connected layer\n",
    "wide_branch = concatenate(crossed_outputs, name='wide_concat')\n",
    "\n",
    "# reset this input branch\n",
    "all_deep_branch_outputs = []\n",
    "\n",
    "# CATEGORICAL DATA INPUT\n",
    "input_cat = Input(shape=(X_train_cat.shape[1],), dtype='int64', name='categorical_input')\n",
    "for idx,col in enumerate(categorical_headers_ints):\n",
    "    N = df_imputed[col].max()+1\n",
    "    \n",
    "    # this line of code does this: input_branch[:,idx]\n",
    "    x = tf.gather(input_cat, idx, axis=1)\n",
    "    \n",
    "    # now use an embedding to deal with integers as if they were one hot encoded\n",
    "    x = Embedding(input_dim=N, \n",
    "                  output_dim=int(np.sqrt(N)), \n",
    "                  input_length=1, name=col+'_embed')(x)\n",
    "    \n",
    "    # save these outputs to concatenate later\n",
    "    all_deep_branch_outputs.append(x)\n",
    "    \n",
    "# create dense input branch for numeric\n",
    "input_num = Input(shape=(X_train_num.shape[1],), name='numeric')\n",
    "x_dense = Dense(units=22, activation='relu',name='num_1')(input_num)\n",
    "    \n",
    "all_deep_branch_outputs.append(x_dense)\n",
    "\n",
    "# merge the deep branches together\n",
    "deep_branch = concatenate(all_deep_branch_outputs,name='concat_embeds')\n",
    "deep_branch = Dense(units=50,activation='relu', name='deep1')(deep_branch)\n",
    "deep_branch = Dense(units=25,activation='relu', name='deep2')(deep_branch)\n",
    "deep_branch = Dense(units=10,activation='relu', name='deep3')(deep_branch)\n",
    "    \n",
    "# merge the deep and wide branch\n",
    "final_branch = concatenate([wide_branch, deep_branch],\n",
    "                           name='concat_deep_wide')\n",
    "final_branch = Dense(units=1,activation='sigmoid',\n",
    "                     name='combined')(final_branch)\n",
    "\n",
    "model = Model(inputs=[input_crossed,input_cat,input_num], \n",
    "              outputs=final_branch)"
   ]
  },
  {
   "cell_type": "code",
   "execution_count": 180,
   "id": "437f7a71",
   "metadata": {},
   "outputs": [
    {
     "name": "stdout",
     "output_type": "stream",
     "text": [
      "You must install pydot (`pip install pydot`) and install graphviz (see instructions at https://graphviz.gitlab.io/download/) for plot_model to work.\n",
      "Model: \"model_13\"\n",
      "__________________________________________________________________________________________________\n",
      " Layer (type)                   Output Shape         Param #     Connected to                     \n",
      "==================================================================================================\n",
      " categorical_input (InputLayer)  [(None, 5)]         0           []                               \n",
      "                                                                                                  \n",
      " tf.compat.v1.gather_123 (TFOpL  (None,)             0           ['categorical_input[0][0]']      \n",
      " ambda)                                                                                           \n",
      "                                                                                                  \n",
      " tf.compat.v1.gather_124 (TFOpL  (None,)             0           ['categorical_input[0][0]']      \n",
      " ambda)                                                                                           \n",
      "                                                                                                  \n",
      " tf.compat.v1.gather_125 (TFOpL  (None,)             0           ['categorical_input[0][0]']      \n",
      " ambda)                                                                                           \n",
      "                                                                                                  \n",
      " tf.compat.v1.gather_126 (TFOpL  (None,)             0           ['categorical_input[0][0]']      \n",
      " ambda)                                                                                           \n",
      "                                                                                                  \n",
      " tf.compat.v1.gather_127 (TFOpL  (None,)             0           ['categorical_input[0][0]']      \n",
      " ambda)                                                                                           \n",
      "                                                                                                  \n",
      " numeric (InputLayer)           [(None, 5)]          0           []                               \n",
      "                                                                                                  \n",
      " Sex_int_embed (Embedding)      (None, 1)            2           ['tf.compat.v1.gather_123[0][0]']\n",
      "                                                                                                  \n",
      " ChestPainType_int_embed (Embed  (None, 2)           8           ['tf.compat.v1.gather_124[0][0]']\n",
      " ding)                                                                                            \n",
      "                                                                                                  \n",
      " RestingECG_int_embed (Embeddin  (None, 1)           3           ['tf.compat.v1.gather_125[0][0]']\n",
      " g)                                                                                               \n",
      "                                                                                                  \n",
      " ExerciseAngina_int_embed (Embe  (None, 1)           2           ['tf.compat.v1.gather_126[0][0]']\n",
      " dding)                                                                                           \n",
      "                                                                                                  \n",
      " ST_Slope_int_embed (Embedding)  (None, 1)           3           ['tf.compat.v1.gather_127[0][0]']\n",
      "                                                                                                  \n",
      " num_1 (Dense)                  (None, 22)           132         ['numeric[0][0]']                \n",
      "                                                                                                  \n",
      " wide_inputs (InputLayer)       [(None, 2)]          0           []                               \n",
      "                                                                                                  \n",
      " concat_embeds (Concatenate)    (None, 28)           0           ['Sex_int_embed[0][0]',          \n",
      "                                                                  'ChestPainType_int_embed[0][0]',\n",
      "                                                                  'RestingECG_int_embed[0][0]',   \n",
      "                                                                  'ExerciseAngina_int_embed[0][0]'\n",
      "                                                                 , 'ST_Slope_int_embed[0][0]',    \n",
      "                                                                  'num_1[0][0]']                  \n",
      "                                                                                                  \n",
      " tf.compat.v1.gather_121 (TFOpL  (None,)             0           ['wide_inputs[0][0]']            \n",
      " ambda)                                                                                           \n",
      "                                                                                                  \n",
      " tf.compat.v1.gather_122 (TFOpL  (None,)             0           ['wide_inputs[0][0]']            \n",
      " ambda)                                                                                           \n",
      "                                                                                                  \n",
      " deep1 (Dense)                  (None, 50)           1450        ['concat_embeds[0][0]']          \n",
      "                                                                                                  \n",
      " ChestPainType_RestingECG_ST_Sl  (None, 5)           175         ['tf.compat.v1.gather_121[0][0]']\n",
      " ope_embed (Embedding)                                                                            \n",
      "                                                                                                  \n",
      " Sex_ExerciseAngina_embed (Embe  (None, 2)           8           ['tf.compat.v1.gather_122[0][0]']\n",
      " dding)                                                                                           \n",
      "                                                                                                  \n",
      " deep2 (Dense)                  (None, 25)           1275        ['deep1[0][0]']                  \n",
      "                                                                                                  \n",
      " wide_concat (Concatenate)      (None, 7)            0           ['ChestPainType_RestingECG_ST_Slo\n",
      "                                                                 pe_embed[0][0]',                 \n",
      "                                                                  'Sex_ExerciseAngina_embed[0][0]'\n",
      "                                                                 ]                                \n",
      "                                                                                                  \n",
      " deep3 (Dense)                  (None, 10)           260         ['deep2[0][0]']                  \n",
      "                                                                                                  \n",
      " concat_deep_wide (Concatenate)  (None, 17)          0           ['wide_concat[0][0]',            \n",
      "                                                                  'deep3[0][0]']                  \n",
      "                                                                                                  \n",
      " combined (Dense)               (None, 1)            18          ['concat_deep_wide[0][0]']       \n",
      "                                                                                                  \n",
      "==================================================================================================\n",
      "Total params: 3,336\n",
      "Trainable params: 3,336\n",
      "Non-trainable params: 0\n",
      "__________________________________________________________________________________________________\n"
     ]
    }
   ],
   "source": [
    "plot_model(\n",
    "    model, to_file='model.png', show_shapes=True, show_layer_names=True,\n",
    "    rankdir='LR', expand_nested=False, dpi=96\n",
    ")\n",
    "\n",
    "model.summary()"
   ]
  },
  {
   "cell_type": "code",
   "execution_count": 181,
   "id": "310fd24c",
   "metadata": {},
   "outputs": [],
   "source": [
    "model.compile(optimizer='adam',\n",
    "              loss='mean_squared_error',\n",
    "              metrics=[Recall(),AUC(from_logits=True)])"
   ]
  },
  {
   "cell_type": "code",
   "execution_count": 182,
   "id": "e46c3824",
   "metadata": {},
   "outputs": [
    {
     "name": "stdout",
     "output_type": "stream",
     "text": [
      "Epoch 1/15\n",
      "26/26 [==============================] - 2s 12ms/step - loss: 0.2226 - recall_13: 0.6616 - auc_13: 0.8336 - val_loss: 0.1996 - val_recall_13: 0.6200 - val_auc_13: 0.8527\n",
      "Epoch 2/15\n",
      "26/26 [==============================] - 0s 3ms/step - loss: 0.1753 - recall_13: 0.7795 - auc_13: 0.8690 - val_loss: 0.1539 - val_recall_13: 0.8000 - val_auc_13: 0.8985\n",
      "Epoch 3/15\n",
      "26/26 [==============================] - 0s 3ms/step - loss: 0.1385 - recall_13: 0.8428 - auc_13: 0.8889 - val_loss: 0.1307 - val_recall_13: 0.7200 - val_auc_13: 0.9098\n",
      "Epoch 4/15\n",
      "26/26 [==============================] - 0s 3ms/step - loss: 0.1175 - recall_13: 0.8690 - auc_13: 0.9075 - val_loss: 0.1323 - val_recall_13: 0.7600 - val_auc_13: 0.8998\n",
      "Epoch 5/15\n",
      "26/26 [==============================] - 0s 3ms/step - loss: 0.1098 - recall_13: 0.8952 - auc_13: 0.9167 - val_loss: 0.1356 - val_recall_13: 0.7800 - val_auc_13: 0.8944\n",
      "Epoch 6/15\n",
      "26/26 [==============================] - 0s 3ms/step - loss: 0.1078 - recall_13: 0.8821 - auc_13: 0.9174 - val_loss: 0.1365 - val_recall_13: 0.7800 - val_auc_13: 0.8968\n",
      "Epoch 7/15\n",
      "26/26 [==============================] - 0s 3ms/step - loss: 0.1053 - recall_13: 0.8865 - auc_13: 0.9202 - val_loss: 0.1354 - val_recall_13: 0.8000 - val_auc_13: 0.8917\n",
      "Epoch 8/15\n",
      "26/26 [==============================] - 0s 3ms/step - loss: 0.1062 - recall_13: 0.8865 - auc_13: 0.9202 - val_loss: 0.1378 - val_recall_13: 0.8000 - val_auc_13: 0.8932\n",
      "Epoch 9/15\n",
      "26/26 [==============================] - 0s 3ms/step - loss: 0.1038 - recall_13: 0.8821 - auc_13: 0.9214 - val_loss: 0.1294 - val_recall_13: 0.8000 - val_auc_13: 0.9002\n",
      "Epoch 10/15\n",
      "26/26 [==============================] - 0s 3ms/step - loss: 0.1049 - recall_13: 0.8908 - auc_13: 0.9220 - val_loss: 0.1396 - val_recall_13: 0.7400 - val_auc_13: 0.8956\n",
      "Epoch 11/15\n",
      "26/26 [==============================] - 0s 3ms/step - loss: 0.1024 - recall_13: 0.8755 - auc_13: 0.9234 - val_loss: 0.1304 - val_recall_13: 0.8000 - val_auc_13: 0.8973\n",
      "Epoch 12/15\n",
      "26/26 [==============================] - 0s 3ms/step - loss: 0.1027 - recall_13: 0.8799 - auc_13: 0.9243 - val_loss: 0.1293 - val_recall_13: 0.8800 - val_auc_13: 0.8946\n",
      "Epoch 13/15\n",
      "26/26 [==============================] - 0s 3ms/step - loss: 0.1023 - recall_13: 0.8908 - auc_13: 0.9256 - val_loss: 0.1477 - val_recall_13: 0.7200 - val_auc_13: 0.8939\n",
      "Epoch 14/15\n",
      "26/26 [==============================] - 0s 3ms/step - loss: 0.1049 - recall_13: 0.8974 - auc_13: 0.9189 - val_loss: 0.1395 - val_recall_13: 0.7400 - val_auc_13: 0.8920\n",
      "Epoch 15/15\n",
      "26/26 [==============================] - 0s 3ms/step - loss: 0.1022 - recall_13: 0.8821 - auc_13: 0.9259 - val_loss: 0.1298 - val_recall_13: 0.8600 - val_auc_13: 0.8978\n"
     ]
    }
   ],
   "source": [
    "history3 = model.fit([X_train_crossed,X_train_cat,X_train_num],\n",
    "                    y_train, \n",
    "                    epochs=15, \n",
    "                    batch_size=32, \n",
    "                    verbose=1, \n",
    "                    validation_data = ([X_test_crossed,X_test_cat,X_test_num],y_test))"
   ]
  },
  {
   "cell_type": "code",
   "execution_count": 183,
   "id": "dc8814e7",
   "metadata": {},
   "outputs": [
    {
     "name": "stdout",
     "output_type": "stream",
     "text": [
      "3/3 [==============================] - 0s 0s/step\n"
     ]
    },
    {
     "data": {
      "text/plain": [
       "<Axes: >"
      ]
     },
     "execution_count": 183,
     "metadata": {},
     "output_type": "execute_result"
    },
    {
     "data": {
      "image/png": "[encoded data removed]",
      "text/plain": [
       "<Figure size 720x576 with 2 Axes>"
      ]
     },
     "metadata": {
      "needs_background": "light"
     },
     "output_type": "display_data"
    }
   ],
   "source": [
    "yhat3 = np.round(model.predict([X_test_crossed,X_test_cat,X_test_num]))\n",
    "\n",
    "# create confusion matrix\n",
    "cf_matrix = confusion_matrix(y_test, yhat3)\n",
    "\n",
    "# create number of values in each group\n",
    "group_counts = [\"{0:0.0f}\".format(value) for value in\n",
    "                cf_matrix.flatten()]\n",
    "\n",
    "# create percentages of each group\n",
    "group_percentages = [\"{0:.2%}\".format(value) for value in\n",
    "                      cf_matrix.flatten()/np.sum(cf_matrix)]\n",
    "\n",
    "# create labels\n",
    "group_names = ['True Negative', 'False Positive', 'False Negative', 'True Positive']\n",
    "labels = [f\"{v1}\\n{v2}\\n{v3}\" for v1, v2, v3 in\n",
    "          zip(group_names,group_counts,group_percentages)]\n",
    "labels = np.asarray(labels).reshape(2,2)\n",
    "\n",
    "plt.figure(figsize=(10,8))\n",
    "sns.heatmap(cf_matrix, annot=labels, fmt='')"
   ]
  },
  {
   "cell_type": "code",
   "execution_count": 184,
   "id": "b7707a05",
   "metadata": {},
   "outputs": [
    {
     "name": "stdout",
     "output_type": "stream",
     "text": [
      "['loss', 'recall_13', 'auc_13', 'val_loss', 'val_recall_13', 'val_auc_13']\n"
     ]
    }
   ],
   "source": [
    "hist3Keys = list(history3.history.keys())\n",
    "print(hist3Keys)"
   ]
  },
  {
   "cell_type": "code",
   "execution_count": 185,
   "id": "75b6b00c",
   "metadata": {},
   "outputs": [
    {
     "data": {
      "text/plain": [
       "Text(0.5, 0, 'epochs')"
      ]
     },
     "execution_count": 185,
     "metadata": {},
     "output_type": "execute_result"
    },
    {
     "data": {
      "image/png": "[encoded data removed]",
      "text/plain": [
       "<Figure size 720x288 with 4 Axes>"
      ]
     },
     "metadata": {
      "needs_background": "light"
     },
     "output_type": "display_data"
    }
   ],
   "source": [
    "get_ipython().run_line_magic('matplotlib', 'inline')\n",
    "\n",
    "plt.figure(figsize=(10,4))\n",
    "plt.subplot(2,2,1)\n",
    "plt.plot(history3.history[hist3Keys[1]])\n",
    "\n",
    "plt.ylabel('Recall')\n",
    "plt.title('Training')\n",
    "plt.subplot(2,2,2)\n",
    "plt.plot(history3.history[hist3Keys[4]])\n",
    "plt.title('Validation')\n",
    "\n",
    "plt.subplot(2,2,3)\n",
    "plt.plot(history3.history[hist3Keys[0]])\n",
    "plt.ylabel('Training Loss')\n",
    "plt.xlabel('epochs')\n",
    "\n",
    "plt.subplot(2,2,4)\n",
    "plt.plot(history3.history[hist3Keys[3]])\n",
    "plt.xlabel('epochs')"
   ]
  },
  {
   "cell_type": "code",
   "execution_count": 186,
   "id": "a7a78f90",
   "metadata": {},
   "outputs": [
    {
     "name": "stdout",
     "output_type": "stream",
     "text": [
      "              precision    recall  f1-score   support\n",
      "\n",
      "           0       0.82      0.78      0.80        41\n",
      "           1       0.83      0.86      0.84        50\n",
      "\n",
      "    accuracy                           0.82        91\n",
      "   macro avg       0.82      0.82      0.82        91\n",
      "weighted avg       0.82      0.82      0.82        91\n",
      "\n",
      "Model Accuracy:  0.8241758241758241\n"
     ]
    }
   ],
   "source": [
    "print(mt.classification_report(y_test,yhat3))\n",
    "print(\"Model Accuracy: \",mt.accuracy_score(y_test,yhat3))"
   ]
  },
  {
   "attachments": {},
   "cell_type": "markdown",
   "id": "a3fdff80",
   "metadata": {},
   "source": [
    "### Model Performance Comparison of the First 3 Wide and Deep Networks"
   ]
  },
  {
   "cell_type": "code",
   "execution_count": 187,
   "id": "6c6ca835",
   "metadata": {},
   "outputs": [
    {
     "name": "stdout",
     "output_type": "stream",
     "text": [
      "Model 1 Recall:  0.72\n",
      "Model 2 Recall:  0.76\n",
      "Model 3 Recall:  0.86\n"
     ]
    }
   ],
   "source": [
    "# print recall results of each model\n",
    "print(\"Model 1 Recall: \",mt.recall_score(y_test,yhat1))\n",
    "print(\"Model 2 Recall: \",mt.recall_score(y_test,yhat2))\n",
    "print(\"Model 3 Recall: \",mt.recall_score(y_test,yhat3))"
   ]
  },
  {
   "attachments": {},
   "cell_type": "markdown",
   "id": "cfe374ee",
   "metadata": {},
   "source": [
    "### Different Number of Layers"
   ]
  },
  {
   "attachments": {},
   "cell_type": "markdown",
   "id": "470a3510",
   "metadata": {},
   "source": [
    "Next, we will create two wide and deep networks that have a different number of layers and compare their performance to each other."
   ]
  },
  {
   "attachments": {},
   "cell_type": "markdown",
   "id": "8dba73a8",
   "metadata": {},
   "source": [
    "### One Layer"
   ]
  },
  {
   "cell_type": "code",
   "execution_count": 188,
   "id": "4d364cf4",
   "metadata": {},
   "outputs": [],
   "source": [
    "crossed_outputs = []\n",
    "\n",
    "# CROSSED DATA INPUT\n",
    "input_crossed = Input(shape=(X_train_crossed.shape[1],), dtype='int64', name='wide_inputs')\n",
    "for idx,col in enumerate(cross_col_df_names):\n",
    "    N = df_imputed[col].max()+1\n",
    "    \n",
    "    # this line of code does this: input_branch[:,idx]\n",
    "    x = tf.gather(input_crossed, idx, axis=1)\n",
    "    \n",
    "    # now use an embedding to deal with integers as if they were one hot encoded\n",
    "    x = Embedding(input_dim=N, \n",
    "                  output_dim=int(np.sqrt(N)), \n",
    "                  input_length=1, name=col+'_embed')(x)\n",
    "    \n",
    "    # save these outputs to concatenate later\n",
    "    crossed_outputs.append(x)\n",
    "\n",
    "# now concatenate the outputs and add a fully connected layer\n",
    "wide_branch = concatenate(crossed_outputs, name='wide_concat')\n",
    "\n",
    "# reset this input branch\n",
    "all_deep_branch_outputs = []\n",
    "\n",
    "# CATEGORICAL DATA INPUT\n",
    "input_cat = Input(shape=(X_train_cat.shape[1],), dtype='int64', name='categorical_input')\n",
    "for idx,col in enumerate(categorical_headers_ints):\n",
    "    N = df_imputed[col].max()+1\n",
    "    \n",
    "    # this line of code does this: input_branch[:,idx]\n",
    "    x = tf.gather(input_cat, idx, axis=1)\n",
    "    \n",
    "    # now use an embedding to deal with integers as if they were one hot encoded\n",
    "    x = Embedding(input_dim=N, \n",
    "                  output_dim=int(np.sqrt(N)), \n",
    "                  input_length=1, name=col+'_embed')(x)\n",
    "    \n",
    "    # save these outputs to concatenate later\n",
    "    all_deep_branch_outputs.append(x)\n",
    "    \n",
    "# create dense input branch for numeric\n",
    "input_num = Input(shape=(X_train_num.shape[1],), name='numeric')\n",
    "x_dense = Dense(units=22, activation='relu',name='num_1')(input_num)\n",
    "    \n",
    "all_deep_branch_outputs.append(x_dense)\n",
    "\n",
    "# merge the deep branches together\n",
    "deep_branch = concatenate(all_deep_branch_outputs,name='concat_embeds')\n",
    "deep_branch = Dense(units=50,activation='relu', name='deep1')(deep_branch)\n",
    "    \n",
    "# merge the deep and wide branch\n",
    "final_branch = concatenate([wide_branch, deep_branch],\n",
    "                           name='concat_deep_wide')\n",
    "final_branch = Dense(units=1,activation='sigmoid',\n",
    "                     name='combined')(final_branch)\n",
    "\n",
    "model = Model(inputs=[input_crossed,input_cat,input_num], \n",
    "              outputs=final_branch)"
   ]
  },
  {
   "cell_type": "code",
   "execution_count": 189,
   "id": "3c17f33b",
   "metadata": {},
   "outputs": [
    {
     "name": "stdout",
     "output_type": "stream",
     "text": [
      "You must install pydot (`pip install pydot`) and install graphviz (see instructions at https://graphviz.gitlab.io/download/) for plot_model to work.\n"
     ]
    }
   ],
   "source": [
    "plot_model(\n",
    "    model, to_file='model.png', show_shapes=True, show_layer_names=True,\n",
    "    rankdir='LR', expand_nested=False, dpi=96\n",
    ")"
   ]
  },
  {
   "cell_type": "code",
   "execution_count": 190,
   "id": "b83fc419",
   "metadata": {},
   "outputs": [],
   "source": [
    "model.compile(optimizer='adam',\n",
    "              loss='mean_squared_error',\n",
    "              metrics=[Recall(),AUC(from_logits=True)])"
   ]
  },
  {
   "cell_type": "code",
   "execution_count": 191,
   "id": "df0e128d",
   "metadata": {},
   "outputs": [
    {
     "name": "stdout",
     "output_type": "stream",
     "text": [
      "Epoch 1/15\n",
      "26/26 [==============================] - 1s 12ms/step - loss: 0.2372 - recall_14: 0.9410 - auc_14: 0.6436 - val_loss: 0.2226 - val_recall_14: 0.6800 - val_auc_14: 0.8768\n",
      "Epoch 2/15\n",
      "26/26 [==============================] - 0s 3ms/step - loss: 0.1941 - recall_14: 0.7489 - auc_14: 0.8881 - val_loss: 0.1933 - val_recall_14: 0.7200 - val_auc_14: 0.8720\n",
      "Epoch 3/15\n",
      "26/26 [==============================] - 0s 4ms/step - loss: 0.1567 - recall_14: 0.8253 - auc_14: 0.9008 - val_loss: 0.1657 - val_recall_14: 0.7400 - val_auc_14: 0.8795\n",
      "Epoch 4/15\n",
      "26/26 [==============================] - 0s 3ms/step - loss: 0.1332 - recall_14: 0.8581 - auc_14: 0.9089 - val_loss: 0.1523 - val_recall_14: 0.7200 - val_auc_14: 0.8822\n",
      "Epoch 5/15\n",
      "26/26 [==============================] - 0s 3ms/step - loss: 0.1201 - recall_14: 0.8603 - auc_14: 0.9119 - val_loss: 0.1432 - val_recall_14: 0.7400 - val_auc_14: 0.8810\n",
      "Epoch 6/15\n",
      "26/26 [==============================] - 0s 3ms/step - loss: 0.1150 - recall_14: 0.8821 - auc_14: 0.9153 - val_loss: 0.1420 - val_recall_14: 0.8000 - val_auc_14: 0.8856\n",
      "Epoch 7/15\n",
      "26/26 [==============================] - 0s 3ms/step - loss: 0.1118 - recall_14: 0.8952 - auc_14: 0.9153 - val_loss: 0.1443 - val_recall_14: 0.7400 - val_auc_14: 0.8866\n",
      "Epoch 8/15\n",
      "26/26 [==============================] - 0s 3ms/step - loss: 0.1098 - recall_14: 0.8799 - auc_14: 0.9183 - val_loss: 0.1391 - val_recall_14: 0.8000 - val_auc_14: 0.8912\n",
      "Epoch 9/15\n",
      "26/26 [==============================] - 0s 3ms/step - loss: 0.1075 - recall_14: 0.8865 - auc_14: 0.9193 - val_loss: 0.1450 - val_recall_14: 0.7600 - val_auc_14: 0.8893\n",
      "Epoch 10/15\n",
      "26/26 [==============================] - 0s 3ms/step - loss: 0.1069 - recall_14: 0.8865 - auc_14: 0.9196 - val_loss: 0.1407 - val_recall_14: 0.7600 - val_auc_14: 0.8912\n",
      "Epoch 11/15\n",
      "26/26 [==============================] - 0s 3ms/step - loss: 0.1056 - recall_14: 0.8843 - auc_14: 0.9214 - val_loss: 0.1423 - val_recall_14: 0.7600 - val_auc_14: 0.8917\n",
      "Epoch 12/15\n",
      "26/26 [==============================] - 0s 3ms/step - loss: 0.1051 - recall_14: 0.8821 - auc_14: 0.9220 - val_loss: 0.1393 - val_recall_14: 0.8000 - val_auc_14: 0.8890\n",
      "Epoch 13/15\n",
      "26/26 [==============================] - 0s 3ms/step - loss: 0.1046 - recall_14: 0.8843 - auc_14: 0.9229 - val_loss: 0.1393 - val_recall_14: 0.7600 - val_auc_14: 0.8905\n",
      "Epoch 14/15\n",
      "26/26 [==============================] - 0s 3ms/step - loss: 0.1035 - recall_14: 0.8843 - auc_14: 0.9247 - val_loss: 0.1411 - val_recall_14: 0.7600 - val_auc_14: 0.8910\n",
      "Epoch 15/15\n",
      "26/26 [==============================] - 0s 3ms/step - loss: 0.1037 - recall_14: 0.8843 - auc_14: 0.9235 - val_loss: 0.1425 - val_recall_14: 0.7600 - val_auc_14: 0.8937\n"
     ]
    }
   ],
   "source": [
    "history4 = model.fit([X_train_crossed,X_train_cat,X_train_num],\n",
    "                    y_train, \n",
    "                    epochs=15, \n",
    "                    batch_size=32, \n",
    "                    verbose=1, \n",
    "                    validation_data = ([X_test_crossed,X_test_cat,X_test_num],y_test))"
   ]
  },
  {
   "cell_type": "code",
   "execution_count": 192,
   "id": "7e77d8a0",
   "metadata": {},
   "outputs": [
    {
     "name": "stdout",
     "output_type": "stream",
     "text": [
      "3/3 [==============================] - 0s 5ms/step\n"
     ]
    },
    {
     "data": {
      "text/plain": [
       "<Axes: >"
      ]
     },
     "execution_count": 192,
     "metadata": {},
     "output_type": "execute_result"
    },
    {
     "data": {
      "image/png": "[encoded data removed]",
      "text/plain": [
       "<Figure size 720x576 with 2 Axes>"
      ]
     },
     "metadata": {
      "needs_background": "light"
     },
     "output_type": "display_data"
    }
   ],
   "source": [
    "yhat4 = np.round(model.predict([X_test_crossed,X_test_cat,X_test_num]))\n",
    "\n",
    "# create confusion matrix\n",
    "cf_matrix = confusion_matrix(y_test, yhat4)\n",
    "\n",
    "# create number of values in each group\n",
    "group_counts = [\"{0:0.0f}\".format(value) for value in\n",
    "                cf_matrix.flatten()]\n",
    "\n",
    "# create percentages of each group\n",
    "group_percentages = [\"{0:.2%}\".format(value) for value in\n",
    "                      cf_matrix.flatten()/np.sum(cf_matrix)]\n",
    "\n",
    "# create labels\n",
    "group_names = ['True Negative', 'False Positive', 'False Negative', 'True Positive']\n",
    "labels = [f\"{v1}\\n{v2}\\n{v3}\" for v1, v2, v3 in\n",
    "          zip(group_names,group_counts,group_percentages)]\n",
    "labels = np.asarray(labels).reshape(2,2)\n",
    "\n",
    "plt.figure(figsize=(10,8))\n",
    "sns.heatmap(cf_matrix, annot=labels, fmt='')\n"
   ]
  },
  {
   "cell_type": "code",
   "execution_count": 193,
   "id": "9bac61ee",
   "metadata": {},
   "outputs": [
    {
     "name": "stdout",
     "output_type": "stream",
     "text": [
      "['loss', 'recall_14', 'auc_14', 'val_loss', 'val_recall_14', 'val_auc_14']\n"
     ]
    }
   ],
   "source": [
    "hist4Keys = list(history4.history.keys())\n",
    "print(hist4Keys)"
   ]
  },
  {
   "cell_type": "code",
   "execution_count": 194,
   "id": "725b3ec8",
   "metadata": {},
   "outputs": [
    {
     "data": {
      "text/plain": [
       "Text(0.5, 0, 'epochs')"
      ]
     },
     "execution_count": 194,
     "metadata": {},
     "output_type": "execute_result"
    },
    {
     "data": {
      "image/png": "[encoded data removed]",
      "text/plain": [
       "<Figure size 720x288 with 4 Axes>"
      ]
     },
     "metadata": {
      "needs_background": "light"
     },
     "output_type": "display_data"
    }
   ],
   "source": [
    "get_ipython().run_line_magic('matplotlib', 'inline')\n",
    "\n",
    "plt.figure(figsize=(10,4))\n",
    "plt.subplot(2,2,1)\n",
    "plt.plot(history4.history[hist4Keys[1]])\n",
    "\n",
    "plt.ylabel('Recall')\n",
    "plt.title('Training')\n",
    "plt.subplot(2,2,2)\n",
    "plt.plot(history4.history[hist4Keys[4]])\n",
    "plt.title('Validation')\n",
    "\n",
    "plt.subplot(2,2,3)\n",
    "plt.plot(history4.history[hist4Keys[0]])\n",
    "plt.ylabel('Training Loss')\n",
    "plt.xlabel('epochs')\n",
    "\n",
    "plt.subplot(2,2,4)\n",
    "plt.plot(history4.history[hist4Keys[3]])\n",
    "plt.xlabel('epochs')"
   ]
  },
  {
   "cell_type": "code",
   "execution_count": 195,
   "id": "dd922c7c",
   "metadata": {},
   "outputs": [
    {
     "name": "stdout",
     "output_type": "stream",
     "text": [
      "              precision    recall  f1-score   support\n",
      "\n",
      "           0       0.73      0.80      0.77        41\n",
      "           1       0.83      0.76      0.79        50\n",
      "\n",
      "    accuracy                           0.78        91\n",
      "   macro avg       0.78      0.78      0.78        91\n",
      "weighted avg       0.78      0.78      0.78        91\n",
      "\n",
      "Model Accuracy:  0.7802197802197802\n"
     ]
    }
   ],
   "source": [
    "print(mt.classification_report(y_test,yhat4))\n",
    "print(\"Model Accuracy: \",mt.accuracy_score(y_test,yhat4))"
   ]
  },
  {
   "attachments": {},
   "cell_type": "markdown",
   "id": "0a4e51dd",
   "metadata": {},
   "source": [
    "### Four Layers"
   ]
  },
  {
   "cell_type": "code",
   "execution_count": 196,
   "id": "c125b36c",
   "metadata": {},
   "outputs": [],
   "source": [
    "crossed_outputs = []\n",
    "\n",
    "# CROSSED DATA INPUT\n",
    "input_crossed = Input(shape=(X_train_crossed.shape[1],), dtype='int64', name='wide_inputs')\n",
    "for idx,col in enumerate(cross_col_df_names):\n",
    "    N = df_imputed[col].max()+1\n",
    "    \n",
    "    # this line of code does this: input_branch[:,idx]\n",
    "    x = tf.gather(input_crossed, idx, axis=1)\n",
    "    \n",
    "    # now use an embedding to deal with integers as if they were one hot encoded\n",
    "    x = Embedding(input_dim=N, \n",
    "                  output_dim=int(np.sqrt(N)), \n",
    "                  input_length=1, name=col+'_embed')(x)\n",
    "    \n",
    "    # save these outputs to concatenate later\n",
    "    crossed_outputs.append(x)\n",
    "    \n",
    "# now concatenate the outputs and add a fully connected layer\n",
    "wide_branch = concatenate(crossed_outputs, name='wide_concat')\n",
    "\n",
    "# reset this input branch\n",
    "all_deep_branch_outputs = []\n",
    "\n",
    "# CATEGORICAL DATA INPUT\n",
    "input_cat = Input(shape=(X_train_cat.shape[1],), dtype='int64', name='categorical_input')\n",
    "for idx,col in enumerate(categorical_headers_ints):\n",
    "    N = df_imputed[col].max()+1\n",
    "    \n",
    "    # this line of code does this: input_branch[:,idx]\n",
    "    x = tf.gather(input_cat, idx, axis=1)\n",
    "    \n",
    "    # now use an embedding to deal with integers as if they were one hot encoded\n",
    "    x = Embedding(input_dim=N, \n",
    "                  output_dim=int(np.sqrt(N)), \n",
    "                  input_length=1, name=col+'_embed')(x)\n",
    "    \n",
    "    # save these outputs to concatenate later\n",
    "    all_deep_branch_outputs.append(x)\n",
    "    \n",
    "# create dense input branch for numeric\n",
    "input_num = Input(shape=(X_train_num.shape[1],), name='numeric')\n",
    "x_dense = Dense(units=22, activation='relu',name='num_1')(input_num)\n",
    "    \n",
    "all_deep_branch_outputs.append(x_dense)\n",
    "\n",
    "# merge the deep branches together\n",
    "deep_branch = concatenate(all_deep_branch_outputs,name='concat_embeds')\n",
    "deep_branch = Dense(units=50,activation='relu', name='deep1')(deep_branch)\n",
    "deep_branch = Dense(units=25,activation='relu', name='deep2')(deep_branch)\n",
    "deep_branch = Dense(units=10,activation='relu', name='deep3')(deep_branch)\n",
    "deep_branch = Dense(units=5,activation='relu', name='deep4')(deep_branch)\n",
    "\n",
    "# merge the deep and wide branch\n",
    "final_branch = concatenate([wide_branch, deep_branch],\n",
    "                           name='concat_deep_wide')\n",
    "final_branch = Dense(units=1,activation='sigmoid',\n",
    "                     name='combined')(final_branch)\n",
    "\n",
    "model = Model(inputs=[input_crossed,input_cat,input_num], \n",
    "              outputs=final_branch)"
   ]
  },
  {
   "cell_type": "code",
   "execution_count": 197,
   "id": "c9956988",
   "metadata": {},
   "outputs": [
    {
     "name": "stdout",
     "output_type": "stream",
     "text": [
      "You must install pydot (`pip install pydot`) and install graphviz (see instructions at https://graphviz.gitlab.io/download/) for plot_model to work.\n"
     ]
    }
   ],
   "source": [
    "plot_model(\n",
    "    model, to_file='model.png', show_shapes=True, show_layer_names=True,\n",
    "    rankdir='LR', expand_nested=False, dpi=96\n",
    ")\n",
    "\n",
    "model.compile(optimizer='adam',\n",
    "              loss='mean_squared_error',\n",
    "              metrics=[Recall(),AUC(from_logits=True)])"
   ]
  },
  {
   "cell_type": "code",
   "execution_count": 198,
   "id": "bd499514",
   "metadata": {},
   "outputs": [
    {
     "name": "stdout",
     "output_type": "stream",
     "text": [
      "Epoch 1/15\n",
      "26/26 [==============================] - 2s 13ms/step - loss: 0.2406 - recall_15: 1.0000 - auc_15: 0.7020 - val_loss: 0.2309 - val_recall_15: 1.0000 - val_auc_15: 0.8473\n",
      "Epoch 2/15\n",
      "26/26 [==============================] - 0s 3ms/step - loss: 0.2147 - recall_15: 0.9891 - auc_15: 0.8772 - val_loss: 0.1969 - val_recall_15: 0.9000 - val_auc_15: 0.8907\n",
      "Epoch 3/15\n",
      "26/26 [==============================] - 0s 4ms/step - loss: 0.1702 - recall_15: 0.9301 - auc_15: 0.8993 - val_loss: 0.1663 - val_recall_15: 0.7600 - val_auc_15: 0.8827\n",
      "Epoch 4/15\n",
      "26/26 [==============================] - 0s 4ms/step - loss: 0.1396 - recall_15: 0.8843 - auc_15: 0.8915 - val_loss: 0.1599 - val_recall_15: 0.7200 - val_auc_15: 0.8668\n",
      "Epoch 5/15\n",
      "26/26 [==============================] - 0s 3ms/step - loss: 0.1198 - recall_15: 0.8734 - auc_15: 0.9090 - val_loss: 0.1506 - val_recall_15: 0.7400 - val_auc_15: 0.8759\n",
      "Epoch 6/15\n",
      "26/26 [==============================] - 0s 3ms/step - loss: 0.1125 - recall_15: 0.8624 - auc_15: 0.9132 - val_loss: 0.1626 - val_recall_15: 0.6200 - val_auc_15: 0.8702\n",
      "Epoch 7/15\n",
      "26/26 [==============================] - 0s 4ms/step - loss: 0.1096 - recall_15: 0.8777 - auc_15: 0.9146 - val_loss: 0.1603 - val_recall_15: 0.7200 - val_auc_15: 0.8746\n",
      "Epoch 8/15\n",
      "26/26 [==============================] - 0s 3ms/step - loss: 0.1106 - recall_15: 0.8646 - auc_15: 0.9096 - val_loss: 0.1517 - val_recall_15: 0.7400 - val_auc_15: 0.8766\n",
      "Epoch 9/15\n",
      "26/26 [==============================] - 0s 3ms/step - loss: 0.1056 - recall_15: 0.8799 - auc_15: 0.9176 - val_loss: 0.1501 - val_recall_15: 0.7400 - val_auc_15: 0.8766\n",
      "Epoch 10/15\n",
      "26/26 [==============================] - 0s 3ms/step - loss: 0.1054 - recall_15: 0.8734 - auc_15: 0.9214 - val_loss: 0.1415 - val_recall_15: 0.7600 - val_auc_15: 0.8846\n",
      "Epoch 11/15\n",
      "26/26 [==============================] - 0s 3ms/step - loss: 0.1047 - recall_15: 0.8777 - auc_15: 0.9215 - val_loss: 0.1409 - val_recall_15: 0.7600 - val_auc_15: 0.8883\n",
      "Epoch 12/15\n",
      "26/26 [==============================] - 0s 4ms/step - loss: 0.1039 - recall_15: 0.8843 - auc_15: 0.9222 - val_loss: 0.1433 - val_recall_15: 0.7400 - val_auc_15: 0.8888\n",
      "Epoch 13/15\n",
      "26/26 [==============================] - 0s 3ms/step - loss: 0.1032 - recall_15: 0.8799 - auc_15: 0.9221 - val_loss: 0.1371 - val_recall_15: 0.8000 - val_auc_15: 0.8939\n",
      "Epoch 14/15\n",
      "26/26 [==============================] - 0s 3ms/step - loss: 0.1068 - recall_15: 0.8734 - auc_15: 0.9157 - val_loss: 0.1426 - val_recall_15: 0.7600 - val_auc_15: 0.8839\n",
      "Epoch 15/15\n",
      "26/26 [==============================] - 0s 3ms/step - loss: 0.1060 - recall_15: 0.8843 - auc_15: 0.9200 - val_loss: 0.1402 - val_recall_15: 0.7600 - val_auc_15: 0.8873\n"
     ]
    }
   ],
   "source": [
    "history5 = model.fit([X_train_crossed,X_train_cat,X_train_num],\n",
    "                    y_train, \n",
    "                    epochs=15, \n",
    "                    batch_size=32, \n",
    "                    verbose=1, \n",
    "                    validation_data = ([X_test_crossed,X_test_cat,X_test_num],y_test))"
   ]
  },
  {
   "cell_type": "code",
   "execution_count": 199,
   "id": "a9ccd08e",
   "metadata": {},
   "outputs": [
    {
     "name": "stdout",
     "output_type": "stream",
     "text": [
      "3/3 [==============================] - 0s 0s/step\n"
     ]
    },
    {
     "data": {
      "text/plain": [
       "<Axes: >"
      ]
     },
     "execution_count": 199,
     "metadata": {},
     "output_type": "execute_result"
    },
    {
     "data": {
      "image/png": "[encoded data removed]",
      "text/plain": [
       "<Figure size 720x576 with 2 Axes>"
      ]
     },
     "metadata": {
      "needs_background": "light"
     },
     "output_type": "display_data"
    }
   ],
   "source": [
    "yhat5 = np.round(model.predict([X_test_crossed,X_test_cat,X_test_num]))\n",
    "\n",
    "# create confusion matrix\n",
    "cf_matrix = confusion_matrix(y_test, yhat5)\n",
    "\n",
    "# create number of values in each group\n",
    "group_counts = [\"{0:0.0f}\".format(value) for value in\n",
    "                cf_matrix.flatten()]\n",
    "\n",
    "# create percentages of each group\n",
    "group_percentages = [\"{0:.2%}\".format(value) for value in\n",
    "                      cf_matrix.flatten()/np.sum(cf_matrix)]\n",
    "\n",
    "# create labels\n",
    "group_names = ['True Negative', 'False Positive', 'False Negative', 'True Positive']\n",
    "labels = [f\"{v1}\\n{v2}\\n{v3}\" for v1, v2, v3 in\n",
    "          zip(group_names,group_counts,group_percentages)]\n",
    "labels = np.asarray(labels).reshape(2,2)\n",
    "\n",
    "plt.figure(figsize=(10,8))\n",
    "sns.heatmap(cf_matrix, annot=labels, fmt='')"
   ]
  },
  {
   "cell_type": "code",
   "execution_count": 200,
   "id": "59fd974b",
   "metadata": {},
   "outputs": [
    {
     "name": "stdout",
     "output_type": "stream",
     "text": [
      "['loss', 'recall_15', 'auc_15', 'val_loss', 'val_recall_15', 'val_auc_15']\n"
     ]
    }
   ],
   "source": [
    "hist5Keys = list(history5.history.keys())\n",
    "print(hist5Keys)"
   ]
  },
  {
   "cell_type": "code",
   "execution_count": 201,
   "id": "a9dfc98a",
   "metadata": {},
   "outputs": [
    {
     "data": {
      "text/plain": [
       "Text(0.5, 0, 'epochs')"
      ]
     },
     "execution_count": 201,
     "metadata": {},
     "output_type": "execute_result"
    },
    {
     "data": {
      "image/png": "[encoded data removed]",
      "text/plain": [
       "<Figure size 720x288 with 4 Axes>"
      ]
     },
     "metadata": {
      "needs_background": "light"
     },
     "output_type": "display_data"
    }
   ],
   "source": [
    "get_ipython().run_line_magic('matplotlib', 'inline')\n",
    "\n",
    "plt.figure(figsize=(10,4))\n",
    "plt.subplot(2,2,1)\n",
    "plt.plot(history5.history[hist5Keys[1]])\n",
    "\n",
    "plt.ylabel('Recall')\n",
    "plt.title('Training')\n",
    "plt.subplot(2,2,2)\n",
    "plt.plot(history5.history[hist5Keys[4]])\n",
    "plt.title('Validation')\n",
    "\n",
    "plt.subplot(2,2,3)\n",
    "plt.plot(history5.history[hist5Keys[0]])\n",
    "plt.ylabel('Training Loss')\n",
    "plt.xlabel('epochs')\n",
    "\n",
    "plt.subplot(2,2,4)\n",
    "plt.plot(history5.history[hist5Keys[3]])\n",
    "plt.xlabel('epochs')"
   ]
  },
  {
   "cell_type": "code",
   "execution_count": 202,
   "id": "1b5e6a13",
   "metadata": {},
   "outputs": [
    {
     "name": "stdout",
     "output_type": "stream",
     "text": [
      "              precision    recall  f1-score   support\n",
      "\n",
      "           0       0.73      0.80      0.77        41\n",
      "           1       0.83      0.76      0.79        50\n",
      "\n",
      "    accuracy                           0.78        91\n",
      "   macro avg       0.78      0.78      0.78        91\n",
      "weighted avg       0.78      0.78      0.78        91\n",
      "\n",
      "Model Accuracy:  0.7802197802197802\n"
     ]
    }
   ],
   "source": [
    "print(mt.classification_report(y_test,yhat5))\n",
    "print(\"Model Accuracy: \",mt.accuracy_score(y_test,yhat5))"
   ]
  },
  {
   "attachments": {},
   "cell_type": "markdown",
   "id": "e02f8721",
   "metadata": {},
   "source": [
    "### Model Performance Comparison"
   ]
  },
  {
   "cell_type": "code",
   "execution_count": 203,
   "id": "5c9bea7f",
   "metadata": {},
   "outputs": [
    {
     "name": "stdout",
     "output_type": "stream",
     "text": [
      "Model 1 Recall:  0.72\n",
      "Model 2 Recall:  0.76\n",
      "Model 3 Recall:  0.86\n",
      "Model 4 Recall:  0.76\n",
      "Model 5 Recall:  0.76\n"
     ]
    }
   ],
   "source": [
    "# print recall results of each model\n",
    "print(\"Model 1 Recall: \",mt.recall_score(y_test,yhat1))\n",
    "print(\"Model 2 Recall: \",mt.recall_score(y_test,yhat2))\n",
    "print(\"Model 3 Recall: \",mt.recall_score(y_test,yhat3))\n",
    "print(\"Model 4 Recall: \",mt.recall_score(y_test,yhat4))\n",
    "print(\"Model 5 Recall: \",mt.recall_score(y_test,yhat5))"
   ]
  },
  {
   "attachments": {},
   "cell_type": "markdown",
   "id": "38ce7076",
   "metadata": {},
   "source": [
    "### Deep Network vs Wide and Deep Network"
   ]
  },
  {
   "attachments": {},
   "cell_type": "markdown",
   "id": "eb7d85b5",
   "metadata": {},
   "source": [
    "Next, we will create a deep network (without a wide branch) and compare its results to a wide and deep network."
   ]
  },
  {
   "cell_type": "code",
   "execution_count": 204,
   "id": "c95395c7",
   "metadata": {},
   "outputs": [],
   "source": [
    "# we need to create separate lists for each branch\n",
    "crossed_outputs = []\n",
    "\n",
    "# CROSSED DATA INPUT\n",
    "input_crossed = Input(shape=(X_train_crossed.shape[1],), dtype='int64', name='deep_inputs')\n",
    "for idx,col in enumerate(cross_col_df_names):\n",
    "    N = df_imputed[col].max()+1\n",
    "    \n",
    "    # this line of code does this: input_branch[:,idx]\n",
    "    x = tf.gather(input_crossed, idx, axis=1)\n",
    "    \n",
    "    # now use an embedding to deal with integers as if they were one hot encoded\n",
    "    x = Embedding(input_dim=N, \n",
    "                  output_dim=int(np.sqrt(N)), \n",
    "                  input_length=1, name=col+'_embed')(x)\n",
    "    \n",
    "    # save these outputs to concatenate later\n",
    "    crossed_outputs.append(x)\n",
    "\n",
    "# reset this input branch\n",
    "all_deep_branch_outputs = []\n",
    "\n",
    "# CATEGORICAL DATA INPUT\n",
    "input_cat = Input(shape=(X_train_cat.shape[1],), dtype='int64', name='categorical_input')\n",
    "for idx,col in enumerate(categorical_headers_ints):\n",
    "    N = df_imputed[col].max()+1\n",
    "    \n",
    "    # this line of code does this: input_branch[:,idx]\n",
    "    x = tf.gather(input_cat, idx, axis=1)\n",
    "    \n",
    "    # now use an embedding to deal with integers as if they were one hot encoded\n",
    "    x = Embedding(input_dim=N, \n",
    "                  output_dim=int(np.sqrt(N)), \n",
    "                  input_length=1, name=col+'_embed')(x)\n",
    "    \n",
    "    # save these outputs to concatenate later\n",
    "    all_deep_branch_outputs.append(x)\n",
    "\n",
    "# create dense input branch for numeric\n",
    "input_num = Input(shape=(X_train_num.shape[1],), name='numeric')\n",
    "x_dense = Dense(units=22, activation='relu',name='num_1')(input_num)\n",
    "    \n",
    "all_deep_branch_outputs.append(x_dense)\n",
    "\n",
    "# merge the deep branches together\n",
    "deep_branch = concatenate(all_deep_branch_outputs,name='concat_embeds')\n",
    "deep_branch = Dense(units=50,activation='relu', name='deep1')(deep_branch)\n",
    "deep_branch = Dense(units=25,activation='relu', name='deep2')(deep_branch)\n",
    "deep_branch = Dense(units=10,activation='relu', name='deep3')(deep_branch)\n",
    "deep_branch = Dense(units=5,activation='relu', name='deep4')(deep_branch)    \n",
    "\n",
    "# merge the deep and wide branch\n",
    "final_branch = Dense(units=1,activation='sigmoid',\n",
    "                     name='combined')(deep_branch)\n",
    "\n",
    "model = Model(inputs=[input_crossed,input_cat,input_num], \n",
    "              outputs=final_branch)"
   ]
  },
  {
   "cell_type": "code",
   "execution_count": 205,
   "id": "fc818449",
   "metadata": {},
   "outputs": [],
   "source": [
    "model.compile(optimizer='adam',\n",
    "              loss='mean_squared_error',\n",
    "              metrics=[Recall(),AUC(from_logits=True)])"
   ]
  },
  {
   "cell_type": "code",
   "execution_count": 206,
   "id": "edcaace2",
   "metadata": {},
   "outputs": [
    {
     "name": "stdout",
     "output_type": "stream",
     "text": [
      "Epoch 1/15\n",
      "26/26 [==============================] - 2s 12ms/step - loss: 0.2424 - recall_16: 0.2424 - auc_16: 0.7481 - val_loss: 0.2238 - val_recall_16: 0.6000 - val_auc_16: 0.8571\n",
      "Epoch 2/15\n",
      "26/26 [==============================] - 0s 3ms/step - loss: 0.2022 - recall_16: 0.7140 - auc_16: 0.8669 - val_loss: 0.1891 - val_recall_16: 0.7000 - val_auc_16: 0.8841\n",
      "Epoch 3/15\n",
      "26/26 [==============================] - 0s 3ms/step - loss: 0.1542 - recall_16: 0.8100 - auc_16: 0.8948 - val_loss: 0.1575 - val_recall_16: 0.7200 - val_auc_16: 0.8841\n",
      "Epoch 4/15\n",
      "26/26 [==============================] - 0s 3ms/step - loss: 0.1262 - recall_16: 0.8406 - auc_16: 0.8996 - val_loss: 0.1526 - val_recall_16: 0.7200 - val_auc_16: 0.8756\n",
      "Epoch 5/15\n",
      "26/26 [==============================] - 0s 3ms/step - loss: 0.1155 - recall_16: 0.8646 - auc_16: 0.9042 - val_loss: 0.1551 - val_recall_16: 0.7400 - val_auc_16: 0.8788\n",
      "Epoch 6/15\n",
      "26/26 [==============================] - 0s 3ms/step - loss: 0.1110 - recall_16: 0.8712 - auc_16: 0.9095 - val_loss: 0.1499 - val_recall_16: 0.7400 - val_auc_16: 0.8790\n",
      "Epoch 7/15\n",
      "26/26 [==============================] - 0s 3ms/step - loss: 0.1108 - recall_16: 0.8821 - auc_16: 0.9116 - val_loss: 0.1436 - val_recall_16: 0.7400 - val_auc_16: 0.8844\n",
      "Epoch 8/15\n",
      "26/26 [==============================] - 0s 5ms/step - loss: 0.1087 - recall_16: 0.8755 - auc_16: 0.9142 - val_loss: 0.1474 - val_recall_16: 0.7400 - val_auc_16: 0.8783\n",
      "Epoch 9/15\n",
      "26/26 [==============================] - 0s 3ms/step - loss: 0.1085 - recall_16: 0.8755 - auc_16: 0.9131 - val_loss: 0.1398 - val_recall_16: 0.8000 - val_auc_16: 0.8832\n",
      "Epoch 10/15\n",
      "26/26 [==============================] - 0s 3ms/step - loss: 0.1077 - recall_16: 0.8755 - auc_16: 0.9164 - val_loss: 0.1468 - val_recall_16: 0.7400 - val_auc_16: 0.8851\n",
      "Epoch 11/15\n",
      "26/26 [==============================] - 0s 3ms/step - loss: 0.1078 - recall_16: 0.8908 - auc_16: 0.9174 - val_loss: 0.1452 - val_recall_16: 0.8000 - val_auc_16: 0.8900\n",
      "Epoch 12/15\n",
      "26/26 [==============================] - 0s 3ms/step - loss: 0.1081 - recall_16: 0.8777 - auc_16: 0.9158 - val_loss: 0.1382 - val_recall_16: 0.8000 - val_auc_16: 0.8861\n",
      "Epoch 13/15\n",
      "26/26 [==============================] - 0s 4ms/step - loss: 0.1049 - recall_16: 0.8843 - auc_16: 0.9185 - val_loss: 0.1399 - val_recall_16: 0.8000 - val_auc_16: 0.8863\n",
      "Epoch 14/15\n",
      "26/26 [==============================] - 0s 3ms/step - loss: 0.1048 - recall_16: 0.8952 - auc_16: 0.9206 - val_loss: 0.1468 - val_recall_16: 0.7400 - val_auc_16: 0.8902\n",
      "Epoch 15/15\n",
      "26/26 [==============================] - 0s 3ms/step - loss: 0.1041 - recall_16: 0.8886 - auc_16: 0.9211 - val_loss: 0.1415 - val_recall_16: 0.8000 - val_auc_16: 0.8878\n"
     ]
    }
   ],
   "source": [
    "history6 = model.fit([X_train_crossed,X_train_cat,X_train_num],\n",
    "                    y_train, \n",
    "                    epochs=15, \n",
    "                    batch_size=32, \n",
    "                    verbose=1, \n",
    "                    validation_data = ([X_test_crossed,X_test_cat,X_test_num],y_test))"
   ]
  },
  {
   "cell_type": "code",
   "execution_count": 207,
   "id": "5d789d31",
   "metadata": {},
   "outputs": [
    {
     "name": "stdout",
     "output_type": "stream",
     "text": [
      "3/3 [==============================] - 0s 0s/step\n"
     ]
    },
    {
     "data": {
      "text/plain": [
       "<Axes: >"
      ]
     },
     "execution_count": 207,
     "metadata": {},
     "output_type": "execute_result"
    },
    {
     "data": {
      "image/png": "[encoded data removed]",
      "text/plain": [
       "<Figure size 720x576 with 2 Axes>"
      ]
     },
     "metadata": {
      "needs_background": "light"
     },
     "output_type": "display_data"
    }
   ],
   "source": [
    "yhat6 = np.round(model.predict([X_test_crossed,X_test_cat,X_test_num]))\n",
    "\n",
    "# create confusion matrix\n",
    "cf_matrix = confusion_matrix(y_test, yhat6)\n",
    "\n",
    "# create number of values in each group\n",
    "group_counts = [\"{0:0.0f}\".format(value) for value in\n",
    "                cf_matrix.flatten()]\n",
    "\n",
    "# create percentages of each group\n",
    "group_percentages = [\"{0:.2%}\".format(value) for value in\n",
    "                      cf_matrix.flatten()/np.sum(cf_matrix)]\n",
    "\n",
    "# create labels\n",
    "group_names = ['True Negative', 'False Positive', 'False Negative', 'True Positive']\n",
    "labels = [f\"{v1}\\n{v2}\\n{v3}\" for v1, v2, v3 in\n",
    "          zip(group_names,group_counts,group_percentages)]\n",
    "labels = np.asarray(labels).reshape(2,2)\n",
    "\n",
    "plt.figure(figsize=(10,8))\n",
    "sns.heatmap(cf_matrix, annot=labels, fmt='')"
   ]
  },
  {
   "cell_type": "code",
   "execution_count": 208,
   "id": "37f68038",
   "metadata": {},
   "outputs": [
    {
     "name": "stdout",
     "output_type": "stream",
     "text": [
      "['loss', 'recall_16', 'auc_16', 'val_loss', 'val_recall_16', 'val_auc_16']\n"
     ]
    }
   ],
   "source": [
    "hist6Keys = list(history6.history.keys())\n",
    "print(hist6Keys)"
   ]
  },
  {
   "cell_type": "code",
   "execution_count": 209,
   "id": "98fe9553",
   "metadata": {},
   "outputs": [
    {
     "data": {
      "text/plain": [
       "Text(0.5, 0, 'epochs')"
      ]
     },
     "execution_count": 209,
     "metadata": {},
     "output_type": "execute_result"
    },
    {
     "data": {
      "image/png": "[encoded data removed]",
      "text/plain": [
       "<Figure size 1080x1080 with 4 Axes>"
      ]
     },
     "metadata": {
      "needs_background": "light"
     },
     "output_type": "display_data"
    }
   ],
   "source": [
    "get_ipython().run_line_magic('matplotlib', 'inline')\n",
    "\n",
    "plt.figure(figsize=(15,15))\n",
    "plt.subplot(2,2,1)\n",
    "plt.plot(history6.history[hist6Keys[1]])\n",
    "\n",
    "plt.ylabel('Accuracy %')\n",
    "plt.title('Training')\n",
    "plt.subplot(2,2,2)\n",
    "plt.plot(history6.history[hist6Keys[3]])\n",
    "plt.title('Validation')\n",
    "\n",
    "plt.subplot(2,2,3)\n",
    "plt.plot(history6.history[hist6Keys[0]])\n",
    "plt.ylabel('Training Loss')\n",
    "plt.xlabel('epochs')\n",
    "\n",
    "plt.subplot(2,2,4)\n",
    "plt.plot(history6.history[hist6Keys[2]])\n",
    "plt.xlabel('epochs')"
   ]
  },
  {
   "cell_type": "code",
   "execution_count": null,
   "id": "98a85756",
   "metadata": {},
   "outputs": [],
   "source": [
    "print(mt.classification_report(y_test,yhat6))\n",
    "print(\"Model Accuracy: \",mt.accuracy_score(y_test,yhat6))"
   ]
  },
  {
   "attachments": {},
   "cell_type": "markdown",
   "id": "adb69a42",
   "metadata": {},
   "source": [
    "### Model Performance Comparison"
   ]
  },
  {
   "cell_type": "code",
   "execution_count": 210,
   "id": "93a245b6",
   "metadata": {},
   "outputs": [
    {
     "name": "stdout",
     "output_type": "stream",
     "text": [
      "Model Accuracy 1:  0.7692307692307693\n",
      "Model Accuracy 2:  0.7802197802197802\n",
      "Model Accuracy 3:  0.8241758241758241\n",
      "\n",
      "Model Accuracy 4:  0.7802197802197802\n",
      "Model Accuracy 5:  0.7802197802197802\n",
      "\n",
      "Model Accuracy 6:  0.8021978021978022\n"
     ]
    }
   ],
   "source": [
    "print(\"Model Accuracy 1: \",mt.accuracy_score(y_test,yhat1))\n",
    "print(\"Model Accuracy 2: \",mt.accuracy_score(y_test,yhat2))\n",
    "print(\"Model Accuracy 3: \",mt.accuracy_score(y_test,yhat3))\n",
    "print()\n",
    "print(\"Model Accuracy 4: \",mt.accuracy_score(y_test,yhat4))\n",
    "print(\"Model Accuracy 5: \",mt.accuracy_score(y_test,yhat5))\n",
    "print()\n",
    "print(\"Model Accuracy 6: \",mt.accuracy_score(y_test,yhat6))"
   ]
  },
  {
   "cell_type": "code",
   "execution_count": 212,
   "id": "463204d3",
   "metadata": {},
   "outputs": [
    {
     "name": "stdout",
     "output_type": "stream",
     "text": [
      "0.7362637362637363\n"
     ]
    },
    {
     "name": "stderr",
     "output_type": "stream",
     "text": [
      "c:\\Users\\gian2\\anaconda3\\lib\\site-packages\\sklearn\\neural_network\\_multilayer_perceptron.py:541: ConvergenceWarning: lbfgs failed to converge (status=1):\n",
      "STOP: TOTAL NO. of ITERATIONS REACHED LIMIT.\n",
      "\n",
      "Increase the number of iterations (max_iter) or scale the data as shown in:\n",
      "    https://scikit-learn.org/stable/modules/preprocessing.html\n",
      "  self.n_iter_ = _check_optimize_result(\"lbfgs\", opt_res, self.max_iter)\n"
     ]
    }
   ],
   "source": [
    "from sklearn.neural_network import MLPClassifier\n",
    "from sklearn import metrics as mt\n",
    "\n",
    "clf = MLPClassifier(solver='lbfgs', alpha=1e-5,\n",
    "                    hidden_layer_sizes=(5, 2), random_state=1)\n",
    "\n",
    "clf.fit(X_train, y_train)\n",
    "y_hat = clf.predict(X_test)\n",
    "\n",
    "print(mt.accuracy_score(y_test,y_hat))"
   ]
  },
  {
   "cell_type": "code",
   "execution_count": 211,
   "id": "c3787781",
   "metadata": {},
   "outputs": [
    {
     "name": "stdout",
     "output_type": "stream",
     "text": [
      "Accuracy of:  0.7912087912087912\n",
      "Wall time: 7.99 ms\n"
     ]
    }
   ],
   "source": [
    "get_ipython().run_cell_magic('time', '', \"from sklearn.linear_model import LogisticRegression\\nfrom sklearn.metrics import accuracy_score\\n\\nlr_sk = LogisticRegression(max_iter = 100) # all params default\\n# note that sklearn is optimized for using the liblinear library with logistic regression\\n# ...and its faster than our implementation here\\n\\nlr_sk.fit(X_train,y_train) # no need to add bias term, sklearn does it internally!!\\n#print(lr_sk.coef_)\\ny_hat1 = lr_sk.predict(X_test)\\nprint('Accuracy of: ',accuracy_score(y_test,y_hat1))\\n#plot_decision_boundaries(lr_sk,X_train,y_train, title = 'Logistic regression from sklrearn')\\n\")"
   ]
  },
  {
   "attachments": {},
   "cell_type": "markdown",
   "id": "e5bb8346",
   "metadata": {},
   "source": [
    "## Graduate Analysis"
   ]
  },
  {
   "cell_type": "code",
   "execution_count": 1,
   "id": "33c9c338",
   "metadata": {},
   "outputs": [
    {
     "ename": "NameError",
     "evalue": "name 'X' is not defined",
     "output_type": "error",
     "traceback": [
      "\u001b[1;31m---------------------------------------------------------------------------\u001b[0m",
      "\u001b[1;31mNameError\u001b[0m                                 Traceback (most recent call last)",
      "\u001b[1;32m~\\AppData\\Local\\Temp/ipykernel_12536/1563056691.py\u001b[0m in \u001b[0;36m<module>\u001b[1;34m\u001b[0m\n\u001b[0;32m      2\u001b[0m \u001b[1;33m\u001b[0m\u001b[0m\n\u001b[0;32m      3\u001b[0m \u001b[0mpca\u001b[0m \u001b[1;33m=\u001b[0m \u001b[0mPCA\u001b[0m\u001b[1;33m(\u001b[0m\u001b[0mn_components\u001b[0m\u001b[1;33m=\u001b[0m\u001b[1;36m2\u001b[0m\u001b[1;33m)\u001b[0m\u001b[1;33m\u001b[0m\u001b[1;33m\u001b[0m\u001b[0m\n\u001b[1;32m----> 4\u001b[1;33m \u001b[0mpca\u001b[0m\u001b[1;33m.\u001b[0m\u001b[0mfit\u001b[0m\u001b[1;33m(\u001b[0m\u001b[0mX\u001b[0m\u001b[1;33m)\u001b[0m \u001b[1;31m# fit data and then transform it\u001b[0m\u001b[1;33m\u001b[0m\u001b[1;33m\u001b[0m\u001b[0m\n\u001b[0m\u001b[0;32m      5\u001b[0m \u001b[0mX_pca\u001b[0m \u001b[1;33m=\u001b[0m \u001b[0mpca\u001b[0m\u001b[1;33m.\u001b[0m\u001b[0mtransform\u001b[0m\u001b[1;33m(\u001b[0m\u001b[0mX\u001b[0m\u001b[1;33m)\u001b[0m\u001b[1;33m\u001b[0m\u001b[1;33m\u001b[0m\u001b[0m\n",
      "\u001b[1;31mNameError\u001b[0m: name 'X' is not defined"
     ]
    }
   ],
   "source": [
    "from sklearn.decomposition import PCA\n",
    "\n",
    "pca = PCA(n_components=2)\n",
    "pca.fit(X) # fit data and then transform it\n",
    "X_pca = pca.transform(X)"
   ]
  },
  {
   "cell_type": "code",
   "execution_count": null,
   "id": "a6468aaa",
   "metadata": {},
   "outputs": [],
   "source": [
    "cmap = sns.set(style=\"darkgrid\") \n",
    "def get_feature_names_from_weights(weights, names):\n",
    "    tmp_array = []\n",
    "    for comp in weights:\n",
    "        tmp_string = ''\n",
    "        for fidx,f in enumerate(names):\n",
    "            if fidx>0 and comp[fidx]>=0:\n",
    "                tmp_string+='+'\n",
    "            tmp_string += '%.2f*%s ' % (comp[fidx],f[:-5])\n",
    "        tmp_array.append(tmp_string)\n",
    "    return tmp_array\n",
    "  \n",
    "plt.style.use('default')\n",
    "pca_weight_strings = get_feature_names_from_weights(pca.components_, feature_columns) \n",
    "\n",
    "# create some pandas dataframes from the transformed outputs\n",
    "df_pca = pd.DataFrame(X_pca,columns=[pca_weight_strings])\n",
    "\n",
    "from matplotlib.pyplot import scatter\n",
    "\n",
    "# scatter plot the output, with the names created from the weights\n",
    "plt.figure(figsize=(15,15))\n",
    "plt.xlabel(pca_weight_strings[0]) \n",
    "plt.ylabel(pca_weight_strings[1])\n",
    "ax = scatter(X_pca[:,0], X_pca[:,1], c=y, s=(y+2)*10, cmap=cmap)"
   ]
  }
 ],
 "metadata": {
  "kernelspec": {
   "display_name": "base",
   "language": "python",
   "name": "python3"
  },
  "language_info": {
   "codemirror_mode": {
    "name": "ipython",
    "version": 3
   },
   "file_extension": ".py",
   "mimetype": "text/x-python",
   "name": "python",
   "nbconvert_exporter": "python",
   "pygments_lexer": "ipython3",
   "version": "3.9.7"
  }
 },
 "nbformat": 4,
 "nbformat_minor": 5
}

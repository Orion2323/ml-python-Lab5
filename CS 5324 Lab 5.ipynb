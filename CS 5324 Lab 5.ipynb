{
 "cells": [
  {
   "attachments": {},
   "cell_type": "markdown",
   "id": "89b62465",
   "metadata": {},
   "source": [
    "# CS 5324 Lab 5: Wide and Deep Networks"
   ]
  },
  {
   "attachments": {},
   "cell_type": "markdown",
   "id": "f52dbc27",
   "metadata": {},
   "source": [
    "For this assignment, we will be exploring the [Heart Failure Prediction](https://www.kaggle.com/datasets/fedesoriano/heart-failure-prediction?resource=download) dataset. It is a collection of datasets combined into one large dataset. This dataset is composed of observations regarding patients' health traits related to the likelihood of heart failure.\n",
    "\n",
    "This dataset was sourced from [Kaggle](https://www.kaggle.com/datasets) and consists of 918 observations."
   ]
  },
  {
   "attachments": {},
   "cell_type": "markdown",
   "id": "b3052a4e",
   "metadata": {},
   "source": [
    "## Team"
   ]
  },
  {
   "attachments": {},
   "cell_type": "markdown",
   "id": "91760563",
   "metadata": {},
   "source": [
    "The team consists of three members:\n",
    "1. Melodie Zhu\n",
    "2. Samina Faheem\n",
    "3. Giancarlos Dominguez"
   ]
  },
  {
   "attachments": {},
   "cell_type": "markdown",
   "id": "1c838ac1",
   "metadata": {},
   "source": [
    "## Dataset Preparation"
   ]
  },
  {
   "attachments": {},
   "cell_type": "markdown",
   "id": "af8dbe65",
   "metadata": {},
   "source": [
    "Let us import our dataset."
   ]
  },
  {
   "cell_type": "code",
   "execution_count": 21,
   "id": "7d6d9e1a",
   "metadata": {},
   "outputs": [],
   "source": [
    "# import libraies\n",
    "import os\n",
    "import pandas as pd\n",
    "import numpy as np\n",
    "import copy"
   ]
  },
  {
   "cell_type": "code",
   "execution_count": 22,
   "id": "eb375a4d",
   "metadata": {},
   "outputs": [],
   "source": [
    "# get dataset from csv file\n",
    "data_directory = os.getcwd() + '\\\\data\\\\heart.csv'\n",
    "df = pd.read_csv(data_directory)"
   ]
  },
  {
   "cell_type": "code",
   "execution_count": 23,
   "id": "613d20ba",
   "metadata": {},
   "outputs": [
    {
     "data": {
      "text/html": [
       "<div>\n",
       "<style scoped>\n",
       "    .dataframe tbody tr th:only-of-type {\n",
       "        vertical-align: middle;\n",
       "    }\n",
       "\n",
       "    .dataframe tbody tr th {\n",
       "        vertical-align: top;\n",
       "    }\n",
       "\n",
       "    .dataframe thead th {\n",
       "        text-align: right;\n",
       "    }\n",
       "</style>\n",
       "<table border=\"1\" class=\"dataframe\">\n",
       "  <thead>\n",
       "    <tr style=\"text-align: right;\">\n",
       "      <th></th>\n",
       "      <th>Age</th>\n",
       "      <th>Sex</th>\n",
       "      <th>ChestPainType</th>\n",
       "      <th>RestingBP</th>\n",
       "      <th>Cholesterol</th>\n",
       "      <th>FastingBS</th>\n",
       "      <th>RestingECG</th>\n",
       "      <th>MaxHR</th>\n",
       "      <th>ExerciseAngina</th>\n",
       "      <th>Oldpeak</th>\n",
       "      <th>ST_Slope</th>\n",
       "      <th>HeartDisease</th>\n",
       "    </tr>\n",
       "  </thead>\n",
       "  <tbody>\n",
       "    <tr>\n",
       "      <th>0</th>\n",
       "      <td>40</td>\n",
       "      <td>M</td>\n",
       "      <td>ATA</td>\n",
       "      <td>140</td>\n",
       "      <td>289</td>\n",
       "      <td>0</td>\n",
       "      <td>Normal</td>\n",
       "      <td>172</td>\n",
       "      <td>N</td>\n",
       "      <td>0.0</td>\n",
       "      <td>Up</td>\n",
       "      <td>0</td>\n",
       "    </tr>\n",
       "    <tr>\n",
       "      <th>1</th>\n",
       "      <td>49</td>\n",
       "      <td>F</td>\n",
       "      <td>NAP</td>\n",
       "      <td>160</td>\n",
       "      <td>180</td>\n",
       "      <td>0</td>\n",
       "      <td>Normal</td>\n",
       "      <td>156</td>\n",
       "      <td>N</td>\n",
       "      <td>1.0</td>\n",
       "      <td>Flat</td>\n",
       "      <td>1</td>\n",
       "    </tr>\n",
       "    <tr>\n",
       "      <th>2</th>\n",
       "      <td>37</td>\n",
       "      <td>M</td>\n",
       "      <td>ATA</td>\n",
       "      <td>130</td>\n",
       "      <td>283</td>\n",
       "      <td>0</td>\n",
       "      <td>ST</td>\n",
       "      <td>98</td>\n",
       "      <td>N</td>\n",
       "      <td>0.0</td>\n",
       "      <td>Up</td>\n",
       "      <td>0</td>\n",
       "    </tr>\n",
       "    <tr>\n",
       "      <th>3</th>\n",
       "      <td>48</td>\n",
       "      <td>F</td>\n",
       "      <td>ASY</td>\n",
       "      <td>138</td>\n",
       "      <td>214</td>\n",
       "      <td>0</td>\n",
       "      <td>Normal</td>\n",
       "      <td>108</td>\n",
       "      <td>Y</td>\n",
       "      <td>1.5</td>\n",
       "      <td>Flat</td>\n",
       "      <td>1</td>\n",
       "    </tr>\n",
       "    <tr>\n",
       "      <th>4</th>\n",
       "      <td>54</td>\n",
       "      <td>M</td>\n",
       "      <td>NAP</td>\n",
       "      <td>150</td>\n",
       "      <td>195</td>\n",
       "      <td>0</td>\n",
       "      <td>Normal</td>\n",
       "      <td>122</td>\n",
       "      <td>N</td>\n",
       "      <td>0.0</td>\n",
       "      <td>Up</td>\n",
       "      <td>0</td>\n",
       "    </tr>\n",
       "  </tbody>\n",
       "</table>\n",
       "</div>"
      ],
      "text/plain": [
       "   Age Sex ChestPainType  RestingBP  Cholesterol  FastingBS RestingECG  MaxHR  \\\n",
       "0   40   M           ATA        140          289          0     Normal    172   \n",
       "1   49   F           NAP        160          180          0     Normal    156   \n",
       "2   37   M           ATA        130          283          0         ST     98   \n",
       "3   48   F           ASY        138          214          0     Normal    108   \n",
       "4   54   M           NAP        150          195          0     Normal    122   \n",
       "\n",
       "  ExerciseAngina  Oldpeak ST_Slope  HeartDisease  \n",
       "0              N      0.0       Up             0  \n",
       "1              N      1.0     Flat             1  \n",
       "2              N      0.0       Up             0  \n",
       "3              Y      1.5     Flat             1  \n",
       "4              N      0.0       Up             0  "
      ]
     },
     "execution_count": 23,
     "metadata": {},
     "output_type": "execute_result"
    }
   ],
   "source": [
    "df.head()"
   ]
  },
  {
   "cell_type": "code",
   "execution_count": 24,
   "id": "5ecfe47d",
   "metadata": {},
   "outputs": [
    {
     "name": "stdout",
     "output_type": "stream",
     "text": [
      "Shape of the dataset (918, 12)\n",
      "\n",
      "Number of observations in the dataset: 918\n",
      "Number of features in the dataset: 12\n"
     ]
    }
   ],
   "source": [
    "print(\"Shape of the dataset\", df.shape)\n",
    "\n",
    "print(f\"\\nNumber of observations in the dataset: {df.shape[0]}\")\n",
    "print(f\"Number of features in the dataset: {df.shape[1]}\")"
   ]
  },
  {
   "attachments": {},
   "cell_type": "markdown",
   "id": "a1840d1e",
   "metadata": {},
   "source": [
    "Next, we will check for any duplicate observations."
   ]
  },
  {
   "cell_type": "code",
   "execution_count": 25,
   "id": "cd0f7c9f",
   "metadata": {},
   "outputs": [
    {
     "name": "stdout",
     "output_type": "stream",
     "text": [
      "\n",
      "Number of duplicate rows: 0\n"
     ]
    }
   ],
   "source": [
    "# check for duplicates\n",
    "print(f\"\\nNumber of duplicate rows: {df.duplicated().sum()}\")"
   ]
  },
  {
   "attachments": {},
   "cell_type": "markdown",
   "id": "87fd4037",
   "metadata": {},
   "source": [
    "Luckily, we don't have to worry about duplicate rows. Now, let us check for rows with missing values."
   ]
  },
  {
   "cell_type": "code",
   "execution_count": 26,
   "id": "1b27747b",
   "metadata": {},
   "outputs": [
    {
     "name": "stdout",
     "output_type": "stream",
     "text": [
      "\n",
      "Number of missing values: 0\n"
     ]
    }
   ],
   "source": [
    "# check for missing values\n",
    "print(f\"\\nNumber of missing values: {df.isnull().sum().sum()}\")"
   ]
  },
  {
   "attachments": {},
   "cell_type": "markdown",
   "id": "edbe3bce",
   "metadata": {},
   "source": [
    "None of our observations have missing values. Therefore, we don't have to worry about holes in our data."
   ]
  },
  {
   "cell_type": "code",
   "execution_count": null,
   "id": "3aca8826",
   "metadata": {},
   "outputs": [],
   "source": [
    "df_imputed = copy.deepcopy(df)"
   ]
  },
  {
   "cell_type": "code",
   "execution_count": null,
   "id": "e1e36df0",
   "metadata": {},
   "outputs": [
    {
     "data": {
      "text/html": [
       "<div>\n",
       "<style scoped>\n",
       "    .dataframe tbody tr th:only-of-type {\n",
       "        vertical-align: middle;\n",
       "    }\n",
       "\n",
       "    .dataframe tbody tr th {\n",
       "        vertical-align: top;\n",
       "    }\n",
       "\n",
       "    .dataframe thead th {\n",
       "        text-align: right;\n",
       "    }\n",
       "</style>\n",
       "<table border=\"1\" class=\"dataframe\">\n",
       "  <thead>\n",
       "    <tr style=\"text-align: right;\">\n",
       "      <th></th>\n",
       "      <th>Age</th>\n",
       "      <th>Sex</th>\n",
       "      <th>ChestPainType</th>\n",
       "      <th>RestingBP</th>\n",
       "      <th>Cholesterol</th>\n",
       "      <th>FastingBS</th>\n",
       "      <th>RestingECG</th>\n",
       "      <th>MaxHR</th>\n",
       "      <th>ExerciseAngina</th>\n",
       "      <th>Oldpeak</th>\n",
       "      <th>ST_Slope</th>\n",
       "      <th>HeartDisease</th>\n",
       "      <th>Sex_int</th>\n",
       "      <th>ChestPainType_int</th>\n",
       "      <th>RestingECG_int</th>\n",
       "      <th>ExerciseAngina_int</th>\n",
       "      <th>ST_Slope_int</th>\n",
       "    </tr>\n",
       "  </thead>\n",
       "  <tbody>\n",
       "    <tr>\n",
       "      <th>0</th>\n",
       "      <td>-1.433140</td>\n",
       "      <td>M</td>\n",
       "      <td>ATA</td>\n",
       "      <td>0.410909</td>\n",
       "      <td>0.825070</td>\n",
       "      <td>0</td>\n",
       "      <td>Normal</td>\n",
       "      <td>1.382928</td>\n",
       "      <td>N</td>\n",
       "      <td>0.0</td>\n",
       "      <td>Up</td>\n",
       "      <td>0</td>\n",
       "      <td>1</td>\n",
       "      <td>1</td>\n",
       "      <td>1</td>\n",
       "      <td>0</td>\n",
       "      <td>2</td>\n",
       "    </tr>\n",
       "    <tr>\n",
       "      <th>1</th>\n",
       "      <td>-0.478484</td>\n",
       "      <td>F</td>\n",
       "      <td>NAP</td>\n",
       "      <td>1.491752</td>\n",
       "      <td>-0.171961</td>\n",
       "      <td>0</td>\n",
       "      <td>Normal</td>\n",
       "      <td>0.754157</td>\n",
       "      <td>N</td>\n",
       "      <td>1.0</td>\n",
       "      <td>Flat</td>\n",
       "      <td>1</td>\n",
       "      <td>0</td>\n",
       "      <td>2</td>\n",
       "      <td>1</td>\n",
       "      <td>0</td>\n",
       "      <td>1</td>\n",
       "    </tr>\n",
       "    <tr>\n",
       "      <th>2</th>\n",
       "      <td>-1.751359</td>\n",
       "      <td>M</td>\n",
       "      <td>ATA</td>\n",
       "      <td>-0.129513</td>\n",
       "      <td>0.770188</td>\n",
       "      <td>0</td>\n",
       "      <td>ST</td>\n",
       "      <td>-1.525138</td>\n",
       "      <td>N</td>\n",
       "      <td>0.0</td>\n",
       "      <td>Up</td>\n",
       "      <td>0</td>\n",
       "      <td>1</td>\n",
       "      <td>1</td>\n",
       "      <td>2</td>\n",
       "      <td>0</td>\n",
       "      <td>2</td>\n",
       "    </tr>\n",
       "    <tr>\n",
       "      <th>3</th>\n",
       "      <td>-0.584556</td>\n",
       "      <td>F</td>\n",
       "      <td>ASY</td>\n",
       "      <td>0.302825</td>\n",
       "      <td>0.139040</td>\n",
       "      <td>0</td>\n",
       "      <td>Normal</td>\n",
       "      <td>-1.132156</td>\n",
       "      <td>Y</td>\n",
       "      <td>1.5</td>\n",
       "      <td>Flat</td>\n",
       "      <td>1</td>\n",
       "      <td>0</td>\n",
       "      <td>0</td>\n",
       "      <td>1</td>\n",
       "      <td>1</td>\n",
       "      <td>1</td>\n",
       "    </tr>\n",
       "    <tr>\n",
       "      <th>4</th>\n",
       "      <td>0.051881</td>\n",
       "      <td>M</td>\n",
       "      <td>NAP</td>\n",
       "      <td>0.951331</td>\n",
       "      <td>-0.034755</td>\n",
       "      <td>0</td>\n",
       "      <td>Normal</td>\n",
       "      <td>-0.581981</td>\n",
       "      <td>N</td>\n",
       "      <td>0.0</td>\n",
       "      <td>Up</td>\n",
       "      <td>0</td>\n",
       "      <td>1</td>\n",
       "      <td>2</td>\n",
       "      <td>1</td>\n",
       "      <td>0</td>\n",
       "      <td>2</td>\n",
       "    </tr>\n",
       "  </tbody>\n",
       "</table>\n",
       "</div>"
      ],
      "text/plain": [
       "        Age Sex ChestPainType  RestingBP  Cholesterol  FastingBS RestingECG  \\\n",
       "0 -1.433140   M           ATA   0.410909     0.825070          0     Normal   \n",
       "1 -0.478484   F           NAP   1.491752    -0.171961          0     Normal   \n",
       "2 -1.751359   M           ATA  -0.129513     0.770188          0         ST   \n",
       "3 -0.584556   F           ASY   0.302825     0.139040          0     Normal   \n",
       "4  0.051881   M           NAP   0.951331    -0.034755          0     Normal   \n",
       "\n",
       "      MaxHR ExerciseAngina  Oldpeak ST_Slope  HeartDisease  Sex_int  \\\n",
       "0  1.382928              N      0.0       Up             0        1   \n",
       "1  0.754157              N      1.0     Flat             1        0   \n",
       "2 -1.525138              N      0.0       Up             0        1   \n",
       "3 -1.132156              Y      1.5     Flat             1        0   \n",
       "4 -0.581981              N      0.0       Up             0        1   \n",
       "\n",
       "   ChestPainType_int  RestingECG_int  ExerciseAngina_int  ST_Slope_int  \n",
       "0                  1               1                   0             2  \n",
       "1                  2               1                   0             1  \n",
       "2                  1               2                   0             2  \n",
       "3                  0               1                   1             1  \n",
       "4                  2               1                   0             2  "
      ]
     },
     "metadata": {},
     "output_type": "display_data"
    }
   ],
   "source": [
    "from sklearn.preprocessing import LabelEncoder\n",
    "from sklearn.preprocessing import StandardScaler\n",
    "\n",
    "# define vars to encode as integer    \n",
    "encoders = dict()\n",
    "categorical_headers = [\n",
    "    'Sex',\n",
    "    'ChestPainType',\n",
    "    'RestingECG',\n",
    "    'ExerciseAngina',\n",
    "    'ST_Slope'\n",
    "]\n",
    "\n",
    "# train all encoders\n",
    "for col in categorical_headers:\n",
    "    df_imputed[col] = df_imputed[col].str.strip()\n",
    "    \n",
    "    if col == 'HeartDisease':\n",
    "        tmp = LabelEncoder()\n",
    "        df_imputed[col] = tmp.fit_transform(df_imputed[col])\n",
    "    else:\n",
    "        # integer encode strings that are features\n",
    "        encoders[col] = LabelEncoder() # save the encoder\n",
    "        df_imputed[col+'_int'] = encoders[col].fit_transform(df_imputed[col])\n",
    "\n",
    "# scale numeric, continuous variables\n",
    "numeric_headers = [\n",
    "    \"Age\", \n",
    "    \"RestingBP\", \n",
    "    \"Cholesterol\",\n",
    "    \"MaxHR\"\n",
    "]\n",
    "\n",
    "ss = StandardScaler()\n",
    "df_imputed[numeric_headers] = ss.fit_transform(df_imputed[numeric_headers])\n",
    "\n",
    "include_header =[\"FastingBS\",\"Oldpeak\"]\n",
    "df_imputed.head()"
   ]
  },
  {
   "cell_type": "code",
   "execution_count": null,
   "id": "74d0439e",
   "metadata": {},
   "outputs": [
    {
     "name": "stdout",
     "output_type": "stream",
     "text": [
      "We will use the following features:\n",
      "[   'Sex_int',\n",
      "    'ChestPainType_int',\n",
      "    'RestingECG_int',\n",
      "    'ExerciseAngina_int',\n",
      "    'ST_Slope_int',\n",
      "    'Age',\n",
      "    'RestingBP',\n",
      "    'Cholesterol',\n",
      "    'MaxHR',\n",
      "    'FastingBS',\n",
      "    'Oldpeak']\n"
     ]
    }
   ],
   "source": [
    "# let's start without any feature preprocessing\n",
    "categorical_headers_ints = [x+'_int' for x in categorical_headers]\n",
    "feature_columns = categorical_headers_ints+numeric_headers+include_header\n",
    "\n",
    "import pprint\n",
    "pp = pprint.PrettyPrinter(indent=4)\n",
    "\n",
    "print(f\"We will use the following {len(feature_columns)} features:\")\n",
    "pp.pprint(feature_columns)"
   ]
  },
  {
   "cell_type": "code",
   "execution_count": 27,
   "id": "a4e8164d",
   "metadata": {},
   "outputs": [
    {
     "name": "stdout",
     "output_type": "stream",
     "text": [
      "<class 'pandas.core.frame.DataFrame'>\n",
      "RangeIndex: 918 entries, 0 to 917\n",
      "Data columns (total 12 columns):\n",
      " #   Column          Non-Null Count  Dtype  \n",
      "---  ------          --------------  -----  \n",
      " 0   Age             918 non-null    int64  \n",
      " 1   Sex             918 non-null    object \n",
      " 2   ChestPainType   918 non-null    object \n",
      " 3   RestingBP       918 non-null    int64  \n",
      " 4   Cholesterol     918 non-null    int64  \n",
      " 5   FastingBS       918 non-null    int64  \n",
      " 6   RestingECG      918 non-null    object \n",
      " 7   MaxHR           918 non-null    int64  \n",
      " 8   ExerciseAngina  918 non-null    object \n",
      " 9   Oldpeak         918 non-null    float64\n",
      " 10  ST_Slope        918 non-null    object \n",
      " 11  HeartDisease    918 non-null    int64  \n",
      "dtypes: float64(1), int64(6), object(5)\n",
      "memory usage: 86.2+ KB\n",
      "None\n"
     ]
    }
   ],
   "source": [
    "print(df.info())"
   ]
  },
  {
   "attachments": {},
   "cell_type": "markdown",
   "id": "a3c6df2d",
   "metadata": {},
   "source": [
    "### Defining Class Variables"
   ]
  },
  {
   "attachments": {},
   "cell_type": "markdown",
   "id": "6696e73b",
   "metadata": {},
   "source": [
    "| Variable Name | Datatype | Description | Values |\n",
    ":------: | :------: | :------: | :------:|\n",
    "| `Age` | Numerical int | How old the patient is (yrs) | NA |\n",
    "| `Sex` | Categorical str | The biological gender of the patient | {**M**: Male, **F**: Female} |\n",
    "| `ChestPainType` | Categorical str | The chest pain condition of the patient | {**TA**: Typical Angina, **ATA**: Atypical Angina, **NAP**: Non-Anginal Pain, **ASY**: Asymptomatic} |\n",
    "| `RestingBP` | Numerical int | The resting blood pressure (mmHg) | NA |\n",
    "| `Cholesterol` | Numerical int | The cholesterol level of the patient (mm/dl) | NA |\n",
    "| `FastingBS` | Categorical int | The fasting blood sugar level of the patient | {**1**: if FastingBS > 120 (mg/dl), **0**: otherwise }|\n",
    "| `RestingECG` | Categorical str | The resting electrocardiogram results of the patient | {**Normal**: Normal, **ST**: Having ST-T wave abnormality (T wave inversions and/or ST elevation or depression of > 0.05 mV), **LVH**: Showing probable or definite left ventricular hypertrophy by Estes' criteria} |\n",
    "| `MaxHR` | Numerical int | The maximum heart rate recorded in the patient | NA |\n",
    "| `ExerciseAngina` | Categorical str | Whether the patient has exersice-induced angina | {**Y**: Yes, **N**: No} |\n",
    "| `OldPeak` | Numerical float | ST segment value of the patient | NA |\n",
    "| `ST_Slope` | Categorical str | Slope of the peak exercise ST segment | {**Up**: Upsloping, **Flat**: Flat, **Down**: Downsloping} |\n",
    "| `HeartDisease` | Categorical int | Whether the patient is likely to have heart failure| {**1**: Likely to have heart failure, **0**: Not likely to have heart failure }"
   ]
  },
  {
   "attachments": {},
   "cell_type": "markdown",
   "id": "b533efa4",
   "metadata": {},
   "source": [
    "Since all of our features are medically related to heart conditions and failure, we will not remove any features from our dataset."
   ]
  },
  {
   "attachments": {},
   "cell_type": "markdown",
   "id": "1b52db25",
   "metadata": {},
   "source": [
    "### Cross Product Features"
   ]
  },
  {
   "attachments": {},
   "cell_type": "markdown",
   "id": "46cd667a",
   "metadata": {},
   "source": [
    "Since our dataset has 12 features, including our target feature, and we don't want our performance to suffer due to overfitting, we will create 2 cross-product features.\n",
    "\n",
    "`Age` & `Sex`: Regarding heart failures and condition, older people are more likely to suffer heart failure. Looking only at gender, men are more at risk of having a heart faiure than women. The combination of these features would capture the effect that age and gender have on the likelihood of suffering heart failure. Therefore, we believe it is worth further exploring by combining these features into a cross product.\n",
    "\n",
    "`Cholesterol` & `RestingBP`: Cholesterol greartly affects the likelihood of someong having a heart failure. However, the team struggled to choose whether to combine it with `RestingBP` or `FastingBS`. Both features also affect the likelihood of heart failure. However, high blood pressure is a more consistant and reliable factor in patients who have heart failure. Additionally, high blood pressure is the leading cause of heart failure in the US. High blood sugar levels can also damage nerves and blood vessels, but it is less reliable since not all people with high blood sugar levels suffer heart failure in their lifetime. Therfore, we chose to create a cross product feature from `Cholesterol` and `RestingBP`."
   ]
  },
  {
   "attachments": {},
   "cell_type": "markdown",
   "id": "5bf66f90",
   "metadata": {},
   "source": [
    "### Evaluation Method"
   ]
  },
  {
   "attachments": {},
   "cell_type": "markdown",
   "id": "bf437a4d",
   "metadata": {},
   "source": [
    "### Dataset Splitting Method"
   ]
  },
  {
   "attachments": {},
   "cell_type": "markdown",
   "id": "b446802e",
   "metadata": {},
   "source": [
    "For this dataset, we will split it using the stratified 10-fold cross validation. Since we only have 918 observations, we need to maximize the use of our dataset. This method will also ensure that the subsets are as evenly distributed as possible, so that our model's performance does not skew towards one class or the other."
   ]
  },
  {
   "cell_type": "code",
   "execution_count": 32,
   "id": "29a53464",
   "metadata": {},
   "outputs": [
    {
     "name": "stdout",
     "output_type": "stream",
     "text": [
      "StratifiedKFold(n_splits=10, random_state=None, shuffle=False)\n"
     ]
    }
   ],
   "source": [
    "from sklearn.model_selection import StratifiedKFold, StratifiedShuffleSplit, ShuffleSplit, cross_val_score\n",
    "\n",
    "# we want to predict the X and y data as follows:\n",
    "X = df_imputed[feature_columns].to_numpy()\n",
    "y = df_imputed['HeartDisease'].values\n",
    "\n",
    "num_cv_iterations = 10\n",
    "num_instances = len(y)\n",
    "cv_object = StratifiedKFold(n_splits=num_cv_iterations)\n",
    "                         \n",
    "print(cv_object)"
   ]
  },
  {
   "cell_type": "code",
   "execution_count": 33,
   "id": "c3dcb0e4",
   "metadata": {},
   "outputs": [],
   "source": [
    "import tensorflow as tf \n",
    "from tensorflow import keras\n",
    "from tensorflow.keras.layers import Dense, Activation, Input\n",
    "from tensorflow.keras.models import Model\n",
    "\n",
    "# run logistic regression and vary some parameters\n",
    "from sklearn import metrics as mt\n",
    "\n",
    "# first we create a reusable logisitic regression object\n",
    "#   here we can setup the object with different learning parameters and constants\n",
    "#lr_clf = HessianBinaryLogisticRegression(eta=0.1,iterations=10) # get object\n",
    "\n",
    "# now we can use the cv_object that we setup before to iterate through the \n",
    "#    different training and testing sets. Each time we will reuse the logisitic regression \n",
    "#    object, but it gets trained on different data each time we use it.\n",
    "\n",
    "iter_num=0\n",
    "# the indices are the rows used for training and testing in each iteration\n",
    "for train_indices, test_indices in cv_object.split(X,y): \n",
    "    # I will create new variables here so that it is more obvious what \n",
    "    # the code is doing (you can compact this syntax and avoid duplicating memory,\n",
    "    # but it makes this code less readable)\n",
    "    X_train = X[train_indices]\n",
    "    y_train = y[train_indices]\n",
    "    \n",
    "    X_test = X[test_indices]\n",
    "    y_test = y[test_indices]\n"
   ]
  },
  {
   "cell_type": "code",
   "execution_count": 34,
   "id": "71e9ca33",
   "metadata": {},
   "outputs": [
    {
     "name": "stdout",
     "output_type": "stream",
     "text": [
      "n_samples: 918\n",
      "n_features: 11\n",
      "n_classes: 2\n"
     ]
    }
   ],
   "source": [
    "# get some of the specifics of the dataset\n",
    "n_samples, n_features = X.shape\n",
    "n_classes = len(np.unique(y))\n",
    "\n",
    "print(\"n_samples: {}\".format(n_samples))\n",
    "print(\"n_features: {}\".format(n_features))\n",
    "print(\"n_classes: {}\".format(n_classes))"
   ]
  },
  {
   "cell_type": "code",
   "execution_count": 35,
   "id": "66922b50",
   "metadata": {},
   "outputs": [
    {
     "name": "stdout",
     "output_type": "stream",
     "text": [
      "Number of instances in each class:[410 508]\n"
     ]
    },
    {
     "data": {
      "image/png": "[encoded data removed]",
      "text/plain": [
       "<Figure size 432x288 with 1 Axes>"
      ]
     },
     "metadata": {},
     "output_type": "display_data"
    }
   ],
   "source": [
    "from matplotlib import pyplot as plt\n",
    "\n",
    "get_ipython().run_line_magic('matplotlib', 'inline')\n",
    "plt.style.use('ggplot')\n",
    "\n",
    "print('Number of instances in each class:'+str(np.bincount(y)))\n",
    "plt.hist(y)\n",
    "plt.show()"
   ]
  },
  {
   "cell_type": "code",
   "execution_count": 36,
   "id": "bc371e7a",
   "metadata": {},
   "outputs": [
    {
     "data": {
      "text/plain": [
       "(0.6958823529411765, 0.9215686274509803)"
      ]
     },
     "execution_count": 36,
     "metadata": {},
     "output_type": "execute_result"
    },
    {
     "data": {
      "image/png": "[encoded data removed]",
      "text/plain": [
       "<Figure size 432x288 with 1 Axes>"
      ]
     },
     "metadata": {},
     "output_type": "display_data"
    }
   ],
   "source": [
    "from sklearn.metrics import make_scorer, accuracy_score\n",
    "from sklearn.metrics import precision_score, recall_score, f1_score\n",
    "from sklearn.linear_model import LogisticRegression\n",
    "\n",
    "# select model\n",
    "clf = LogisticRegression()\n",
    "clf.fit(X,y)\n",
    "\n",
    "#select cross validation\n",
    "cv = StratifiedShuffleSplit(n_splits=10) # made kfold stratified\n",
    "\n",
    "# select evaluation criteria\n",
    "my_scorer = make_scorer(recall_score)\n",
    "\n",
    "# run model training and cross validation\n",
    "per_fold_eval_criteria = cross_val_score(estimator=clf,\n",
    "                                    X=X,\n",
    "                                    y=y,\n",
    "                                    cv=cv,\n",
    "                                    scoring=my_scorer\n",
    "                                   )\n",
    "\n",
    "plt.bar(range(len(per_fold_eval_criteria)),per_fold_eval_criteria)\n",
    "plt.ylim([min(per_fold_eval_criteria)-0.01,max(per_fold_eval_criteria)])\n",
    "#print(per_fold_eval_criteria.mean()*100)\n",
    "\n",
    "\n",
    "# We have 508 values as 'HeartDisease' i.e. 1. From, above bar chart, we can see that few of the bars are 86% i.e. 1 denoting HeartDisease. So, some of folds have perfect recall. lowest here is 0.80, its 80% recall.\n",
    "# \n",
    "# We do not have severe class imbalance in our data set. We need to stratify accross all the folds that we use and make sure classes are stratified in each fold. In order to properly seperate training and testing sets a stratified KFold should be used. Stratified KFold will ensure that each fold is representative of the overall data set. This cross-validation object is a variation of KFold that returns stratified folds. The folds are made by preserving the percentage of samples for each class.\n",
    "# \n",
    "# - Reference : [StratifiedShuffleSplit](https://scikit-learn.org/stable/modules/generated/sklearn.model_selection.StratifiedShuffleSplit.html)"
   ]
  },
  {
   "cell_type": "code",
   "execution_count": 37,
   "id": "ad13f01b",
   "metadata": {},
   "outputs": [
    {
     "name": "stdout",
     "output_type": "stream",
     "text": [
      "We will use the following 11 features:\n",
      "[   'Sex_int',\n",
      "    'ChestPainType_int',\n",
      "    'RestingECG_int',\n",
      "    'ExerciseAngina_int',\n",
      "    'ST_Slope_int',\n",
      "    'Age',\n",
      "    'RestingBP',\n",
      "    'Cholesterol',\n",
      "    'MaxHR',\n",
      "    'FastingBS',\n",
      "    'Oldpeak']\n"
     ]
    }
   ],
   "source": [
    "import pprint\n",
    "pp = pprint.PrettyPrinter(indent=4)\n",
    "\n",
    "print(f\"We will use the following {len(feature_columns)} features:\")\n",
    "pp.pprint(feature_columns)\n",
    "\n",
    "\n",
    "# Identifying the groups of features in the data that should be combined into cross-product features:\n",
    "# \n",
    "# For this dataset, the categorical features are `Sex , ChestPainType , RestingECG, ExerciseAngina , ST_Slope`\n",
    "# \n",
    "# The cross-product operation on the categorical features can be interpreted as logical conjunctions. \n",
    "# The significance of the cross-product features is creating the combined features which are more useful \n",
    "# to the prediction/classification tasks compared with the independent features .\n"
   ]
  },
  {
   "attachments": {},
   "cell_type": "markdown",
   "id": "b147127e",
   "metadata": {},
   "source": [
    "## Modeling"
   ]
  },
  {
   "cell_type": "code",
   "execution_count": 38,
   "id": "c27d3ef0",
   "metadata": {},
   "outputs": [],
   "source": [
    "from tensorflow.keras.layers import Dense, Activation, Input\n",
    "from tensorflow.keras.models import Model\n",
    "from tensorflow.keras.utils import plot_model\n",
    "from tensorflow.keras.metrics import Recall\n",
    "\n",
    "os.environ['KMP_DUPLICATE_LIB_OK']='True'"
   ]
  },
  {
   "cell_type": "code",
   "execution_count": 39,
   "id": "21d04f3c",
   "metadata": {},
   "outputs": [],
   "source": [
    "# First, lets setup the input size\n",
    "num_features = X_train.shape[1]\n",
    "input_tensor = Input(shape=(num_features,))\n",
    "\n",
    "# a layer instance is callable on a tensor, and returns a tensor\n",
    "x = Dense(units=10, activation='relu')(input_tensor)\n",
    "x = Dense(units=5, activation='tanh')(x)\n",
    "predictions = Dense(1, activation='sigmoid')(x)\n",
    "\n",
    "# This creates a model that includes\n",
    "# the Input layer and three Dense layers\n",
    "model = Model(inputs=input_tensor, outputs=predictions)\n"
   ]
  },
  {
   "cell_type": "code",
   "execution_count": 40,
   "id": "73768b5e",
   "metadata": {},
   "outputs": [
    {
     "name": "stdout",
     "output_type": "stream",
     "text": [
      "Model: \"model\"\n",
      "_________________________________________________________________\n",
      " Layer (type)                Output Shape              Param #   \n",
      "=================================================================\n",
      " input_1 (InputLayer)        [(None, 11)]              0         \n",
      "                                                                 \n",
      " dense (Dense)               (None, 10)                120       \n",
      "                                                                 \n",
      " dense_1 (Dense)             (None, 5)                 55        \n",
      "                                                                 \n",
      " dense_2 (Dense)             (None, 1)                 6         \n",
      "                                                                 \n",
      "=================================================================\n",
      "Total params: 181\n",
      "Trainable params: 181\n",
      "Non-trainable params: 0\n",
      "_________________________________________________________________\n",
      "Epoch 1/12\n",
      "26/26 [==============================] - 1s 2ms/step - loss: 0.2857 - recall: 0.2445\n",
      "Epoch 2/12\n",
      "26/26 [==============================] - 0s 2ms/step - loss: 0.2495 - recall: 0.4498\n",
      "Epoch 3/12\n",
      "26/26 [==============================] - 0s 2ms/step - loss: 0.2248 - recall: 0.6092\n",
      "Epoch 4/12\n",
      "26/26 [==============================] - 0s 2ms/step - loss: 0.2071 - recall: 0.7183\n",
      "Epoch 5/12\n",
      "26/26 [==============================] - 0s 2ms/step - loss: 0.1935 - recall: 0.7795\n",
      "Epoch 6/12\n",
      "26/26 [==============================] - 0s 1ms/step - loss: 0.1825 - recall: 0.8057\n",
      "Epoch 7/12\n",
      "26/26 [==============================] - 0s 2ms/step - loss: 0.1735 - recall: 0.8231\n",
      "Epoch 8/12\n",
      "26/26 [==============================] - 0s 1ms/step - loss: 0.1660 - recall: 0.8428\n",
      "Epoch 9/12\n",
      "26/26 [==============================] - 0s 1ms/step - loss: 0.1596 - recall: 0.8515\n",
      "Epoch 10/12\n",
      "26/26 [==============================] - 0s 1ms/step - loss: 0.1543 - recall: 0.8515\n",
      "Epoch 11/12\n",
      "26/26 [==============================] - 0s 1ms/step - loss: 0.1498 - recall: 0.8537\n",
      "Epoch 12/12\n",
      "26/26 [==============================] - 0s 3ms/step - loss: 0.1460 - recall: 0.8559\n"
     ]
    },
    {
     "data": {
      "text/plain": [
       "<keras.callbacks.History at 0x1be2fb92ac0>"
      ]
     },
     "execution_count": 40,
     "metadata": {},
     "output_type": "execute_result"
    }
   ],
   "source": [
    "model.compile(optimizer='sgd',\n",
    "              loss='mean_squared_error',\n",
    "              metrics=[Recall()])\n",
    "\n",
    "model.summary()\n",
    "model.fit(X_train, y_train, epochs=12, verbose=1)"
   ]
  },
  {
   "cell_type": "code",
   "execution_count": 44,
   "id": "e33d3bfd",
   "metadata": {},
   "outputs": [],
   "source": [
    "import graphviz\n",
    "from tensorflow.keras.utils import plot_model"
   ]
  },
  {
   "cell_type": "code",
   "execution_count": 45,
   "id": "0f849d64",
   "metadata": {},
   "outputs": [
    {
     "name": "stdout",
     "output_type": "stream",
     "text": [
      "You must install pydot (`pip install pydot`) and install graphviz (see instructions at https://graphviz.gitlab.io/download/) for plot_model to work.\n"
     ]
    }
   ],
   "source": [
    "plot_model( model, to_file='model.png', show_shapes=True, show_layer_names=True, rankdir='LR')"
   ]
  },
  {
   "cell_type": "code",
   "execution_count": 43,
   "id": "7fa07ddc",
   "metadata": {},
   "outputs": [
    {
     "name": "stdout",
     "output_type": "stream",
     "text": [
      "3/3 [==============================] - 0s 1ms/step\n",
      "[[32  9]\n",
      " [11 39]]\n",
      "              precision    recall  f1-score   support\n",
      "\n",
      "           0       0.74      0.78      0.76        41\n",
      "           1       0.81      0.78      0.80        50\n",
      "\n",
      "    accuracy                           0.78        91\n",
      "   macro avg       0.78      0.78      0.78        91\n",
      "weighted avg       0.78      0.78      0.78        91\n",
      "\n"
     ]
    }
   ],
   "source": [
    "yhat_proba = model.predict(X_test)\n",
    "yhat = np.round(yhat_proba)\n",
    "print(mt.confusion_matrix(y_test,yhat))\n",
    "print(mt.classification_report(y_test,yhat))"
   ]
  },
  {
   "attachments": {},
   "cell_type": "markdown",
   "id": "e5bb8346",
   "metadata": {},
   "source": [
    "## Graduate Analysis"
   ]
  }
 ],
 "metadata": {
  "kernelspec": {
   "display_name": "base",
   "language": "python",
   "name": "python3"
  },
  "language_info": {
   "codemirror_mode": {
    "name": "ipython",
    "version": 3
   },
   "file_extension": ".py",
   "mimetype": "text/x-python",
   "name": "python",
   "nbconvert_exporter": "python",
   "pygments_lexer": "ipython3",
   "version": "3.9.7"
  }
 },
 "nbformat": 4,
 "nbformat_minor": 5
}

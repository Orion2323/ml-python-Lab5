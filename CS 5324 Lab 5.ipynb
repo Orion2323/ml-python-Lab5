{
 "cells": [
  {
   "attachments": {},
   "cell_type": "markdown",
   "id": "89b62465",
   "metadata": {},
   "source": [
    "# CS 5324 Lab 5: Wide and Deep Networks"
   ]
  },
  {
   "attachments": {},
   "cell_type": "markdown",
   "id": "f52dbc27",
   "metadata": {},
   "source": [
    "For this assignment, we will be exploring the [Heart Failure Prediction](https://www.kaggle.com/datasets/fedesoriano/heart-failure-prediction?resource=download) dataset. It is a collection of datasets combined into one large dataset. This dataset is composed of observations regarding patients' health traits related to the likelihood of heart failure.\n",
    "\n",
    "This dataset was sourced from [Kaggle](https://www.kaggle.com/datasets) and consists of 918 observations."
   ]
  },
  {
   "attachments": {},
   "cell_type": "markdown",
   "id": "b3052a4e",
   "metadata": {},
   "source": [
    "## Team"
   ]
  },
  {
   "attachments": {},
   "cell_type": "markdown",
   "id": "91760563",
   "metadata": {},
   "source": [
    "The team consists of three members:\n",
    "1. Melodie Zhu\n",
    "2. Samina Faheem\n",
    "3. Giancarlos Dominguez"
   ]
  },
  {
   "attachments": {},
   "cell_type": "markdown",
   "id": "1c838ac1",
   "metadata": {},
   "source": [
    "## Dataset Preparation"
   ]
  },
  {
   "attachments": {},
   "cell_type": "markdown",
   "id": "af8dbe65",
   "metadata": {},
   "source": [
    "Let us import our dataset."
   ]
  },
  {
   "cell_type": "code",
   "execution_count": 1,
   "id": "7d6d9e1a",
   "metadata": {},
   "outputs": [],
   "source": [
    "# import libraies\n",
    "import os\n",
    "import pandas as pd\n",
    "import numpy as np\n",
    "import copy"
   ]
  },
  {
   "cell_type": "code",
   "execution_count": 2,
   "id": "eb375a4d",
   "metadata": {},
   "outputs": [],
   "source": [
    "# get dataset from csv file\n",
    "data_directory = os.getcwd() + '\\\\data\\\\heart.csv'\n",
    "df = pd.read_csv(data_directory)"
   ]
  },
  {
   "cell_type": "code",
   "execution_count": 3,
   "id": "613d20ba",
   "metadata": {},
   "outputs": [
    {
     "data": {
      "text/html": [
       "<div>\n",
       "<style scoped>\n",
       "    .dataframe tbody tr th:only-of-type {\n",
       "        vertical-align: middle;\n",
       "    }\n",
       "\n",
       "    .dataframe tbody tr th {\n",
       "        vertical-align: top;\n",
       "    }\n",
       "\n",
       "    .dataframe thead th {\n",
       "        text-align: right;\n",
       "    }\n",
       "</style>\n",
       "<table border=\"1\" class=\"dataframe\">\n",
       "  <thead>\n",
       "    <tr style=\"text-align: right;\">\n",
       "      <th></th>\n",
       "      <th>Age</th>\n",
       "      <th>Sex</th>\n",
       "      <th>ChestPainType</th>\n",
       "      <th>RestingBP</th>\n",
       "      <th>Cholesterol</th>\n",
       "      <th>FastingBS</th>\n",
       "      <th>RestingECG</th>\n",
       "      <th>MaxHR</th>\n",
       "      <th>ExerciseAngina</th>\n",
       "      <th>Oldpeak</th>\n",
       "      <th>ST_Slope</th>\n",
       "      <th>HeartDisease</th>\n",
       "    </tr>\n",
       "  </thead>\n",
       "  <tbody>\n",
       "    <tr>\n",
       "      <th>0</th>\n",
       "      <td>40</td>\n",
       "      <td>M</td>\n",
       "      <td>ATA</td>\n",
       "      <td>140</td>\n",
       "      <td>289</td>\n",
       "      <td>0</td>\n",
       "      <td>Normal</td>\n",
       "      <td>172</td>\n",
       "      <td>N</td>\n",
       "      <td>0.0</td>\n",
       "      <td>Up</td>\n",
       "      <td>0</td>\n",
       "    </tr>\n",
       "    <tr>\n",
       "      <th>1</th>\n",
       "      <td>49</td>\n",
       "      <td>F</td>\n",
       "      <td>NAP</td>\n",
       "      <td>160</td>\n",
       "      <td>180</td>\n",
       "      <td>0</td>\n",
       "      <td>Normal</td>\n",
       "      <td>156</td>\n",
       "      <td>N</td>\n",
       "      <td>1.0</td>\n",
       "      <td>Flat</td>\n",
       "      <td>1</td>\n",
       "    </tr>\n",
       "    <tr>\n",
       "      <th>2</th>\n",
       "      <td>37</td>\n",
       "      <td>M</td>\n",
       "      <td>ATA</td>\n",
       "      <td>130</td>\n",
       "      <td>283</td>\n",
       "      <td>0</td>\n",
       "      <td>ST</td>\n",
       "      <td>98</td>\n",
       "      <td>N</td>\n",
       "      <td>0.0</td>\n",
       "      <td>Up</td>\n",
       "      <td>0</td>\n",
       "    </tr>\n",
       "    <tr>\n",
       "      <th>3</th>\n",
       "      <td>48</td>\n",
       "      <td>F</td>\n",
       "      <td>ASY</td>\n",
       "      <td>138</td>\n",
       "      <td>214</td>\n",
       "      <td>0</td>\n",
       "      <td>Normal</td>\n",
       "      <td>108</td>\n",
       "      <td>Y</td>\n",
       "      <td>1.5</td>\n",
       "      <td>Flat</td>\n",
       "      <td>1</td>\n",
       "    </tr>\n",
       "    <tr>\n",
       "      <th>4</th>\n",
       "      <td>54</td>\n",
       "      <td>M</td>\n",
       "      <td>NAP</td>\n",
       "      <td>150</td>\n",
       "      <td>195</td>\n",
       "      <td>0</td>\n",
       "      <td>Normal</td>\n",
       "      <td>122</td>\n",
       "      <td>N</td>\n",
       "      <td>0.0</td>\n",
       "      <td>Up</td>\n",
       "      <td>0</td>\n",
       "    </tr>\n",
       "  </tbody>\n",
       "</table>\n",
       "</div>"
      ],
      "text/plain": [
       "   Age Sex ChestPainType  RestingBP  Cholesterol  FastingBS RestingECG  MaxHR  \\\n",
       "0   40   M           ATA        140          289          0     Normal    172   \n",
       "1   49   F           NAP        160          180          0     Normal    156   \n",
       "2   37   M           ATA        130          283          0         ST     98   \n",
       "3   48   F           ASY        138          214          0     Normal    108   \n",
       "4   54   M           NAP        150          195          0     Normal    122   \n",
       "\n",
       "  ExerciseAngina  Oldpeak ST_Slope  HeartDisease  \n",
       "0              N      0.0       Up             0  \n",
       "1              N      1.0     Flat             1  \n",
       "2              N      0.0       Up             0  \n",
       "3              Y      1.5     Flat             1  \n",
       "4              N      0.0       Up             0  "
      ]
     },
     "execution_count": 3,
     "metadata": {},
     "output_type": "execute_result"
    }
   ],
   "source": [
    "df.head()"
   ]
  },
  {
   "cell_type": "code",
   "execution_count": 4,
   "id": "5ecfe47d",
   "metadata": {},
   "outputs": [
    {
     "name": "stdout",
     "output_type": "stream",
     "text": [
      "Shape of the dataset (918, 12)\n",
      "\n",
      "Number of observations in the dataset: 918\n",
      "Number of features in the dataset: 12\n"
     ]
    }
   ],
   "source": [
    "print(\"Shape of the dataset\", df.shape)\n",
    "\n",
    "print(f\"\\nNumber of observations in the dataset: {df.shape[0]}\")\n",
    "print(f\"Number of features in the dataset: {df.shape[1]}\")"
   ]
  },
  {
   "attachments": {},
   "cell_type": "markdown",
   "id": "a1840d1e",
   "metadata": {},
   "source": [
    "Next, we will check for any duplicate observations."
   ]
  },
  {
   "cell_type": "code",
   "execution_count": 5,
   "id": "cd0f7c9f",
   "metadata": {},
   "outputs": [
    {
     "name": "stdout",
     "output_type": "stream",
     "text": [
      "\n",
      "Number of duplicate rows: 0\n"
     ]
    }
   ],
   "source": [
    "# check for duplicates\n",
    "print(f\"\\nNumber of duplicate rows: {df.duplicated().sum()}\")"
   ]
  },
  {
   "attachments": {},
   "cell_type": "markdown",
   "id": "87fd4037",
   "metadata": {},
   "source": [
    "Luckily, we don't have to worry about duplicate rows. Now, let us check for rows with missing values."
   ]
  },
  {
   "cell_type": "code",
   "execution_count": 6,
   "id": "1b27747b",
   "metadata": {},
   "outputs": [
    {
     "name": "stdout",
     "output_type": "stream",
     "text": [
      "\n",
      "Number of missing values: 0\n"
     ]
    }
   ],
   "source": [
    "# check for missing values\n",
    "print(f\"\\nNumber of missing values: {df.isnull().sum().sum()}\")"
   ]
  },
  {
   "attachments": {},
   "cell_type": "markdown",
   "id": "edbe3bce",
   "metadata": {},
   "source": [
    "None of our observations have missing values. Therefore, we don't have to worry about holes in our data."
   ]
  },
  {
   "attachments": {},
   "cell_type": "markdown",
   "id": "a3c6df2d",
   "metadata": {},
   "source": [
    "### Defining Class Variables"
   ]
  },
  {
   "attachments": {},
   "cell_type": "markdown",
   "id": "6696e73b",
   "metadata": {},
   "source": [
    "| Variable Name | Datatype | Description | Values |\n",
    ":------: | :------: | :------: | :------:|\n",
    "| `Age` | Numerical int | How old the patient is (yrs) | NA |\n",
    "| `Sex` | Categorical str | The biological gender of the patient | **M**: Male, **F**: Female |\n",
    "| `ChestPainType` | Categorical str | The chest pain condition of the patient | **TA**: Typical Angina, **ATA**: Atypical Angina, **NAP**: Non-Anginal Pain, **ASY**: Asymptomatic |\n",
    "| `RestingBP` | Numerical int | The resting blood pressure (mmHg) | NA |\n",
    "| `Cholesterol` | Numerical int | The cholesterol level of the patient (mm/dl) | NA |\n",
    "| `FastingBS` | Categorical int | The fasting blood sugar level of the patient | **1**: if FastingBS > 120 (mg/dl), **0**: otherwise |\n",
    "| `RestingECG` | Categorical str | The resting electrocardiogram results of the patient | **Normal**: Normal, **ST**: Having ST-T wave abnormality (T wave inversions and/or ST elevation or depression of > 0.05 mV), **LVH**: Showing probable or definite left ventricular hypertrophy by Estes' criteria |\n",
    "| `MaxHR` | Numerical int | The maximum heart rate recorded in the patient | NA |\n",
    "| `ExerciseAngina` | Categorical str | Whether the patient has exersice-induced angina | **Y**: Yes, **N**: No |\n",
    "| `OldPeak` | Numerical float | ST segment value of the patient | NA |\n",
    "| `ST_Slope` | Categorical str | Slope of the peak exercise ST segment | **Up**: Upsloping, **Flat**: Flat, **Down**: Downsloping |\n",
    "| `HeartDisease` | Categorical int | Whether the patient is likely to have heart failure| **1**: Likely to have heart failure, **0**: Not likely to have heart failure"
   ]
  },
  {
   "attachments": {},
   "cell_type": "markdown",
   "id": "b533efa4",
   "metadata": {},
   "source": [
    "Since all of our features are medically related to heart conditions and failure, we will not remove any features from our dataset.<br>\n",
    "\n",
    "Now, we will convert our categorical variables into integers and standardize our numerical variables."
   ]
  },
  {
   "cell_type": "code",
   "execution_count": 7,
   "id": "185ebe00",
   "metadata": {},
   "outputs": [
    {
     "data": {
      "text/html": [
       "<div>\n",
       "<style scoped>\n",
       "    .dataframe tbody tr th:only-of-type {\n",
       "        vertical-align: middle;\n",
       "    }\n",
       "\n",
       "    .dataframe tbody tr th {\n",
       "        vertical-align: top;\n",
       "    }\n",
       "\n",
       "    .dataframe thead th {\n",
       "        text-align: right;\n",
       "    }\n",
       "</style>\n",
       "<table border=\"1\" class=\"dataframe\">\n",
       "  <thead>\n",
       "    <tr style=\"text-align: right;\">\n",
       "      <th></th>\n",
       "      <th>Age</th>\n",
       "      <th>Sex</th>\n",
       "      <th>ChestPainType</th>\n",
       "      <th>RestingBP</th>\n",
       "      <th>Cholesterol</th>\n",
       "      <th>FastingBS</th>\n",
       "      <th>RestingECG</th>\n",
       "      <th>MaxHR</th>\n",
       "      <th>ExerciseAngina</th>\n",
       "      <th>Oldpeak</th>\n",
       "      <th>ST_Slope</th>\n",
       "      <th>HeartDisease</th>\n",
       "      <th>Sex_int</th>\n",
       "      <th>ChestPainType_int</th>\n",
       "      <th>RestingECG_int</th>\n",
       "      <th>ExerciseAngina_int</th>\n",
       "      <th>ST_Slope_int</th>\n",
       "    </tr>\n",
       "  </thead>\n",
       "  <tbody>\n",
       "    <tr>\n",
       "      <th>0</th>\n",
       "      <td>-1.433140</td>\n",
       "      <td>M</td>\n",
       "      <td>ATA</td>\n",
       "      <td>0.410909</td>\n",
       "      <td>0.825070</td>\n",
       "      <td>0</td>\n",
       "      <td>Normal</td>\n",
       "      <td>1.382928</td>\n",
       "      <td>N</td>\n",
       "      <td>0.0</td>\n",
       "      <td>Up</td>\n",
       "      <td>0</td>\n",
       "      <td>1</td>\n",
       "      <td>1</td>\n",
       "      <td>1</td>\n",
       "      <td>0</td>\n",
       "      <td>2</td>\n",
       "    </tr>\n",
       "    <tr>\n",
       "      <th>1</th>\n",
       "      <td>-0.478484</td>\n",
       "      <td>F</td>\n",
       "      <td>NAP</td>\n",
       "      <td>1.491752</td>\n",
       "      <td>-0.171961</td>\n",
       "      <td>0</td>\n",
       "      <td>Normal</td>\n",
       "      <td>0.754157</td>\n",
       "      <td>N</td>\n",
       "      <td>1.0</td>\n",
       "      <td>Flat</td>\n",
       "      <td>1</td>\n",
       "      <td>0</td>\n",
       "      <td>2</td>\n",
       "      <td>1</td>\n",
       "      <td>0</td>\n",
       "      <td>1</td>\n",
       "    </tr>\n",
       "    <tr>\n",
       "      <th>2</th>\n",
       "      <td>-1.751359</td>\n",
       "      <td>M</td>\n",
       "      <td>ATA</td>\n",
       "      <td>-0.129513</td>\n",
       "      <td>0.770188</td>\n",
       "      <td>0</td>\n",
       "      <td>ST</td>\n",
       "      <td>-1.525138</td>\n",
       "      <td>N</td>\n",
       "      <td>0.0</td>\n",
       "      <td>Up</td>\n",
       "      <td>0</td>\n",
       "      <td>1</td>\n",
       "      <td>1</td>\n",
       "      <td>2</td>\n",
       "      <td>0</td>\n",
       "      <td>2</td>\n",
       "    </tr>\n",
       "    <tr>\n",
       "      <th>3</th>\n",
       "      <td>-0.584556</td>\n",
       "      <td>F</td>\n",
       "      <td>ASY</td>\n",
       "      <td>0.302825</td>\n",
       "      <td>0.139040</td>\n",
       "      <td>0</td>\n",
       "      <td>Normal</td>\n",
       "      <td>-1.132156</td>\n",
       "      <td>Y</td>\n",
       "      <td>1.5</td>\n",
       "      <td>Flat</td>\n",
       "      <td>1</td>\n",
       "      <td>0</td>\n",
       "      <td>0</td>\n",
       "      <td>1</td>\n",
       "      <td>1</td>\n",
       "      <td>1</td>\n",
       "    </tr>\n",
       "    <tr>\n",
       "      <th>4</th>\n",
       "      <td>0.051881</td>\n",
       "      <td>M</td>\n",
       "      <td>NAP</td>\n",
       "      <td>0.951331</td>\n",
       "      <td>-0.034755</td>\n",
       "      <td>0</td>\n",
       "      <td>Normal</td>\n",
       "      <td>-0.581981</td>\n",
       "      <td>N</td>\n",
       "      <td>0.0</td>\n",
       "      <td>Up</td>\n",
       "      <td>0</td>\n",
       "      <td>1</td>\n",
       "      <td>2</td>\n",
       "      <td>1</td>\n",
       "      <td>0</td>\n",
       "      <td>2</td>\n",
       "    </tr>\n",
       "  </tbody>\n",
       "</table>\n",
       "</div>"
      ],
      "text/plain": [
       "        Age Sex ChestPainType  RestingBP  Cholesterol  FastingBS RestingECG  \\\n",
       "0 -1.433140   M           ATA   0.410909     0.825070          0     Normal   \n",
       "1 -0.478484   F           NAP   1.491752    -0.171961          0     Normal   \n",
       "2 -1.751359   M           ATA  -0.129513     0.770188          0         ST   \n",
       "3 -0.584556   F           ASY   0.302825     0.139040          0     Normal   \n",
       "4  0.051881   M           NAP   0.951331    -0.034755          0     Normal   \n",
       "\n",
       "      MaxHR ExerciseAngina  Oldpeak ST_Slope  HeartDisease  Sex_int  \\\n",
       "0  1.382928              N      0.0       Up             0        1   \n",
       "1  0.754157              N      1.0     Flat             1        0   \n",
       "2 -1.525138              N      0.0       Up             0        1   \n",
       "3 -1.132156              Y      1.5     Flat             1        0   \n",
       "4 -0.581981              N      0.0       Up             0        1   \n",
       "\n",
       "   ChestPainType_int  RestingECG_int  ExerciseAngina_int  ST_Slope_int  \n",
       "0                  1               1                   0             2  \n",
       "1                  2               1                   0             1  \n",
       "2                  1               2                   0             2  \n",
       "3                  0               1                   1             1  \n",
       "4                  2               1                   0             2  "
      ]
     },
     "execution_count": 7,
     "metadata": {},
     "output_type": "execute_result"
    }
   ],
   "source": [
    "from sklearn.preprocessing import LabelEncoder\n",
    "from sklearn.preprocessing import StandardScaler\n",
    "\n",
    "df_imputed = copy.deepcopy(df)\n",
    "\n",
    "# define vars to encode as integer    \n",
    "encoders = dict()\n",
    "categorical_headers = [\n",
    "    'Sex',\n",
    "    'ChestPainType',\n",
    "    'RestingECG',\n",
    "    'ExerciseAngina',\n",
    "    'ST_Slope'\n",
    "]\n",
    "\n",
    "# train all encoders\n",
    "for col in categorical_headers:\n",
    "    df_imputed[col] = df_imputed[col].str.strip()\n",
    "    \n",
    "    if col == 'HeartDisease':\n",
    "        tmp = LabelEncoder()\n",
    "        df_imputed[col] = tmp.fit_transform(df_imputed[col])\n",
    "    else:\n",
    "        # integer encode strings that are features\n",
    "        encoders[col] = LabelEncoder() # save the encoder\n",
    "        df_imputed[col+'_int'] = encoders[col].fit_transform(df_imputed[col])\n",
    "\n",
    "# scale numeric, continuous variables\n",
    "numeric_headers = [\n",
    "    \"Age\", \n",
    "    \"RestingBP\", \n",
    "    \"Cholesterol\",\n",
    "    \"MaxHR\"\n",
    "]\n",
    "\n",
    "ss = StandardScaler()\n",
    "df_imputed[numeric_headers] = ss.fit_transform(df_imputed[numeric_headers])\n",
    "\n",
    "include_header =[\"FastingBS\",\"Oldpeak\"]\n",
    "df_imputed.head()"
   ]
  },
  {
   "attachments": {},
   "cell_type": "markdown",
   "id": "4eeacfe9",
   "metadata": {},
   "source": [
    "It should be noted that we encoded our categorical variables into integers. The column names will be denoted by their original name with \"_int\" added at the end, but their context to the dataset will not change. Below are the variables we will use throughout the lab."
   ]
  },
  {
   "cell_type": "code",
   "execution_count": 8,
   "id": "4c3e6f19",
   "metadata": {},
   "outputs": [
    {
     "name": "stdout",
     "output_type": "stream",
     "text": [
      "We will use the following 11 features:\n",
      "[   'Sex_int',\n",
      "    'ChestPainType_int',\n",
      "    'RestingECG_int',\n",
      "    'ExerciseAngina_int',\n",
      "    'ST_Slope_int',\n",
      "    'Age',\n",
      "    'RestingBP',\n",
      "    'Cholesterol',\n",
      "    'MaxHR',\n",
      "    'FastingBS',\n",
      "    'Oldpeak']\n"
     ]
    }
   ],
   "source": [
    "categorical_headers_ints = [x+'_int' for x in categorical_headers]\n",
    "feature_columns = categorical_headers_ints+numeric_headers+include_header\n",
    "\n",
    "import pprint\n",
    "pp = pprint.PrettyPrinter(indent=4)\n",
    "\n",
    "print(f\"We will use the following {len(feature_columns)} features:\")\n",
    "pp.pprint(feature_columns)"
   ]
  },
  {
   "cell_type": "code",
   "execution_count": 9,
   "id": "fa892117",
   "metadata": {},
   "outputs": [
    {
     "name": "stdout",
     "output_type": "stream",
     "text": [
      "\n",
      "Categorical String Headers:\n",
      "['Sex', 'ChestPainType', 'RestingECG', 'ExerciseAngina', 'ST_Slope']\n",
      "\n",
      "Categorical Headers, Encoded as Integer:\n",
      "[   'Sex_int',\n",
      "    'ChestPainType_int',\n",
      "    'RestingECG_int',\n",
      "    'ExerciseAngina_int',\n",
      "    'ST_Slope_int']\n"
     ]
    }
   ],
   "source": [
    "print(\"\\nCategorical String Headers:\")\n",
    "pp.pprint(categorical_headers) # string data\n",
    "print(\"\\nCategorical Headers, Encoded as Integer:\")\n",
    "pp.pprint(categorical_headers_ints) # string data encoded as an integer"
   ]
  },
  {
   "attachments": {},
   "cell_type": "markdown",
   "id": "1b52db25",
   "metadata": {},
   "source": [
    "### Cross Product Features"
   ]
  },
  {
   "attachments": {},
   "cell_type": "markdown",
   "id": "46cd667a",
   "metadata": {},
   "source": [
    "Our dataset has 12 features, but we will focus on the categorical features (excluding our target feature) to make 2 cross-product features. We will limit ourselves to 2 cross-product features since we don't want to overfit the model and negatively affect our model's performance.\n",
    "\n",
    "`ChestPainType` & `ExerciseAngina`: The `ChestPainType` features considers differents types of angina. By merging the `ChestPainType` and `ExerciseAngina`, we can explore if there is any correlation between the different angina types and whether they were caused by exercise.\n",
    "\n",
    "`FastingBS` & `RestingECG`: The changes in a patient's fasting blood sugar level can influence the heart's electrical activity. By combining these features, we hope to highlight any correlation between a patient's fasting blood sugar level and their electrocardiogram results."
   ]
  },
  {
   "attachments": {},
   "cell_type": "markdown",
   "id": "5bf66f90",
   "metadata": {},
   "source": [
    "### Evaluation Method"
   ]
  },
  {
   "attachments": {},
   "cell_type": "markdown",
   "id": "0aa8cca2",
   "metadata": {},
   "source": [
    "For evaluating our models' performance, we will not be using accuracy, since it is prone to being skewed depending on how balanced the dataset is, among other factors. Instead, we will be using the recall evalutuation method. We will use this method due to the medical nature of our dataset, making it necessary to account for true positives and false negatives. Predicting false negative have higher consequences in a medical dataset. Hence, Recall should be used instead of accuracy due to the importance of false negatives for this dataset."
   ]
  },
  {
   "attachments": {},
   "cell_type": "markdown",
   "id": "bf437a4d",
   "metadata": {},
   "source": [
    "### Dataset Splitting Method"
   ]
  },
  {
   "attachments": {},
   "cell_type": "markdown",
   "id": "b446802e",
   "metadata": {},
   "source": [
    "For this dataset, we will split it using the stratified 10-fold cross validation. Since we only have 918 observations, we need to maximize the use of our dataset. This method will also ensure that the subsets are as evenly distributed like the class ratio of the overall dataset. By using stratified 10-folds, we ensure that the sub-datasets will not be more unbalanced."
   ]
  },
  {
   "cell_type": "code",
   "execution_count": 11,
   "id": "29a53464",
   "metadata": {},
   "outputs": [
    {
     "name": "stdout",
     "output_type": "stream",
     "text": [
      "Number of observations in dataset: 918\n",
      "Number of features in dataset: 11\n",
      "Number of classes for the target feature (HeartDisease): 2\n"
     ]
    }
   ],
   "source": [
    "from sklearn.model_selection import StratifiedKFold, StratifiedShuffleSplit, cross_val_score\n",
    "\n",
    "# we want to predict the X and y data as follows:\n",
    "X = df_imputed[feature_columns].to_numpy()\n",
    "y = df_imputed['HeartDisease'].values\n",
    "\n",
    "# get size of dataset, number of features, and number of classes\n",
    "n_samples, n_features = X.shape\n",
    "n_classes = len(np.unique(y))\n",
    "\n",
    "print(\"Number of observations in dataset: {}\".format(n_samples))\n",
    "print(\"Number of features in dataset: {}\".format(n_features))\n",
    "print(\"Number of classes for the target feature (HeartDisease): {}\".format(n_classes))"
   ]
  },
  {
   "cell_type": "code",
   "execution_count": 12,
   "id": "e8b074fc",
   "metadata": {},
   "outputs": [
    {
     "name": "stdout",
     "output_type": "stream",
     "text": [
      "Number of instances in each class:[410 508]\n"
     ]
    },
    {
     "data": {
      "image/png": "[encoded data removed]",
      "text/plain": [
       "<Figure size 1080x720 with 1 Axes>"
      ]
     },
     "metadata": {},
     "output_type": "display_data"
    }
   ],
   "source": [
    "from matplotlib import pyplot as plt\n",
    "\n",
    "get_ipython().run_line_magic('matplotlib', 'inline')\n",
    "plt.style.use('ggplot')\n",
    "\n",
    "print('Number of instances in each class:'+str(np.bincount(y)))\n",
    "\n",
    "# plot piechart of the number of instances in each class\n",
    "plt.figure(figsize=(15,10))\n",
    "plt.pie(np.bincount(y), labels=['No Heart Disease', 'Heart Disease'], autopct='%1.2f%%')\n",
    "plt.show()"
   ]
  },
  {
   "attachments": {},
   "cell_type": "markdown",
   "id": "46acd214",
   "metadata": {},
   "source": [
    "From the pie chart above, we observe that the dataset classes are unbalanced. There are more patients with the likelihood of having heart failure than those not likely to have heart disease. With stratified 10-fold cross validation, all of our subsets will have the same 55/44 class ratio to prevent it from becoming further unbalanced.\n",
    "\n",
    "Now, we will split our dataset."
   ]
  },
  {
   "cell_type": "code",
   "execution_count": 13,
   "id": "f61d13e5",
   "metadata": {},
   "outputs": [
    {
     "name": "stdout",
     "output_type": "stream",
     "text": [
      "StratifiedKFold(n_splits=10, random_state=None, shuffle=False)\n"
     ]
    }
   ],
   "source": [
    "num_cv_iterations = 10\n",
    "num_instances = len(y)\n",
    "cv_object = StratifiedKFold(n_splits=num_cv_iterations)\n",
    "                         \n",
    "print(cv_object)"
   ]
  },
  {
   "cell_type": "code",
   "execution_count": 14,
   "id": "c3dcb0e4",
   "metadata": {},
   "outputs": [],
   "source": [
    "import tensorflow as tf \n",
    "from tensorflow import keras\n",
    "from tensorflow.keras.layers import Dense, Activation, Input\n",
    "from tensorflow.keras.models import Model\n",
    "from sklearn import metrics as mt\n",
    "\n",
    "iter_num=0\n",
    "\n",
    "for train_indices, test_indices in cv_object.split(X,y): \n",
    "    X_train = X[train_indices]\n",
    "    y_train = y[train_indices]\n",
    "    \n",
    "    X_test = X[test_indices]\n",
    "    y_test = y[test_indices]\n"
   ]
  },
  {
   "cell_type": "code",
   "execution_count": 15,
   "id": "bc371e7a",
   "metadata": {},
   "outputs": [
    {
     "name": "stdout",
     "output_type": "stream",
     "text": [
      "Recall score average: 86.47058823529413\n"
     ]
    },
    {
     "data": {
      "image/png": "[encoded data removed]",
      "text/plain": [
       "<Figure size 720x720 with 1 Axes>"
      ]
     },
     "metadata": {},
     "output_type": "display_data"
    }
   ],
   "source": [
    "from sklearn.metrics import make_scorer, recall_score\n",
    "from sklearn.linear_model import LogisticRegression\n",
    "\n",
    "# select model\n",
    "clf = LogisticRegression()\n",
    "clf.fit(X,y)\n",
    "\n",
    "#select cross validation\n",
    "cv = StratifiedShuffleSplit(n_splits=10)\n",
    "# select evaluation criteria\n",
    "my_scorer = make_scorer(recall_score)\n",
    "\n",
    "# run model training and cross validation\n",
    "per_fold_eval_criteria = cross_val_score(estimator=clf,\n",
    "                                    X=X,\n",
    "                                    y=y,\n",
    "                                    cv=cv,\n",
    "                                    scoring=my_scorer\n",
    "                                   )\n",
    "\n",
    "plt.figure(figsize=(10,10))\n",
    "plt.bar(range(len(per_fold_eval_criteria)),per_fold_eval_criteria)\n",
    "plt.ylim([min(per_fold_eval_criteria)-0.01,max(per_fold_eval_criteria)])\n",
    "\n",
    "# title and labels\n",
    "plt.title('Recall Score per Fold')\n",
    "plt.ylabel('Recall Score')\n",
    "plt.xlabel('Fold Number')\n",
    "\n",
    "print(f'Recall score average: {per_fold_eval_criteria.mean()*100}')\n",
    "plt.show()"
   ]
  },
  {
   "attachments": {},
   "cell_type": "markdown",
   "id": "a70afea1",
   "metadata": {},
   "source": [
    "Some of our folds have a recall value of 0.9. The closer to 1 the recall score is, the better our model's performance. Since our average recall value among the folds is in the high 0.8's, we can say that our model is performing well."
   ]
  },
  {
   "attachments": {},
   "cell_type": "markdown",
   "id": "b147127e",
   "metadata": {},
   "source": [
    "## Modeling"
   ]
  },
  {
   "attachments": {},
   "cell_type": "markdown",
   "id": "5b088231",
   "metadata": {},
   "source": [
    "### Base Network"
   ]
  },
  {
   "attachments": {},
   "cell_type": "markdown",
   "id": "11bc7ea2",
   "metadata": {},
   "source": [
    "In order to compare the different wide and deep neural networks, we will first need a base neural network."
   ]
  },
  {
   "cell_type": "code",
   "execution_count": 16,
   "id": "c27d3ef0",
   "metadata": {},
   "outputs": [],
   "source": [
    "from tensorflow.keras.layers import Dense, Activation, Input\n",
    "from tensorflow.keras.models import Model\n",
    "from tensorflow.keras.utils import plot_model\n",
    "from tensorflow.keras.metrics import Recall\n",
    "\n",
    "os.environ['KMP_DUPLICATE_LIB_OK']='True'"
   ]
  },
  {
   "cell_type": "code",
   "execution_count": 17,
   "id": "21d04f3c",
   "metadata": {},
   "outputs": [],
   "source": [
    "# First, lets setup the input size\n",
    "num_features = X_train.shape[1]\n",
    "input_tensor = Input(shape=(num_features,))\n",
    "\n",
    "# a layer instance is callable on a tensor, and returns a tensor\n",
    "x = Dense(units=4, activation='relu')(input_tensor)\n",
    "x = Dense(units=5, activation='relu')(x)\n",
    "predictions = Dense(1, activation='relu')(x)\n",
    "\n",
    "# model with input and 3 dense layers\n",
    "model = Model(inputs=input_tensor, outputs=predictions)\n"
   ]
  },
  {
   "cell_type": "code",
   "execution_count": 18,
   "id": "73768b5e",
   "metadata": {},
   "outputs": [
    {
     "name": "stdout",
     "output_type": "stream",
     "text": [
      "Model: \"model\"\n",
      "_________________________________________________________________\n",
      " Layer (type)                Output Shape              Param #   \n",
      "=================================================================\n",
      " input_1 (InputLayer)        [(None, 11)]              0         \n",
      "                                                                 \n",
      " dense (Dense)               (None, 4)                 48        \n",
      "                                                                 \n",
      " dense_1 (Dense)             (None, 5)                 25        \n",
      "                                                                 \n",
      " dense_2 (Dense)             (None, 1)                 6         \n",
      "                                                                 \n",
      "=================================================================\n",
      "Total params: 79\n",
      "Trainable params: 79\n",
      "Non-trainable params: 0\n",
      "_________________________________________________________________\n"
     ]
    }
   ],
   "source": [
    "model.compile(optimizer='adam',\n",
    "              loss='mean_squared_error',\n",
    "              metrics=[Recall()])\n",
    "\n",
    "model.summary()"
   ]
  },
  {
   "attachments": {},
   "cell_type": "markdown",
   "id": "8286f8f8",
   "metadata": {},
   "source": [
    "Our base neural network will have 3 layers:\n",
    "\n",
    "First Layer: 4 nodes<br>\n",
    "Second Layer: 3 nodes<br>\n",
    "Output Layer: 1 node<br>"
   ]
  },
  {
   "cell_type": "code",
   "execution_count": 19,
   "id": "fef3b209",
   "metadata": {},
   "outputs": [
    {
     "name": "stdout",
     "output_type": "stream",
     "text": [
      "Epoch 1/12\n",
      "26/26 [==============================] - 1s 2ms/step - loss: 0.5538 - recall: 0.0000e+00\n",
      "Epoch 2/12\n",
      "26/26 [==============================] - 0s 2ms/step - loss: 0.5538 - recall: 0.0000e+00\n",
      "Epoch 3/12\n",
      "26/26 [==============================] - 0s 1ms/step - loss: 0.5538 - recall: 0.0000e+00\n",
      "Epoch 4/12\n",
      "26/26 [==============================] - 0s 1ms/step - loss: 0.5538 - recall: 0.0000e+00\n",
      "Epoch 5/12\n",
      "26/26 [==============================] - 0s 1ms/step - loss: 0.5538 - recall: 0.0000e+00\n",
      "Epoch 6/12\n",
      "26/26 [==============================] - 0s 1ms/step - loss: 0.5538 - recall: 0.0000e+00\n",
      "Epoch 7/12\n",
      "26/26 [==============================] - 0s 1ms/step - loss: 0.5538 - recall: 0.0000e+00\n",
      "Epoch 8/12\n",
      "26/26 [==============================] - 0s 1ms/step - loss: 0.5538 - recall: 0.0000e+00\n",
      "Epoch 9/12\n",
      "26/26 [==============================] - 0s 1ms/step - loss: 0.5538 - recall: 0.0000e+00\n",
      "Epoch 10/12\n",
      "26/26 [==============================] - 0s 2ms/step - loss: 0.5538 - recall: 0.0000e+00\n",
      "Epoch 11/12\n",
      "26/26 [==============================] - 0s 2ms/step - loss: 0.5538 - recall: 0.0000e+00\n",
      "Epoch 12/12\n",
      "26/26 [==============================] - 0s 2ms/step - loss: 0.5538 - recall: 0.0000e+00\n"
     ]
    },
    {
     "data": {
      "text/plain": [
       "<keras.callbacks.History at 0x1ef62738df0>"
      ]
     },
     "execution_count": 19,
     "metadata": {},
     "output_type": "execute_result"
    }
   ],
   "source": [
    "model.fit(X_train, y_train, epochs=12, verbose=1)"
   ]
  },
  {
   "attachments": {},
   "cell_type": "markdown",
   "id": "9fc24327",
   "metadata": {},
   "source": [
    "Observing the model summary, we see that the loss values decreases through each epoch, meaning that the model's number of correct predictions improves. Our recall value increase with each epoch, meaning that it becomes better at predicting the true positives and not mispredicting with false negatives. Overall, these metrics allow us to say that our model's prediction capabilities are not declining."
   ]
  },
  {
   "cell_type": "code",
   "execution_count": 20,
   "id": "e33d3bfd",
   "metadata": {},
   "outputs": [
    {
     "name": "stdout",
     "output_type": "stream",
     "text": [
      "You must install pydot (`pip install pydot`) and install graphviz (see instructions at https://graphviz.gitlab.io/download/) for plot_model to work.\n"
     ]
    }
   ],
   "source": [
    "import pydot_ng as pydot\n",
    "import graphviz\n",
    "from tensorflow.keras.utils import plot_model\n",
    "\n",
    "plot_model(model, to_file='model.png', show_shapes=True, show_layer_names=True, rankdir='LR')"
   ]
  },
  {
   "attachments": {},
   "cell_type": "markdown",
   "id": "c18ac365",
   "metadata": {},
   "source": [
    "We have some idea of our model's performance, but now we will graph them using a heatmap."
   ]
  },
  {
   "cell_type": "code",
   "execution_count": 21,
   "id": "7fa07ddc",
   "metadata": {},
   "outputs": [
    {
     "name": "stdout",
     "output_type": "stream",
     "text": [
      "3/3 [==============================] - 0s 4ms/step\n"
     ]
    },
    {
     "data": {
      "text/plain": [
       "<AxesSubplot:>"
      ]
     },
     "execution_count": 21,
     "metadata": {},
     "output_type": "execute_result"
    },
    {
     "data": {
      "image/png": "[encoded data removed]",
      "text/plain": [
       "<Figure size 720x576 with 2 Axes>"
      ]
     },
     "metadata": {},
     "output_type": "display_data"
    }
   ],
   "source": [
    "import seaborn as sns\n",
    "from sklearn.metrics import confusion_matrix\n",
    "\n",
    "yhat = np.round(model.predict(X_test))\n",
    "\n",
    "# create confusion matrix\n",
    "cf_matrix = confusion_matrix(y_test, yhat)\n",
    "\n",
    "# create number of values in each group\n",
    "group_counts = [\"{0:0.0f}\".format(value) for value in\n",
    "                cf_matrix.flatten()]\n",
    "\n",
    "# create percentages of each group\n",
    "group_percentages = [\"{0:.2%}\".format(value) for value in\n",
    "                    cf_matrix.flatten()/np.sum(cf_matrix)]\n",
    "\n",
    "# create labels\n",
    "group_names = ['True Negative', 'False Positive', 'False Negative', 'True Positive']\n",
    "labels = [f\"{v1}\\n{v2}\\n{v3}\" for v1, v2, v3 in\n",
    "          zip(group_names,group_counts,group_percentages)]\n",
    "labels = np.asarray(labels).reshape(2,2)\n",
    "\n",
    "plt.figure(figsize=(10,8))\n",
    "sns.heatmap(cf_matrix, annot=labels, fmt='')"
   ]
  },
  {
   "attachments": {},
   "cell_type": "markdown",
   "id": "1cf68dc6",
   "metadata": {},
   "source": [
    "Now let us look at the classification report."
   ]
  },
  {
   "cell_type": "code",
   "execution_count": 22,
   "id": "13ed1bea",
   "metadata": {},
   "outputs": [
    {
     "name": "stdout",
     "output_type": "stream",
     "text": [
      "              precision    recall  f1-score   support\n",
      "\n",
      "           0       0.45      1.00      0.62        41\n",
      "           1       0.00      0.00      0.00        50\n",
      "\n",
      "    accuracy                           0.45        91\n",
      "   macro avg       0.23      0.50      0.31        91\n",
      "weighted avg       0.20      0.45      0.28        91\n",
      "\n",
      "Accuracy of model: 0.45054945054945056\n"
     ]
    },
    {
     "name": "stderr",
     "output_type": "stream",
     "text": [
      "c:\\Users\\gian2\\anaconda3\\lib\\site-packages\\sklearn\\metrics\\_classification.py:1344: UndefinedMetricWarning: Precision and F-score are ill-defined and being set to 0.0 in labels with no predicted samples. Use `zero_division` parameter to control this behavior.\n",
      "  _warn_prf(average, modifier, msg_start, len(result))\n",
      "c:\\Users\\gian2\\anaconda3\\lib\\site-packages\\sklearn\\metrics\\_classification.py:1344: UndefinedMetricWarning: Precision and F-score are ill-defined and being set to 0.0 in labels with no predicted samples. Use `zero_division` parameter to control this behavior.\n",
      "  _warn_prf(average, modifier, msg_start, len(result))\n",
      "c:\\Users\\gian2\\anaconda3\\lib\\site-packages\\sklearn\\metrics\\_classification.py:1344: UndefinedMetricWarning: Precision and F-score are ill-defined and being set to 0.0 in labels with no predicted samples. Use `zero_division` parameter to control this behavior.\n",
      "  _warn_prf(average, modifier, msg_start, len(result))\n"
     ]
    }
   ],
   "source": [
    "print(mt.classification_report(y_test,yhat))\n",
    "print(f\"Accuracy of model: {mt.accuracy_score(y_test,yhat)}\")"
   ]
  },
  {
   "attachments": {},
   "cell_type": "markdown",
   "id": "1677ff69",
   "metadata": {},
   "source": [
    "`WRITE WHEN WE RUN NOTEBOOK FOR LAST TIME`\n",
    "\n",
    "We can observe our model's performance using different evaluation metrics:\n",
    "\n",
    "`Precision`: measures the accuracy of positive predictions<br>\n",
    "`Recall`:  measures how many actual positive were predicted correctly<br>\n",
    "`F1-score`: the average of both precision and recall scores<br>\n",
    "\n",
    "Overall, the result values for the different evalutation methods are higher from *class 1* in comparison to *class 0*. This could be due to the dataset having more *class 1* instances."
   ]
  },
  {
   "attachments": {},
   "cell_type": "markdown",
   "id": "f2ed93d0",
   "metadata": {},
   "source": [
    "### First Combination"
   ]
  },
  {
   "attachments": {},
   "cell_type": "markdown",
   "id": "a4e502fd",
   "metadata": {},
   "source": [
    "Our first wide and deep neural network will have 16 layers, including the input and output layer."
   ]
  },
  {
   "attachments": {},
   "cell_type": "markdown",
   "id": "8ec43236",
   "metadata": {},
   "source": [
    "In order to add one-hot encoding, we need to separate the categorical features that are currently saved as integers and place them into Embedding layers. An embedding layer deals with integers as if they were one-hot encoded."
   ]
  },
  {
   "cell_type": "code",
   "execution_count": 23,
   "id": "e522dd8b",
   "metadata": {},
   "outputs": [],
   "source": [
    "from tensorflow.keras.layers import Embedding\n",
    "from tensorflow.keras.layers import concatenate\n",
    "\n",
    "embed_branches = []\n",
    "all_branch_outputs = [] # this is where we will keep track of output of each branch\n",
    "\n",
    "# feed in the entire matrix of categircal variables\n",
    "input_branch = Input(shape=(X_train.shape[1],), \n",
    "                     dtype='int64', \n",
    "                     name='categorical')\n",
    "\n",
    "# for each categorical variable\n",
    "for idx,col in enumerate(categorical_headers_ints):\n",
    "    N = df_imputed[col].max()+1 \n",
    "    \n",
    "    # this line of code does this: input_branch[:,idx]\n",
    "    x = tf.gather(input_branch, idx, axis=1)\n",
    "    \n",
    "    # now use an embedding to deal with integers as if they were one hot encoded\n",
    "    x = Embedding(input_dim=N, \n",
    "                  output_dim=int(np.sqrt(N)), \n",
    "                  input_length=1, name=col+'_embed')(x)\n",
    "    \n",
    "    # save these outputs in list to concatenate later\n",
    "    all_branch_outputs.append(x)\n",
    "    \n",
    "# now concatenate the outputs and add a fully connected layer\n",
    "final_branch = concatenate(all_branch_outputs, name='concat_1')\n",
    "final_branch = Dense(units=1,\n",
    "                     activation='relu', \n",
    "                     name='combined')(final_branch)\n",
    "\n",
    "model = Model(inputs=input_branch, outputs=final_branch)\n",
    "\n",
    "model.compile(optimizer='adam',\n",
    "              loss='mean_squared_error',\n",
    "              metrics=[Recall()])"
   ]
  },
  {
   "cell_type": "code",
   "execution_count": 24,
   "id": "3b942702",
   "metadata": {},
   "outputs": [
    {
     "name": "stdout",
     "output_type": "stream",
     "text": [
      "You must install pydot (`pip install pydot`) and install graphviz (see instructions at https://graphviz.gitlab.io/download/) for plot_model to work.\n"
     ]
    }
   ],
   "source": [
    "plot_model(\n",
    "    model, to_file='model.png', show_shapes=True, show_layer_names=True,\n",
    "    rankdir='LR', expand_nested=False, dpi=96\n",
    ")"
   ]
  },
  {
   "cell_type": "code",
   "execution_count": 25,
   "id": "f840eeac",
   "metadata": {},
   "outputs": [
    {
     "name": "stdout",
     "output_type": "stream",
     "text": [
      "Epoch 1/12\n",
      "17/17 [==============================] - 1s 1ms/step - loss: 0.5261 - recall_1: 0.0000e+00\n",
      "Epoch 2/12\n",
      "17/17 [==============================] - 0s 2ms/step - loss: 0.4704 - recall_1: 0.0000e+00\n",
      "Epoch 3/12\n",
      "17/17 [==============================] - 0s 1ms/step - loss: 0.4150 - recall_1: 0.0000e+00\n",
      "Epoch 4/12\n",
      "17/17 [==============================] - 0s 2ms/step - loss: 0.3667 - recall_1: 0.0000e+00\n",
      "Epoch 5/12\n",
      "17/17 [==============================] - 0s 2ms/step - loss: 0.3251 - recall_1: 0.0000e+00\n",
      "Epoch 6/12\n",
      "17/17 [==============================] - 0s 2ms/step - loss: 0.2887 - recall_1: 0.0000e+00\n",
      "Epoch 7/12\n",
      "17/17 [==============================] - 0s 3ms/step - loss: 0.2567 - recall_1: 0.0000e+00\n",
      "Epoch 8/12\n",
      "17/17 [==============================] - 0s 2ms/step - loss: 0.2304 - recall_1: 0.0611\n",
      "Epoch 9/12\n",
      "17/17 [==============================] - 0s 1ms/step - loss: 0.2074 - recall_1: 0.4170\n",
      "Epoch 10/12\n",
      "17/17 [==============================] - 0s 1ms/step - loss: 0.1884 - recall_1: 0.7074\n",
      "Epoch 11/12\n",
      "17/17 [==============================] - 0s 2ms/step - loss: 0.1726 - recall_1: 0.8100\n",
      "Epoch 12/12\n",
      "17/17 [==============================] - 0s 1ms/step - loss: 0.1598 - recall_1: 0.8755\n"
     ]
    }
   ],
   "source": [
    "history1=model.fit(X_train, y_train, epochs=12, batch_size=50, verbose=1)"
   ]
  },
  {
   "cell_type": "code",
   "execution_count": 26,
   "id": "28f97303",
   "metadata": {},
   "outputs": [
    {
     "name": "stdout",
     "output_type": "stream",
     "text": [
      "3/3 [==============================] - 0s 0s/step\n"
     ]
    },
    {
     "data": {
      "text/plain": [
       "<AxesSubplot:>"
      ]
     },
     "execution_count": 26,
     "metadata": {},
     "output_type": "execute_result"
    },
    {
     "data": {
      "image/png": "[encoded data removed]",
      "text/plain": [
       "<Figure size 720x576 with 2 Axes>"
      ]
     },
     "metadata": {},
     "output_type": "display_data"
    }
   ],
   "source": [
    "yhat1 = np.round(model.predict(X_test))\n",
    "\n",
    "# create confusion matrix\n",
    "cf_matrix = confusion_matrix(y_test, yhat1)\n",
    "\n",
    "# create number of values in each group\n",
    "group_counts = [\"{0:0.0f}\".format(value) for value in\n",
    "                cf_matrix.flatten()]\n",
    "\n",
    "# create percentages of each group\n",
    "group_percentages = [\"{0:.2%}\".format(value) for value in\n",
    "                      cf_matrix.flatten()/np.sum(cf_matrix)]\n",
    "\n",
    "# create labels\n",
    "group_names = ['True Negative', 'False Positive', 'False Negative', 'True Positive']\n",
    "labels = [f\"{v1}\\n{v2}\\n{v3}\" for v1, v2, v3 in\n",
    "          zip(group_names,group_counts,group_percentages)]\n",
    "labels = np.asarray(labels).reshape(2,2)\n",
    "\n",
    "plt.figure(figsize=(10,8))\n",
    "sns.heatmap(cf_matrix, annot=labels, fmt='')"
   ]
  },
  {
   "cell_type": "code",
   "execution_count": 27,
   "id": "fd9148c2",
   "metadata": {},
   "outputs": [
    {
     "name": "stdout",
     "output_type": "stream",
     "text": [
      "              precision    recall  f1-score   support\n",
      "\n",
      "           0       0.45      1.00      0.62        41\n",
      "           1       0.00      0.00      0.00        50\n",
      "\n",
      "    accuracy                           0.45        91\n",
      "   macro avg       0.23      0.50      0.31        91\n",
      "weighted avg       0.20      0.45      0.28        91\n",
      "\n",
      "Accuracy of model: 0.45054945054945056\n"
     ]
    },
    {
     "name": "stderr",
     "output_type": "stream",
     "text": [
      "c:\\Users\\gian2\\anaconda3\\lib\\site-packages\\sklearn\\metrics\\_classification.py:1344: UndefinedMetricWarning: Precision and F-score are ill-defined and being set to 0.0 in labels with no predicted samples. Use `zero_division` parameter to control this behavior.\n",
      "  _warn_prf(average, modifier, msg_start, len(result))\n",
      "c:\\Users\\gian2\\anaconda3\\lib\\site-packages\\sklearn\\metrics\\_classification.py:1344: UndefinedMetricWarning: Precision and F-score are ill-defined and being set to 0.0 in labels with no predicted samples. Use `zero_division` parameter to control this behavior.\n",
      "  _warn_prf(average, modifier, msg_start, len(result))\n",
      "c:\\Users\\gian2\\anaconda3\\lib\\site-packages\\sklearn\\metrics\\_classification.py:1344: UndefinedMetricWarning: Precision and F-score are ill-defined and being set to 0.0 in labels with no predicted samples. Use `zero_division` parameter to control this behavior.\n",
      "  _warn_prf(average, modifier, msg_start, len(result))\n"
     ]
    }
   ],
   "source": [
    "print(mt.classification_report(y_test,yhat))\n",
    "print(f\"Accuracy of model: {mt.accuracy_score(y_test,yhat)}\")"
   ]
  },
  {
   "cell_type": "code",
   "execution_count": 28,
   "id": "4703e17f",
   "metadata": {},
   "outputs": [
    {
     "name": "stdout",
     "output_type": "stream",
     "text": [
      "['loss', 'recall_1']\n"
     ]
    }
   ],
   "source": [
    "hist1Keys = list(history1.history.keys())\n",
    "print(hist1Keys)"
   ]
  },
  {
   "cell_type": "code",
   "execution_count": 29,
   "id": "039717d6",
   "metadata": {},
   "outputs": [
    {
     "data": {
      "text/plain": [
       "Text(0.5, 0, 'epochs')"
      ]
     },
     "execution_count": 29,
     "metadata": {},
     "output_type": "execute_result"
    },
    {
     "data": {
      "image/png": "[encoded data removed]",
      "text/plain": [
       "<Figure size 1080x1080 with 2 Axes>"
      ]
     },
     "metadata": {
      "needs_background": "light"
     },
     "output_type": "display_data"
    }
   ],
   "source": [
    "get_ipython().run_line_magic('matplotlib', 'inline')\n",
    "\n",
    "plt.figure(figsize=(15,15))\n",
    "\n",
    "\n",
    "plt.subplot(2,2,1)\n",
    "plt.plot(history1.history[hist1Keys[1]])\n",
    "plt.title('Training Recall vs Epochs')\n",
    "plt.ylabel('Training Recall')\n",
    "plt.xlabel('epochs')\n",
    "\n",
    "plt.subplot(2,2,3)\n",
    "plt.plot(history1.history[hist1Keys[0]])\n",
    "plt.title('Training Loss vs Epochs')\n",
    "plt.ylabel('Training Loss')\n",
    "plt.xlabel('epochs')"
   ]
  },
  {
   "attachments": {},
   "cell_type": "markdown",
   "id": "28df765d",
   "metadata": {},
   "source": [
    "### Second Combination"
   ]
  },
  {
   "cell_type": "code",
   "execution_count": 30,
   "id": "ba2942fb",
   "metadata": {},
   "outputs": [],
   "source": [
    "cat_X = df_imputed[categorical_headers_ints].to_numpy()\n",
    "# we want to predict the X and y data as follows:\n",
    "cat_y = df_imputed['HeartDisease'].values\n",
    "iter_num=0\n",
    "\n",
    "# the indices are the rows used for training and testing in each iteration\n",
    "for train_indices, test_indices in cv_object.split(cat_X,cat_y): \n",
    "    X_train_cat = cat_X[train_indices]\n",
    "    y_train_cat = cat_y[train_indices]\n",
    "    \n",
    "    X_test_cat = cat_X[test_indices]\n",
    "    y_test_cat = cat_y[test_indices]\n",
    "    \n",
    "num_X = df_imputed[categorical_headers_ints].to_numpy()\n",
    "\n",
    "# we want to predict the X and y data as follows:\n",
    "num_y = df_imputed['HeartDisease'].values # get the labels we want\n",
    "iter_num=0\n",
    "\n",
    "# the indices are the rows used for training and testing in each iteration\n",
    "for train_indices, test_indices in cv_object.split(num_X,num_y): \n",
    "    X_train_num = num_X[train_indices]\n",
    "    y_train_num = num_y[train_indices]\n",
    "    \n",
    "    X_test_num = num_X[test_indices]\n",
    "    y_test_num = num_y[test_indices]\n"
   ]
  },
  {
   "cell_type": "code",
   "execution_count": 31,
   "id": "92060593",
   "metadata": {},
   "outputs": [
    {
     "name": "stdout",
     "output_type": "stream",
     "text": [
      "\n",
      "This model has 16 layers.\n",
      "Model: \"model_2\"\n",
      "__________________________________________________________________________________________________\n",
      " Layer (type)                   Output Shape         Param #     Connected to                     \n",
      "==================================================================================================\n",
      " categorical (InputLayer)       [(None, 5)]          0           []                               \n",
      "                                                                                                  \n",
      " tf.compat.v1.gather_5 (TFOpLam  (None,)             0           ['categorical[0][0]']            \n",
      " bda)                                                                                             \n",
      "                                                                                                  \n",
      " tf.compat.v1.gather_6 (TFOpLam  (None,)             0           ['categorical[0][0]']            \n",
      " bda)                                                                                             \n",
      "                                                                                                  \n",
      " tf.compat.v1.gather_7 (TFOpLam  (None,)             0           ['categorical[0][0]']            \n",
      " bda)                                                                                             \n",
      "                                                                                                  \n",
      " tf.compat.v1.gather_8 (TFOpLam  (None,)             0           ['categorical[0][0]']            \n",
      " bda)                                                                                             \n",
      "                                                                                                  \n",
      " tf.compat.v1.gather_9 (TFOpLam  (None,)             0           ['categorical[0][0]']            \n",
      " bda)                                                                                             \n",
      "                                                                                                  \n",
      " numeric (InputLayer)           [(None, 5)]          0           []                               \n",
      "                                                                                                  \n",
      " Sex_int_embed (Embedding)      (None, 1)            2           ['tf.compat.v1.gather_5[0][0]']  \n",
      "                                                                                                  \n",
      " ChestPainType_int_embed (Embed  (None, 2)           8           ['tf.compat.v1.gather_6[0][0]']  \n",
      " ding)                                                                                            \n",
      "                                                                                                  \n",
      " RestingECG_int_embed (Embeddin  (None, 1)           3           ['tf.compat.v1.gather_7[0][0]']  \n",
      " g)                                                                                               \n",
      "                                                                                                  \n",
      " ExerciseAngina_int_embed (Embe  (None, 1)           2           ['tf.compat.v1.gather_8[0][0]']  \n",
      " dding)                                                                                           \n",
      "                                                                                                  \n",
      " ST_Slope_int_embed (Embedding)  (None, 1)           3           ['tf.compat.v1.gather_9[0][0]']  \n",
      "                                                                                                  \n",
      " num_1 (Dense)                  (None, 22)           132         ['numeric[0][0]']                \n",
      "                                                                                                  \n",
      " concat_1 (Concatenate)         (None, 28)           0           ['Sex_int_embed[0][0]',          \n",
      "                                                                  'ChestPainType_int_embed[0][0]',\n",
      "                                                                  'RestingECG_int_embed[0][0]',   \n",
      "                                                                  'ExerciseAngina_int_embed[0][0]'\n",
      "                                                                 , 'ST_Slope_int_embed[0][0]',    \n",
      "                                                                  'num_1[0][0]']                  \n",
      "                                                                                                  \n",
      " combined_1 (Dense)             (None, 10)           290         ['concat_1[0][0]']               \n",
      "                                                                                                  \n",
      " combined_2 (Dense)             (None, 1)            11          ['combined_1[0][0]']             \n",
      "                                                                                                  \n",
      "==================================================================================================\n",
      "Total params: 451\n",
      "Trainable params: 451\n",
      "Non-trainable params: 0\n",
      "__________________________________________________________________________________________________\n"
     ]
    }
   ],
   "source": [
    "all_branch_outputs = [] # this is where we will keep track of output of each branch\n",
    "\n",
    "input_cat = Input(shape=(X_train_cat.shape[1],), dtype='int64', name='categorical')\n",
    "for idx,col in enumerate(categorical_headers_ints):\n",
    "    N = df_imputed[col].max()+1\n",
    "    \n",
    "    # this line of code does this: input_branch[:,idx]\n",
    "    x = tf.gather(input_cat, idx, axis=1)\n",
    "    \n",
    "    # now use an embedding to deal with integers as if they were one hot encoded\n",
    "    x = Embedding(input_dim=N, \n",
    "                  output_dim=int(np.sqrt(N)), \n",
    "                  input_length=1, name=col+'_embed')(x)\n",
    "    \n",
    "    # save these outputs to concatenate later\n",
    "    all_branch_outputs.append(x)\n",
    "\n",
    "# create dense input branch for numeric\n",
    "inputs_num = Input(shape=(X_train_num.shape[1],), name='numeric')\n",
    "x_dense = Dense(units=22, activation='relu', name='num_1')(inputs_num)\n",
    "    \n",
    "all_branch_outputs.append(x_dense)\n",
    "\n",
    "# now concatenate the outputs and add a fully connected layer\n",
    "final_branch = concatenate(all_branch_outputs, name='concat_1')\n",
    "final_branch = Dense(units=10, activation='relu', name='combined_1')(final_branch)\n",
    "final_branch = Dense(units=1, activation='relu', name='combined_2')(final_branch)\n",
    "\n",
    "model = Model(inputs=[input_cat,inputs_num], outputs=final_branch)\n",
    "\n",
    "# print number of layers\n",
    "print(f\"\\nThis model has {len(model.layers)} layers.\")\n",
    "\n",
    "model.compile(optimizer='Adam',\n",
    "              loss='mean_squared_error',\n",
    "              metrics=[Recall()])\n",
    "\n",
    "model.summary()"
   ]
  },
  {
   "cell_type": "code",
   "execution_count": 32,
   "id": "9cedd6f9",
   "metadata": {},
   "outputs": [
    {
     "name": "stdout",
     "output_type": "stream",
     "text": [
      "You must install pydot (`pip install pydot`) and install graphviz (see instructions at https://graphviz.gitlab.io/download/) for plot_model to work.\n"
     ]
    }
   ],
   "source": [
    "plot_model(model, \n",
    "           to_file='model.png',\n",
    "           show_shapes=True,\n",
    "           show_layer_names=True,\n",
    "           rankdir='LR',\n",
    "           expand_nested=False, \n",
    "           dpi=96)"
   ]
  },
  {
   "cell_type": "code",
   "execution_count": 33,
   "id": "640e85dd",
   "metadata": {},
   "outputs": [
    {
     "name": "stdout",
     "output_type": "stream",
     "text": [
      "Epoch 1/12\n",
      "17/17 [==============================] - 1s 2ms/step - loss: 0.2192 - recall_2: 0.5044\n",
      "Epoch 2/12\n",
      "17/17 [==============================] - 0s 2ms/step - loss: 0.1768 - recall_2: 0.7926\n",
      "Epoch 3/12\n",
      "17/17 [==============================] - 0s 2ms/step - loss: 0.1484 - recall_2: 0.8166\n",
      "Epoch 4/12\n",
      "17/17 [==============================] - 0s 2ms/step - loss: 0.1333 - recall_2: 0.8384\n",
      "Epoch 5/12\n",
      "17/17 [==============================] - 0s 2ms/step - loss: 0.1246 - recall_2: 0.8450\n",
      "Epoch 6/12\n",
      "17/17 [==============================] - 0s 2ms/step - loss: 0.1203 - recall_2: 0.8362\n",
      "Epoch 7/12\n",
      "17/17 [==============================] - 0s 2ms/step - loss: 0.1152 - recall_2: 0.8515\n",
      "Epoch 8/12\n",
      "17/17 [==============================] - 0s 2ms/step - loss: 0.1141 - recall_2: 0.8515\n",
      "Epoch 9/12\n",
      "17/17 [==============================] - 0s 1ms/step - loss: 0.1127 - recall_2: 0.8384\n",
      "Epoch 10/12\n",
      "17/17 [==============================] - 0s 1ms/step - loss: 0.1111 - recall_2: 0.8493\n",
      "Epoch 11/12\n",
      "17/17 [==============================] - 0s 2ms/step - loss: 0.1099 - recall_2: 0.8777\n",
      "Epoch 12/12\n",
      "17/17 [==============================] - 0s 2ms/step - loss: 0.1091 - recall_2: 0.8493\n"
     ]
    }
   ],
   "source": [
    "history2=model.fit([ X_train_cat, X_train_num ], # inputs for each branch are a list\n",
    "          y_train, \n",
    "          epochs=12, \n",
    "          batch_size=50, \n",
    "          verbose=1)"
   ]
  },
  {
   "cell_type": "code",
   "execution_count": 34,
   "id": "6e60b5db",
   "metadata": {},
   "outputs": [
    {
     "name": "stdout",
     "output_type": "stream",
     "text": [
      "3/3 [==============================] - 0s 4ms/step\n"
     ]
    },
    {
     "data": {
      "text/plain": [
       "<AxesSubplot:>"
      ]
     },
     "execution_count": 34,
     "metadata": {},
     "output_type": "execute_result"
    },
    {
     "data": {
      "image/png": "[encoded data removed]",
      "text/plain": [
       "<Figure size 720x576 with 2 Axes>"
      ]
     },
     "metadata": {
      "needs_background": "light"
     },
     "output_type": "display_data"
    }
   ],
   "source": [
    "yhat2 = np.round(model.predict([X_test_cat, X_test_num]))\n",
    "\n",
    "# create confusion matrix\n",
    "cf_matrix = confusion_matrix(y_test, yhat2)\n",
    "\n",
    "# create number of values in each group\n",
    "group_counts = [\"{0:0.0f}\".format(value) for value in\n",
    "                cf_matrix.flatten()]\n",
    "\n",
    "# create percentages of each group\n",
    "group_percentages = [\"{0:.2%}\".format(value) for value in\n",
    "                      cf_matrix.flatten()/np.sum(cf_matrix)]\n",
    "\n",
    "# create labels\n",
    "group_names = ['True Negative', 'False Positive', 'False Negative', 'True Positive']\n",
    "labels = [f\"{v1}\\n{v2}\\n{v3}\" for v1, v2, v3 in\n",
    "          zip(group_names,group_counts,group_percentages)]\n",
    "labels = np.asarray(labels).reshape(2,2)\n",
    "\n",
    "plt.figure(figsize=(10,8))\n",
    "sns.heatmap(cf_matrix, annot=labels, fmt='')"
   ]
  },
  {
   "cell_type": "code",
   "execution_count": 35,
   "id": "c7dcd22f",
   "metadata": {},
   "outputs": [
    {
     "name": "stdout",
     "output_type": "stream",
     "text": [
      "              precision    recall  f1-score   support\n",
      "\n",
      "           0       0.73      0.80      0.77        41\n",
      "           1       0.83      0.76      0.79        50\n",
      "\n",
      "    accuracy                           0.78        91\n",
      "   macro avg       0.78      0.78      0.78        91\n",
      "weighted avg       0.78      0.78      0.78        91\n",
      "\n",
      "Model Accuracy:  0.7802197802197802\n"
     ]
    }
   ],
   "source": [
    "print(mt.classification_report(y_test,yhat2))\n",
    "print(\"Model Accuracy: \",mt.accuracy_score(y_test,yhat2))"
   ]
  },
  {
   "cell_type": "code",
   "execution_count": 36,
   "id": "8ff38d6a",
   "metadata": {},
   "outputs": [
    {
     "name": "stdout",
     "output_type": "stream",
     "text": [
      "['loss', 'recall_2']\n"
     ]
    }
   ],
   "source": [
    "hist2Keys = list(history2.history.keys())\n",
    "print(hist2Keys)"
   ]
  },
  {
   "cell_type": "code",
   "execution_count": 37,
   "id": "cafaf0c8",
   "metadata": {},
   "outputs": [
    {
     "data": {
      "text/plain": [
       "Text(0.5, 0, 'epochs')"
      ]
     },
     "execution_count": 37,
     "metadata": {},
     "output_type": "execute_result"
    },
    {
     "data": {
      "image/png": "[encoded data removed]",
      "text/plain": [
       "<Figure size 1080x1080 with 2 Axes>"
      ]
     },
     "metadata": {
      "needs_background": "light"
     },
     "output_type": "display_data"
    }
   ],
   "source": [
    "get_ipython().run_line_magic('matplotlib', 'inline')\n",
    "\n",
    "plt.figure(figsize=(15,15))\n",
    "plt.subplot(2,2,1)\n",
    "plt.plot(history2.history[hist2Keys[1]])\n",
    "plt.ylabel('Accuracy %')\n",
    "\n",
    "plt.subplot(2,2,3)\n",
    "plt.plot(history2.history[hist2Keys[0]])\n",
    "plt.ylabel('Training Loss')\n",
    "plt.xlabel('epochs')"
   ]
  },
  {
   "attachments": {},
   "cell_type": "markdown",
   "id": "41a61f78",
   "metadata": {},
   "source": [
    "### Third Combination"
   ]
  },
  {
   "cell_type": "code",
   "execution_count": 40,
   "id": "460ca267",
   "metadata": {},
   "outputs": [],
   "source": [
    "cross_columns = [['ChestPainType','RestingECG','ST_Slope'], ['Sex','ExerciseAngina']]\n",
    "\n",
    "# cross each set of columns in the list above\n",
    "cross_col_df_names = []\n",
    "for cols_list in cross_columns:\n",
    "    # encode as ints for the embedding\n",
    "    enc = LabelEncoder()\n",
    "    \n",
    "    # 1. create crossed labels by join operation\n",
    "    X_crossed_train = df_imputed[cols_list].apply(lambda x: '_'.join(x), axis=1)\n",
    "\n",
    "    # get a nice name for this new crossed column\n",
    "    cross_col_name = '_'.join(cols_list)\n",
    "    \n",
    "    # 2. encode as integers\n",
    "    enc.fit(np.hstack((X_crossed_train.to_numpy())))\n",
    "    \n",
    "    # 3. Save into dataframe with new name\n",
    "    df_imputed[cross_col_name] = enc.transform(X_crossed_train)\n",
    "\n",
    "    # keep track of the new names of the crossed columns\n",
    "    cross_col_df_names.append(cross_col_name) "
   ]
  },
  {
   "cell_type": "code",
   "execution_count": 41,
   "id": "de009bce",
   "metadata": {},
   "outputs": [],
   "source": [
    "cross_X = df_imputed[cross_col_df_names].to_numpy()\n",
    "# we want to predict the X and y data as follows:\n",
    "cross_y = df_imputed['HeartDisease'].values\n",
    "iter_num=0\n",
    "\n",
    "# the indices are the rows used for training and testing in each iteration\n",
    "for train_indices, test_indices in cv_object.split(cross_X,cross_y): \n",
    "    X_train_crossed = cross_X[train_indices]\n",
    "    y_train_crossed = cross_y[train_indices]\n",
    "    \n",
    "    X_test_crossed = cross_X[test_indices]\n",
    "    y_test_crossed = cross_y[test_indices]"
   ]
  },
  {
   "cell_type": "code",
   "execution_count": 42,
   "id": "c7214e17",
   "metadata": {},
   "outputs": [
    {
     "name": "stdout",
     "output_type": "stream",
     "text": [
      "\n",
      "This model has 25 layers.\n"
     ]
    }
   ],
   "source": [
    "# we need to create separate lists for each branch\n",
    "crossed_outputs = []\n",
    "\n",
    "# CROSSED DATA INPUT\n",
    "input_crossed = Input(shape=(X_train_crossed.shape[1],), dtype='int64', name='wide_inputs')\n",
    "for idx,col in enumerate(cross_col_df_names):\n",
    "    N = df_imputed[col].max()+1\n",
    "    \n",
    "    # this line of code does this: input_branch[:,idx]\n",
    "    x = tf.gather(input_crossed, idx, axis=1)\n",
    "    \n",
    "    # now use an embedding to deal with integers as if they were one hot encoded\n",
    "    x = Embedding(input_dim=N, \n",
    "                  output_dim=int(np.sqrt(N)), \n",
    "                  input_length=1, name=col+'_embed')(x)\n",
    "    \n",
    "    # save these outputs to concatenate later\n",
    "    crossed_outputs.append(x)\n",
    "    \n",
    "\n",
    "# now concatenate the outputs and add a fully connected layer\n",
    "wide_branch = concatenate(crossed_outputs, name='wide_concat')\n",
    "\n",
    "# reset this input branch\n",
    "all_deep_branch_outputs = []\n",
    "\n",
    "# CATEGORICAL DATA INPUT\n",
    "input_cat = Input(shape=(X_train_cat.shape[1],), dtype='int64', name='categorical_input')\n",
    "for idx,col in enumerate(categorical_headers_ints):\n",
    "    N = df_imputed[col].max()+1\n",
    "    \n",
    "    # this line of code does this: input_branch[:,idx]\n",
    "    x = tf.gather(input_cat, idx, axis=1)\n",
    "    \n",
    "    # now use an embedding to deal with integers as if they were one hot encoded\n",
    "    x = Embedding(input_dim=N, \n",
    "                  output_dim=int(np.sqrt(N)), \n",
    "                  input_length=1, name=col+'_embed')(x)\n",
    "    \n",
    "    # save these outputs to concatenate later\n",
    "    all_deep_branch_outputs.append(x)\n",
    "\n",
    "# create dense input branch for numeric\n",
    "input_num = Input(shape=(X_train_num.shape[1],), name='numeric')\n",
    "x_dense = Dense(units=22, activation='relu',name='num_1')(input_num)\n",
    "    \n",
    "all_deep_branch_outputs.append(x_dense)\n",
    "\n",
    "# merge the deep branches together\n",
    "deep_branch = concatenate(all_deep_branch_outputs,name='concat_embeds')\n",
    "deep_branch = Dense(units=50,activation='relu', name='deep1')(deep_branch)\n",
    "deep_branch = Dense(units=25,activation='relu', name='deep2')(deep_branch)\n",
    "deep_branch = Dense(units=10,activation='relu', name='deep3')(deep_branch)\n",
    "    \n",
    "# merge the deep and wide branch\n",
    "final_branch = concatenate([wide_branch, deep_branch],\n",
    "                           name='concat_deep_wide')\n",
    "final_branch = Dense(units=1,activation='sigmoid',\n",
    "                     name='combined')(final_branch)\n",
    "\n",
    "model = Model(inputs=[input_crossed,input_cat,input_num], \n",
    "              outputs=final_branch)\n",
    "\n",
    "# print number of layers\n",
    "print(f\"\\nThis model has {len(model.layers)} layers.\")\n"
   ]
  },
  {
   "cell_type": "code",
   "execution_count": 43,
   "id": "fa47db10",
   "metadata": {},
   "outputs": [
    {
     "name": "stdout",
     "output_type": "stream",
     "text": [
      "You must install pydot (`pip install pydot`) and install graphviz (see instructions at https://graphviz.gitlab.io/download/) for plot_model to work.\n",
      "Model: \"model_3\"\n",
      "__________________________________________________________________________________________________\n",
      " Layer (type)                   Output Shape         Param #     Connected to                     \n",
      "==================================================================================================\n",
      " categorical_input (InputLayer)  [(None, 5)]         0           []                               \n",
      "                                                                                                  \n",
      " tf.compat.v1.gather_12 (TFOpLa  (None,)             0           ['categorical_input[0][0]']      \n",
      " mbda)                                                                                            \n",
      "                                                                                                  \n",
      " tf.compat.v1.gather_13 (TFOpLa  (None,)             0           ['categorical_input[0][0]']      \n",
      " mbda)                                                                                            \n",
      "                                                                                                  \n",
      " tf.compat.v1.gather_14 (TFOpLa  (None,)             0           ['categorical_input[0][0]']      \n",
      " mbda)                                                                                            \n",
      "                                                                                                  \n",
      " tf.compat.v1.gather_15 (TFOpLa  (None,)             0           ['categorical_input[0][0]']      \n",
      " mbda)                                                                                            \n",
      "                                                                                                  \n",
      " tf.compat.v1.gather_16 (TFOpLa  (None,)             0           ['categorical_input[0][0]']      \n",
      " mbda)                                                                                            \n",
      "                                                                                                  \n",
      " numeric (InputLayer)           [(None, 5)]          0           []                               \n",
      "                                                                                                  \n",
      " Sex_int_embed (Embedding)      (None, 1)            2           ['tf.compat.v1.gather_12[0][0]'] \n",
      "                                                                                                  \n",
      " ChestPainType_int_embed (Embed  (None, 2)           8           ['tf.compat.v1.gather_13[0][0]'] \n",
      " ding)                                                                                            \n",
      "                                                                                                  \n",
      " RestingECG_int_embed (Embeddin  (None, 1)           3           ['tf.compat.v1.gather_14[0][0]'] \n",
      " g)                                                                                               \n",
      "                                                                                                  \n",
      " ExerciseAngina_int_embed (Embe  (None, 1)           2           ['tf.compat.v1.gather_15[0][0]'] \n",
      " dding)                                                                                           \n",
      "                                                                                                  \n",
      " ST_Slope_int_embed (Embedding)  (None, 1)           3           ['tf.compat.v1.gather_16[0][0]'] \n",
      "                                                                                                  \n",
      " num_1 (Dense)                  (None, 22)           132         ['numeric[0][0]']                \n",
      "                                                                                                  \n",
      " wide_inputs (InputLayer)       [(None, 2)]          0           []                               \n",
      "                                                                                                  \n",
      " concat_embeds (Concatenate)    (None, 28)           0           ['Sex_int_embed[0][0]',          \n",
      "                                                                  'ChestPainType_int_embed[0][0]',\n",
      "                                                                  'RestingECG_int_embed[0][0]',   \n",
      "                                                                  'ExerciseAngina_int_embed[0][0]'\n",
      "                                                                 , 'ST_Slope_int_embed[0][0]',    \n",
      "                                                                  'num_1[0][0]']                  \n",
      "                                                                                                  \n",
      " tf.compat.v1.gather_10 (TFOpLa  (None,)             0           ['wide_inputs[0][0]']            \n",
      " mbda)                                                                                            \n",
      "                                                                                                  \n",
      " tf.compat.v1.gather_11 (TFOpLa  (None,)             0           ['wide_inputs[0][0]']            \n",
      " mbda)                                                                                            \n",
      "                                                                                                  \n",
      " deep1 (Dense)                  (None, 50)           1450        ['concat_embeds[0][0]']          \n",
      "                                                                                                  \n",
      " ChestPainType_RestingECG_ST_Sl  (None, 5)           175         ['tf.compat.v1.gather_10[0][0]'] \n",
      " ope_embed (Embedding)                                                                            \n",
      "                                                                                                  \n",
      " Sex_ExerciseAngina_embed (Embe  (None, 2)           8           ['tf.compat.v1.gather_11[0][0]'] \n",
      " dding)                                                                                           \n",
      "                                                                                                  \n",
      " deep2 (Dense)                  (None, 25)           1275        ['deep1[0][0]']                  \n",
      "                                                                                                  \n",
      " wide_concat (Concatenate)      (None, 7)            0           ['ChestPainType_RestingECG_ST_Slo\n",
      "                                                                 pe_embed[0][0]',                 \n",
      "                                                                  'Sex_ExerciseAngina_embed[0][0]'\n",
      "                                                                 ]                                \n",
      "                                                                                                  \n",
      " deep3 (Dense)                  (None, 10)           260         ['deep2[0][0]']                  \n",
      "                                                                                                  \n",
      " concat_deep_wide (Concatenate)  (None, 17)          0           ['wide_concat[0][0]',            \n",
      "                                                                  'deep3[0][0]']                  \n",
      "                                                                                                  \n",
      " combined (Dense)               (None, 1)            18          ['concat_deep_wide[0][0]']       \n",
      "                                                                                                  \n",
      "==================================================================================================\n",
      "Total params: 3,336\n",
      "Trainable params: 3,336\n",
      "Non-trainable params: 0\n",
      "__________________________________________________________________________________________________\n"
     ]
    }
   ],
   "source": [
    "# you will need to install pydot properly on your machine to get this running\n",
    "plot_model(\n",
    "    model, to_file='model.png', show_shapes=True, show_layer_names=True,\n",
    "    rankdir='LR', expand_nested=False, dpi=96\n",
    ")\n",
    "model.summary()"
   ]
  },
  {
   "cell_type": "code",
   "execution_count": 44,
   "id": "ec6448fa",
   "metadata": {},
   "outputs": [],
   "source": [
    "model.compile(optimizer='Adam',\n",
    "              loss='mean_squared_error',\n",
    "              metrics=['Recall'])\n"
   ]
  },
  {
   "cell_type": "code",
   "execution_count": 45,
   "id": "87771ec1",
   "metadata": {},
   "outputs": [
    {
     "name": "stdout",
     "output_type": "stream",
     "text": [
      "Epoch 1/12\n",
      "26/26 [==============================] - 2s 13ms/step - loss: 0.2318 - recall: 0.5655 - val_loss: 0.2210 - val_recall: 0.6000\n",
      "Epoch 2/12\n",
      "26/26 [==============================] - 0s 3ms/step - loss: 0.1855 - recall: 0.7686 - val_loss: 0.1835 - val_recall: 0.6200\n",
      "Epoch 3/12\n",
      "26/26 [==============================] - 0s 3ms/step - loss: 0.1407 - recall: 0.8079 - val_loss: 0.1591 - val_recall: 0.6800\n",
      "Epoch 4/12\n",
      "26/26 [==============================] - 0s 3ms/step - loss: 0.1243 - recall: 0.8537 - val_loss: 0.1571 - val_recall: 0.7200\n",
      "Epoch 5/12\n",
      "26/26 [==============================] - 0s 3ms/step - loss: 0.1166 - recall: 0.8493 - val_loss: 0.1443 - val_recall: 0.7400\n",
      "Epoch 6/12\n",
      "26/26 [==============================] - 0s 3ms/step - loss: 0.1124 - recall: 0.8624 - val_loss: 0.1340 - val_recall: 0.8000\n",
      "Epoch 7/12\n",
      "26/26 [==============================] - 0s 3ms/step - loss: 0.1095 - recall: 0.8821 - val_loss: 0.1453 - val_recall: 0.7400\n",
      "Epoch 8/12\n",
      "26/26 [==============================] - 0s 4ms/step - loss: 0.1056 - recall: 0.8734 - val_loss: 0.1345 - val_recall: 0.8000\n",
      "Epoch 9/12\n",
      "26/26 [==============================] - 0s 7ms/step - loss: 0.1071 - recall: 0.8886 - val_loss: 0.1381 - val_recall: 0.7400\n",
      "Epoch 10/12\n",
      "26/26 [==============================] - 0s 5ms/step - loss: 0.1068 - recall: 0.8821 - val_loss: 0.1386 - val_recall: 0.8000\n",
      "Epoch 11/12\n",
      "26/26 [==============================] - 0s 6ms/step - loss: 0.1035 - recall: 0.8952 - val_loss: 0.1439 - val_recall: 0.7400\n",
      "Epoch 12/12\n",
      "26/26 [==============================] - 0s 6ms/step - loss: 0.1037 - recall: 0.8799 - val_loss: 0.1344 - val_recall: 0.8000\n"
     ]
    }
   ],
   "source": [
    "# lets also add the history variable to see how we are doing\n",
    "# and lets add a validation set to keep track of our progress\n",
    "history3 = model.fit([X_train_crossed,X_train_cat,X_train_num],\n",
    "                    y_train, \n",
    "                    epochs=12, \n",
    "                    batch_size=32, \n",
    "                    verbose=1, \n",
    "                    validation_data = ([X_test_crossed,X_test_cat,X_test_num],y_test))\n"
   ]
  },
  {
   "cell_type": "code",
   "execution_count": 46,
   "id": "afd09f5e",
   "metadata": {},
   "outputs": [
    {
     "name": "stdout",
     "output_type": "stream",
     "text": [
      "3/3 [==============================] - 0s 4ms/step\n"
     ]
    },
    {
     "data": {
      "text/plain": [
       "<AxesSubplot:>"
      ]
     },
     "execution_count": 46,
     "metadata": {},
     "output_type": "execute_result"
    },
    {
     "data": {
      "image/png": "[encoded data removed]",
      "text/plain": [
       "<Figure size 720x576 with 2 Axes>"
      ]
     },
     "metadata": {
      "needs_background": "light"
     },
     "output_type": "display_data"
    }
   ],
   "source": [
    "yhat3= np.round(model.predict([X_test_crossed,X_test_cat,X_test_num]))\n",
    "\n",
    "# create confusion matrix\n",
    "cf_matrix = confusion_matrix(y_test, yhat3)\n",
    "\n",
    "# create number of values in each group\n",
    "group_counts = [\"{0:0.0f}\".format(value) for value in\n",
    "                cf_matrix.flatten()]\n",
    "\n",
    "# create percentages of each group\n",
    "group_percentages = [\"{0:.2%}\".format(value) for value in\n",
    "                      cf_matrix.flatten()/np.sum(cf_matrix)]\n",
    "\n",
    "# create labels\n",
    "group_names = ['True Negative', 'False Positive', 'False Negative', 'True Positive']\n",
    "labels = [f\"{v1}\\n{v2}\\n{v3}\" for v1, v2, v3 in\n",
    "          zip(group_names,group_counts,group_percentages)]\n",
    "labels = np.asarray(labels).reshape(2,2)\n",
    "\n",
    "plt.figure(figsize=(10,8))\n",
    "sns.heatmap(cf_matrix, annot=labels, fmt='')"
   ]
  },
  {
   "cell_type": "code",
   "execution_count": 47,
   "id": "682ff77f",
   "metadata": {},
   "outputs": [
    {
     "name": "stdout",
     "output_type": "stream",
     "text": [
      "              precision    recall  f1-score   support\n",
      "\n",
      "           0       0.77      0.80      0.79        41\n",
      "           1       0.83      0.80      0.82        50\n",
      "\n",
      "    accuracy                           0.80        91\n",
      "   macro avg       0.80      0.80      0.80        91\n",
      "weighted avg       0.80      0.80      0.80        91\n",
      "\n",
      "Model Accuracy:  0.8021978021978022\n"
     ]
    }
   ],
   "source": [
    "print(mt.classification_report(y_test,yhat3))\n",
    "print(\"Model Accuracy: \",mt.accuracy_score(y_test,yhat3))"
   ]
  },
  {
   "cell_type": "code",
   "execution_count": 48,
   "id": "2e99167b",
   "metadata": {},
   "outputs": [
    {
     "name": "stdout",
     "output_type": "stream",
     "text": [
      "['loss', 'recall', 'val_loss', 'val_recall']\n"
     ]
    }
   ],
   "source": [
    "hist3Keys = list(history3.history.keys())\n",
    "print(hist3Keys)"
   ]
  },
  {
   "cell_type": "code",
   "execution_count": 49,
   "id": "94304685",
   "metadata": {},
   "outputs": [
    {
     "data": {
      "text/plain": [
       "Text(0.5, 0, 'epochs')"
      ]
     },
     "execution_count": 49,
     "metadata": {},
     "output_type": "execute_result"
    },
    {
     "data": {
      "image/png": "[encoded data removed]",
      "text/plain": [
       "<Figure size 1080x1080 with 4 Axes>"
      ]
     },
     "metadata": {
      "needs_background": "light"
     },
     "output_type": "display_data"
    }
   ],
   "source": [
    "from matplotlib import pyplot as plt\n",
    "\n",
    "get_ipython().run_line_magic('matplotlib', 'inline')\n",
    "\n",
    "plt.figure(figsize=(15,15))\n",
    "plt.subplot(2,2,1)\n",
    "plt.plot(history3.history[hist3Keys[1]])\n",
    "\n",
    "plt.ylabel('Accuracy %')\n",
    "plt.title('Training')\n",
    "plt.subplot(2,2,2)\n",
    "plt.plot(history3.history[hist3Keys[3]])\n",
    "plt.title('Validation')\n",
    "\n",
    "plt.subplot(2,2,3)\n",
    "plt.plot(history3.history[hist3Keys[0]])\n",
    "plt.ylabel('Training Loss')\n",
    "plt.xlabel('epochs')\n",
    "\n",
    "plt.subplot(2,2,4)\n",
    "plt.plot(history3.history[hist3Keys[2]])\n",
    "plt.xlabel('epochs')"
   ]
  },
  {
   "attachments": {},
   "cell_type": "markdown",
   "id": "8dba73a8",
   "metadata": {},
   "source": [
    "### Fourth Layer"
   ]
  },
  {
   "cell_type": "code",
   "execution_count": 50,
   "id": "863328bb",
   "metadata": {},
   "outputs": [],
   "source": [
    "# we need to create separate lists for each branch\n",
    "crossed_outputs = []\n",
    "\n",
    "# CROSSED DATA INPUT\n",
    "input_crossed = Input(shape=(X_train_crossed.shape[1],), dtype='int64', name='wide_inputs')\n",
    "for idx,col in enumerate(cross_col_df_names):\n",
    "    \n",
    "    # track what the maximum integer value will be for this variable\n",
    "    # which is the same as the number of categories\n",
    "    N = df_imputed[col].max()+1\n",
    "    \n",
    "    \n",
    "    # this line of code does this: input_branch[:,idx]\n",
    "    x = tf.gather(input_crossed, idx, axis=1)\n",
    "    \n",
    "    # now use an embedding to deal with integers as if they were one hot encoded\n",
    "    x = Embedding(input_dim=N, \n",
    "                  output_dim=int(np.sqrt(N)), \n",
    "                  input_length=1, name=col+'_embed')(x)\n",
    "    \n",
    "    # save these outputs to concatenate later\n",
    "    crossed_outputs.append(x)\n",
    "    \n",
    "\n",
    "# now concatenate the outputs and add a fully connected layer\n",
    "wide_branch = concatenate(crossed_outputs, name='wide_concat')\n",
    "\n",
    "# reset this input branch\n",
    "all_deep_branch_outputs = []\n",
    "\n",
    "# CATEGORICAL DATA INPUT\n",
    "input_cat = Input(shape=(X_train_cat.shape[1],), dtype='int64', name='categorical_input')\n",
    "for idx,col in enumerate(categorical_headers_ints):\n",
    "    \n",
    "    # track what the maximum integer value will be for this variable\n",
    "    # which is the same as the number of categories\n",
    "    N = df_imputed[col].max()+1\n",
    "    \n",
    "    # this line of code does this: input_branch[:,idx]\n",
    "    x = tf.gather(input_cat, idx, axis=1)\n",
    "    \n",
    "    # now use an embedding to deal with integers as if they were one hot encoded\n",
    "    x = Embedding(input_dim=N, \n",
    "                  output_dim=int(np.sqrt(N)), \n",
    "                  input_length=1, name=col+'_embed')(x)\n",
    "    \n",
    "    # save these outputs to concatenate later\n",
    "    all_deep_branch_outputs.append(x)\n",
    "    \n",
    "# NUMERIC DATA INPUT\n",
    "# create dense input branch for numeric\n",
    "input_num = Input(shape=(X_train_num.shape[1],), name='numeric')\n",
    "x_dense = Dense(units=22, activation='relu',name='num_1')(input_num)\n",
    "    \n",
    "all_deep_branch_outputs.append(x_dense)\n",
    "\n",
    "\n",
    "# merge the deep branches together\n",
    "deep_branch = concatenate(all_deep_branch_outputs,name='concat_embeds')\n",
    "deep_branch = Dense(units=50,activation='relu', name='deep1')(deep_branch)\n",
    "deep_branch = Dense(units=25,activation='relu', name='deep2')(deep_branch)\n",
    "deep_branch = Dense(units=15,activation='relu', name='deep3')(deep_branch)\n",
    "deep_branch = Dense(units=5,activation='relu', name='deep4')(deep_branch)\n",
    "    \n",
    "# merge the deep and wide branch\n",
    "final_branch = concatenate([wide_branch, deep_branch],\n",
    "                           name='concat_deep_wide')\n",
    "final_branch = Dense(units=1,activation='sigmoid',\n",
    "                     name='combined')(final_branch)\n",
    "\n",
    "model = Model(inputs=[input_crossed,input_cat,input_num], \n",
    "              outputs=final_branch)"
   ]
  },
  {
   "cell_type": "code",
   "execution_count": 51,
   "id": "bee724d6",
   "metadata": {},
   "outputs": [
    {
     "name": "stdout",
     "output_type": "stream",
     "text": [
      "You must install pydot (`pip install pydot`) and install graphviz (see instructions at https://graphviz.gitlab.io/download/) for plot_model to work.\n",
      "Model: \"model_4\"\n",
      "__________________________________________________________________________________________________\n",
      " Layer (type)                   Output Shape         Param #     Connected to                     \n",
      "==================================================================================================\n",
      " categorical_input (InputLayer)  [(None, 5)]         0           []                               \n",
      "                                                                                                  \n",
      " tf.compat.v1.gather_19 (TFOpLa  (None,)             0           ['categorical_input[0][0]']      \n",
      " mbda)                                                                                            \n",
      "                                                                                                  \n",
      " tf.compat.v1.gather_20 (TFOpLa  (None,)             0           ['categorical_input[0][0]']      \n",
      " mbda)                                                                                            \n",
      "                                                                                                  \n",
      " tf.compat.v1.gather_21 (TFOpLa  (None,)             0           ['categorical_input[0][0]']      \n",
      " mbda)                                                                                            \n",
      "                                                                                                  \n",
      " tf.compat.v1.gather_22 (TFOpLa  (None,)             0           ['categorical_input[0][0]']      \n",
      " mbda)                                                                                            \n",
      "                                                                                                  \n",
      " tf.compat.v1.gather_23 (TFOpLa  (None,)             0           ['categorical_input[0][0]']      \n",
      " mbda)                                                                                            \n",
      "                                                                                                  \n",
      " numeric (InputLayer)           [(None, 5)]          0           []                               \n",
      "                                                                                                  \n",
      " Sex_int_embed (Embedding)      (None, 1)            2           ['tf.compat.v1.gather_19[0][0]'] \n",
      "                                                                                                  \n",
      " ChestPainType_int_embed (Embed  (None, 2)           8           ['tf.compat.v1.gather_20[0][0]'] \n",
      " ding)                                                                                            \n",
      "                                                                                                  \n",
      " RestingECG_int_embed (Embeddin  (None, 1)           3           ['tf.compat.v1.gather_21[0][0]'] \n",
      " g)                                                                                               \n",
      "                                                                                                  \n",
      " ExerciseAngina_int_embed (Embe  (None, 1)           2           ['tf.compat.v1.gather_22[0][0]'] \n",
      " dding)                                                                                           \n",
      "                                                                                                  \n",
      " ST_Slope_int_embed (Embedding)  (None, 1)           3           ['tf.compat.v1.gather_23[0][0]'] \n",
      "                                                                                                  \n",
      " num_1 (Dense)                  (None, 22)           132         ['numeric[0][0]']                \n",
      "                                                                                                  \n",
      " concat_embeds (Concatenate)    (None, 28)           0           ['Sex_int_embed[0][0]',          \n",
      "                                                                  'ChestPainType_int_embed[0][0]',\n",
      "                                                                  'RestingECG_int_embed[0][0]',   \n",
      "                                                                  'ExerciseAngina_int_embed[0][0]'\n",
      "                                                                 , 'ST_Slope_int_embed[0][0]',    \n",
      "                                                                  'num_1[0][0]']                  \n",
      "                                                                                                  \n",
      " wide_inputs (InputLayer)       [(None, 2)]          0           []                               \n",
      "                                                                                                  \n",
      " deep1 (Dense)                  (None, 50)           1450        ['concat_embeds[0][0]']          \n",
      "                                                                                                  \n",
      " tf.compat.v1.gather_17 (TFOpLa  (None,)             0           ['wide_inputs[0][0]']            \n",
      " mbda)                                                                                            \n",
      "                                                                                                  \n",
      " tf.compat.v1.gather_18 (TFOpLa  (None,)             0           ['wide_inputs[0][0]']            \n",
      " mbda)                                                                                            \n",
      "                                                                                                  \n",
      " deep2 (Dense)                  (None, 25)           1275        ['deep1[0][0]']                  \n",
      "                                                                                                  \n",
      " ChestPainType_RestingECG_ST_Sl  (None, 5)           175         ['tf.compat.v1.gather_17[0][0]'] \n",
      " ope_embed (Embedding)                                                                            \n",
      "                                                                                                  \n",
      " Sex_ExerciseAngina_embed (Embe  (None, 2)           8           ['tf.compat.v1.gather_18[0][0]'] \n",
      " dding)                                                                                           \n",
      "                                                                                                  \n",
      " deep3 (Dense)                  (None, 15)           390         ['deep2[0][0]']                  \n",
      "                                                                                                  \n",
      " wide_concat (Concatenate)      (None, 7)            0           ['ChestPainType_RestingECG_ST_Slo\n",
      "                                                                 pe_embed[0][0]',                 \n",
      "                                                                  'Sex_ExerciseAngina_embed[0][0]'\n",
      "                                                                 ]                                \n",
      "                                                                                                  \n",
      " deep4 (Dense)                  (None, 5)            80          ['deep3[0][0]']                  \n",
      "                                                                                                  \n",
      " concat_deep_wide (Concatenate)  (None, 12)          0           ['wide_concat[0][0]',            \n",
      "                                                                  'deep4[0][0]']                  \n",
      "                                                                                                  \n",
      " combined (Dense)               (None, 1)            13          ['concat_deep_wide[0][0]']       \n",
      "                                                                                                  \n",
      "==================================================================================================\n",
      "Total params: 3,541\n",
      "Trainable params: 3,541\n",
      "Non-trainable params: 0\n",
      "__________________________________________________________________________________________________\n"
     ]
    }
   ],
   "source": [
    "plot_model(\n",
    "    model, to_file='model.png', show_shapes=True, show_layer_names=True,\n",
    "    rankdir='LR', expand_nested=False, dpi=96\n",
    ")\n",
    "\n",
    "model.summary()"
   ]
  },
  {
   "cell_type": "code",
   "execution_count": 52,
   "id": "722ee0b1",
   "metadata": {},
   "outputs": [],
   "source": [
    "model.compile(optimizer='Adam',\n",
    "              loss='mean_squared_error',\n",
    "              metrics=['accuracy'])"
   ]
  },
  {
   "cell_type": "code",
   "execution_count": 53,
   "id": "8fc3d498",
   "metadata": {},
   "outputs": [
    {
     "name": "stdout",
     "output_type": "stream",
     "text": [
      "Epoch 1/15\n",
      "26/26 [==============================] - 3s 27ms/step - loss: 0.2318 - accuracy: 0.7146 - val_loss: 0.2190 - val_accuracy: 0.7582\n",
      "Epoch 2/15\n",
      "26/26 [==============================] - 0s 4ms/step - loss: 0.1873 - accuracy: 0.8102 - val_loss: 0.1828 - val_accuracy: 0.7692\n",
      "Epoch 3/15\n",
      "26/26 [==============================] - 0s 3ms/step - loss: 0.1417 - accuracy: 0.8440 - val_loss: 0.1676 - val_accuracy: 0.7582\n",
      "Epoch 4/15\n",
      "26/26 [==============================] - 0s 3ms/step - loss: 0.1202 - accuracy: 0.8549 - val_loss: 0.1417 - val_accuracy: 0.7912\n",
      "Epoch 5/15\n",
      "26/26 [==============================] - 0s 3ms/step - loss: 0.1124 - accuracy: 0.8561 - val_loss: 0.1477 - val_accuracy: 0.7802\n",
      "Epoch 6/15\n",
      "26/26 [==============================] - 0s 3ms/step - loss: 0.1097 - accuracy: 0.8609 - val_loss: 0.1390 - val_accuracy: 0.7912\n",
      "Epoch 7/15\n",
      "26/26 [==============================] - 0s 3ms/step - loss: 0.1110 - accuracy: 0.8561 - val_loss: 0.1368 - val_accuracy: 0.8022\n",
      "Epoch 8/15\n",
      "26/26 [==============================] - 0s 4ms/step - loss: 0.1070 - accuracy: 0.8622 - val_loss: 0.1469 - val_accuracy: 0.7802\n",
      "Epoch 9/15\n",
      "26/26 [==============================] - 0s 5ms/step - loss: 0.1053 - accuracy: 0.8658 - val_loss: 0.1429 - val_accuracy: 0.7912\n",
      "Epoch 10/15\n",
      "26/26 [==============================] - 0s 5ms/step - loss: 0.1047 - accuracy: 0.8609 - val_loss: 0.1463 - val_accuracy: 0.7802\n",
      "Epoch 11/15\n",
      "26/26 [==============================] - 0s 6ms/step - loss: 0.1065 - accuracy: 0.8585 - val_loss: 0.1586 - val_accuracy: 0.7692\n",
      "Epoch 12/15\n",
      "26/26 [==============================] - 0s 7ms/step - loss: 0.1052 - accuracy: 0.8622 - val_loss: 0.1504 - val_accuracy: 0.7802\n",
      "Epoch 13/15\n",
      "26/26 [==============================] - 0s 6ms/step - loss: 0.1049 - accuracy: 0.8634 - val_loss: 0.1425 - val_accuracy: 0.7802\n",
      "Epoch 14/15\n",
      "26/26 [==============================] - 0s 6ms/step - loss: 0.1037 - accuracy: 0.8646 - val_loss: 0.1424 - val_accuracy: 0.7802\n",
      "Epoch 15/15\n",
      "26/26 [==============================] - 0s 5ms/step - loss: 0.1030 - accuracy: 0.8622 - val_loss: 0.1409 - val_accuracy: 0.7802\n"
     ]
    }
   ],
   "source": [
    "history4 = model.fit([X_train_crossed,X_train_cat,X_train_num],\n",
    "                    y_train, \n",
    "                    epochs=15, \n",
    "                    batch_size=32, \n",
    "                    verbose=1, \n",
    "                    validation_data = ([X_test_crossed,X_test_cat,X_test_num],y_test))"
   ]
  },
  {
   "cell_type": "code",
   "execution_count": 54,
   "id": "f4ca7a72",
   "metadata": {},
   "outputs": [
    {
     "name": "stdout",
     "output_type": "stream",
     "text": [
      "WARNING:tensorflow:5 out of the last 13 calls to <function Model.make_predict_function.<locals>.predict_function at 0x000001EF6AD3CCA0> triggered tf.function retracing. Tracing is expensive and the excessive number of tracings could be due to (1) creating @tf.function repeatedly in a loop, (2) passing tensors with different shapes, (3) passing Python objects instead of tensors. For (1), please define your @tf.function outside of the loop. For (2), @tf.function has reduce_retracing=True option that can avoid unnecessary retracing. For (3), please refer to https://www.tensorflow.org/guide/function#controlling_retracing and https://www.tensorflow.org/api_docs/python/tf/function for  more details.\n",
      "3/3 [==============================] - 0s 0s/step\n"
     ]
    },
    {
     "data": {
      "text/plain": [
       "<AxesSubplot:>"
      ]
     },
     "execution_count": 54,
     "metadata": {},
     "output_type": "execute_result"
    },
    {
     "data": {
      "image/png": "[encoded data removed]",
      "text/plain": [
       "<Figure size 720x576 with 2 Axes>"
      ]
     },
     "metadata": {
      "needs_background": "light"
     },
     "output_type": "display_data"
    }
   ],
   "source": [
    "yhat4 = np.round(model.predict([X_test_crossed,X_test_cat,X_test_num]))\n",
    "\n",
    "# create confusion matrix\n",
    "cf_matrix = confusion_matrix(y_test, yhat3)\n",
    "\n",
    "# create number of values in each group\n",
    "group_counts = [\"{0:0.0f}\".format(value) for value in\n",
    "                cf_matrix.flatten()]\n",
    "\n",
    "# create percentages of each group\n",
    "group_percentages = [\"{0:.2%}\".format(value) for value in\n",
    "                      cf_matrix.flatten()/np.sum(cf_matrix)]\n",
    "\n",
    "# create labels\n",
    "group_names = ['True Negative', 'False Positive', 'False Negative', 'True Positive']\n",
    "labels = [f\"{v1}\\n{v2}\\n{v3}\" for v1, v2, v3 in\n",
    "          zip(group_names,group_counts,group_percentages)]\n",
    "labels = np.asarray(labels).reshape(2,2)\n",
    "\n",
    "plt.figure(figsize=(10,8))\n",
    "sns.heatmap(cf_matrix, annot=labels, fmt='')"
   ]
  },
  {
   "cell_type": "code",
   "execution_count": 55,
   "id": "d4eadace",
   "metadata": {},
   "outputs": [
    {
     "name": "stdout",
     "output_type": "stream",
     "text": [
      "              precision    recall  f1-score   support\n",
      "\n",
      "           0       0.73      0.80      0.77        41\n",
      "           1       0.83      0.76      0.79        50\n",
      "\n",
      "    accuracy                           0.78        91\n",
      "   macro avg       0.78      0.78      0.78        91\n",
      "weighted avg       0.78      0.78      0.78        91\n",
      "\n",
      "Model Accuracy:  0.7802197802197802\n"
     ]
    }
   ],
   "source": [
    "print(mt.classification_report(y_test,yhat4))\n",
    "print(\"Model Accuracy: \",mt.accuracy_score(y_test,yhat4))"
   ]
  },
  {
   "cell_type": "code",
   "execution_count": 56,
   "id": "c74226f4",
   "metadata": {},
   "outputs": [
    {
     "name": "stdout",
     "output_type": "stream",
     "text": [
      "['loss', 'accuracy', 'val_loss', 'val_accuracy']\n"
     ]
    }
   ],
   "source": [
    "hist4Keys = list(history4.history.keys())\n",
    "print(hist4Keys)"
   ]
  },
  {
   "cell_type": "code",
   "execution_count": 57,
   "id": "4fd928c5",
   "metadata": {},
   "outputs": [
    {
     "data": {
      "text/plain": [
       "Text(0.5, 0, 'epochs')"
      ]
     },
     "execution_count": 57,
     "metadata": {},
     "output_type": "execute_result"
    }
   ],
   "source": [
    "get_ipython().run_line_magic('matplotlib', 'inline')\n",
    "\n",
    "plt.figure(figsize=(15,15))\n",
    "plt.subplot(2,2,1)\n",
    "plt.plot(history4.history[hist4Keys[1]])\n",
    "\n",
    "plt.ylabel('Accuracy %')\n",
    "plt.title('Training')\n",
    "plt.subplot(2,2,2)\n",
    "plt.plot(history4.history[hist4Keys[3]])\n",
    "plt.title('Validation')\n",
    "\n",
    "plt.subplot(2,2,3)\n",
    "plt.plot(history4.history[hist4Keys[0]])\n",
    "plt.ylabel('Training Loss')\n",
    "plt.xlabel('epochs')\n",
    "\n",
    "plt.subplot(2,2,4)\n",
    "plt.plot(history4.history[hist4Keys[2]])\n",
    "plt.xlabel('epochs')"
   ]
  },
  {
   "attachments": {},
   "cell_type": "markdown",
   "id": "0a4e51dd",
   "metadata": {},
   "source": [
    "### Fifth Layer"
   ]
  },
  {
   "cell_type": "code",
   "execution_count": null,
   "id": "2461a7ed",
   "metadata": {},
   "outputs": [],
   "source": [
    "# we need to create separate lists for each branch\n",
    "crossed_outputs = []\n",
    "\n",
    "# CROSSED DATA INPUT\n",
    "input_crossed = Input(shape=(X_train_crossed.shape[1],), dtype='int64', name='wide_inputs')\n",
    "for idx,col in enumerate(cross_col_df_names):\n",
    "    \n",
    "    # track what the maximum integer value will be for this variable\n",
    "    # which is the same as the number of categories\n",
    "    N = df_imputed[col].max()+1\n",
    "    \n",
    "    \n",
    "    # this line of code does this: input_branch[:,idx]\n",
    "    x = tf.gather(input_crossed, idx, axis=1)\n",
    "    \n",
    "    # now use an embedding to deal with integers as if they were one hot encoded\n",
    "    x = Embedding(input_dim=N, \n",
    "                  output_dim=int(np.sqrt(N)), \n",
    "                  input_length=1, name=col+'_embed')(x)\n",
    "    \n",
    "    # save these outputs to concatenate later\n",
    "    crossed_outputs.append(x)\n",
    "    \n",
    "\n",
    "# now concatenate the outputs and add a fully connected layer\n",
    "wide_branch = concatenate(crossed_outputs, name='wide_concat')\n",
    "\n",
    "# reset this input branch\n",
    "all_deep_branch_outputs = []\n",
    "\n",
    "# CATEGORICAL DATA INPUT\n",
    "input_cat = Input(shape=(X_train_cat.shape[1],), dtype='int64', name='categorical_input')\n",
    "for idx,col in enumerate(categorical_headers_ints):\n",
    "    \n",
    "    # track what the maximum integer value will be for this variable\n",
    "    # which is the same as the number of categories\n",
    "    N = df_imputed[col].max()+1\n",
    "    \n",
    "    # this line of code does this: input_branch[:,idx]\n",
    "    x = tf.gather(input_cat, idx, axis=1)\n",
    "    \n",
    "    # now use an embedding to deal with integers as if they were one hot encoded\n",
    "    x = Embedding(input_dim=N, \n",
    "                  output_dim=int(np.sqrt(N)), \n",
    "                  input_length=1, name=col+'_embed')(x)\n",
    "    \n",
    "    # save these outputs to concatenate later\n",
    "    all_deep_branch_outputs.append(x)\n",
    "    \n",
    "# NUMERIC DATA INPUT\n",
    "# create dense input branch for numeric\n",
    "input_num = Input(shape=(X_train_num.shape[1],), name='numeric')\n",
    "x_dense = Dense(units=22, activation='relu',name='num_1')(input_num)\n",
    "    \n",
    "all_deep_branch_outputs.append(x_dense)\n",
    "\n",
    "\n",
    "# merge the deep branches together\n",
    "deep_branch = concatenate(all_deep_branch_outputs,name='concat_embeds')\n",
    "deep_branch = Dense(units=50,activation='relu', name='deep1')(deep_branch)\n",
    "deep_branch = Dense(units=25,activation='relu', name='deep2')(deep_branch)\n",
    "deep_branch = Dense(units=15,activation='relu', name='deep3')(deep_branch)\n",
    "deep_branch = Dense(units=10,activation='relu', name='deep4')(deep_branch)\n",
    "deep_branch = Dense(units=5,activation='relu', name='deep5')(deep_branch)\n",
    "    \n",
    "# merge the deep and wide branch\n",
    "final_branch = concatenate([wide_branch, deep_branch],\n",
    "                           name='concat_deep_wide')\n",
    "final_branch = Dense(units=1,activation='sigmoid',\n",
    "                     name='combined')(final_branch)\n",
    "\n",
    "model = Model(inputs=[input_crossed,input_cat,input_num], \n",
    "              outputs=final_branch)"
   ]
  },
  {
   "cell_type": "code",
   "execution_count": null,
   "id": "f1702f47",
   "metadata": {},
   "outputs": [],
   "source": [
    "plot_model(\n",
    "    model, to_file='model.png', show_shapes=True, show_layer_names=True,\n",
    "    rankdir='LR', expand_nested=False, dpi=96\n",
    ")\n",
    "\n",
    "model.summary()"
   ]
  },
  {
   "cell_type": "code",
   "execution_count": null,
   "id": "34ef1af2",
   "metadata": {},
   "outputs": [],
   "source": [
    "model.compile(optimizer='adam',\n",
    "             loss='mean_squared_error',\n",
    "              metrics=['accuracy'])"
   ]
  },
  {
   "cell_type": "code",
   "execution_count": null,
   "id": "8b97d668",
   "metadata": {},
   "outputs": [],
   "source": [
    "history5 = model.fit([X_train_crossed,X_train_cat,X_train_num],\n",
    "                    y_train, \n",
    "                    epochs=15, \n",
    "                    batch_size=32, \n",
    "                    verbose=1, \n",
    "                    validation_data = ([X_test_crossed,X_test_cat,X_test_num],y_test))"
   ]
  },
  {
   "cell_type": "code",
   "execution_count": null,
   "id": "722da6bf",
   "metadata": {},
   "outputs": [],
   "source": [
    "yhat5 = np.round(model.predict([X_test_crossed,X_test_cat,X_test_num]))\n",
    "\n",
    "# create confusion matrix\n",
    "cf_matrix = confusion_matrix(y_test, yhat5)\n",
    "\n",
    "# create number of values in each group\n",
    "group_counts = [\"{0:0.0f}\".format(value) for value in\n",
    "                cf_matrix.flatten()]\n",
    "\n",
    "# create percentages of each group\n",
    "group_percentages = [\"{0:.2%}\".format(value) for value in\n",
    "                      cf_matrix.flatten()/np.sum(cf_matrix)]\n",
    "\n",
    "# create labels\n",
    "group_names = ['True Negative', 'False Positive', 'False Negative', 'True Positive']\n",
    "labels = [f\"{v1}\\n{v2}\\n{v3}\" for v1, v2, v3 in\n",
    "          zip(group_names,group_counts,group_percentages)]\n",
    "labels = np.asarray(labels).reshape(2,2)\n",
    "\n",
    "plt.figure(figsize=(10,8))\n",
    "sns.heatmap(cf_matrix, annot=labels, fmt='')"
   ]
  },
  {
   "cell_type": "code",
   "execution_count": null,
   "id": "811d8f90",
   "metadata": {},
   "outputs": [],
   "source": [
    "print(mt.classification_report(y_test,yhat5))\n",
    "print(\"Model Accuracy: \",mt.accuracy_score(y_test,yhat5))"
   ]
  },
  {
   "cell_type": "code",
   "execution_count": null,
   "id": "1f7a8993",
   "metadata": {},
   "outputs": [],
   "source": [
    "hist5Keys = list(history5.history.keys())\n",
    "print(hist5Keys)"
   ]
  },
  {
   "cell_type": "code",
   "execution_count": null,
   "id": "c0b9eec6",
   "metadata": {},
   "outputs": [],
   "source": [
    "get_ipython().run_line_magic('matplotlib', 'inline')\n",
    "\n",
    "plt.figure(figsize=(15,15))\n",
    "plt.subplot(2,2,1)\n",
    "plt.plot(history5.history[hist5Keys[1]])\n",
    "\n",
    "plt.ylabel('Accuracy %')\n",
    "plt.title('Training')\n",
    "plt.subplot(2,2,2)\n",
    "plt.plot(history5.history[hist5Keys[3]])\n",
    "plt.title('Validation')\n",
    "\n",
    "plt.subplot(2,2,3)\n",
    "plt.plot(history5.history[hist5Keys[0]])\n",
    "plt.ylabel('Training Loss')\n",
    "plt.xlabel('epochs')\n",
    "\n",
    "plt.subplot(2,2,4)\n",
    "plt.plot(history5.history[hist5Keys[2]])\n",
    "plt.xlabel('epochs')"
   ]
  },
  {
   "attachments": {},
   "cell_type": "markdown",
   "id": "38ce7076",
   "metadata": {},
   "source": [
    "### Network without wide branch"
   ]
  },
  {
   "cell_type": "code",
   "execution_count": null,
   "id": "a954c94f",
   "metadata": {},
   "outputs": [],
   "source": [
    "from sklearn import __version__ as sklearn_version\n",
    "\n",
    "sklearn_version"
   ]
  },
  {
   "cell_type": "code",
   "execution_count": null,
   "id": "c95395c7",
   "metadata": {},
   "outputs": [],
   "source": [
    "# we need to create separate lists for each branch\n",
    "crossed_outputs = []\n",
    "\n",
    "# CROSSED DATA INPUT\n",
    "input_crossed = Input(shape=(X_train_crossed.shape[1],), dtype='int64', name='deep_inputs')\n",
    "for idx,col in enumerate(cross_col_df_names):\n",
    "    \n",
    "    # track what the maximum integer value will be for this variable\n",
    "    # which is the same as the number of categories\n",
    "    N = df_imputed[col].max()+1\n",
    "    \n",
    "    \n",
    "    # this line of code does this: input_branch[:,idx]\n",
    "    x = tf.gather(input_crossed, idx, axis=1)\n",
    "    \n",
    "    # now use an embedding to deal with integers as if they were one hot encoded\n",
    "    x = Embedding(input_dim=N, \n",
    "                  output_dim=int(np.sqrt(N)), \n",
    "                  input_length=1, name=col+'_embed')(x)\n",
    "    \n",
    "    # save these outputs to concatenate later\n",
    "    crossed_outputs.append(x)\n",
    "    \n",
    "\n",
    "# now concatenate the outputs and add a fully connected layer\n",
    "#wide_branch = concatenate(crossed_outputs, name='wide_concat')\n",
    "\n",
    "# reset this input branch\n",
    "all_deep_branch_outputs = []\n",
    "\n",
    "# CATEGORICAL DATA INPUT\n",
    "input_cat = Input(shape=(X_train_cat.shape[1],), dtype='int64', name='categorical_input')\n",
    "for idx,col in enumerate(categorical_headers_ints):\n",
    "    \n",
    "    # track what the maximum integer value will be for this variable\n",
    "    # which is the same as the number of categories\n",
    "    N = df_imputed[col].max()+1\n",
    "    \n",
    "    # this line of code does this: input_branch[:,idx]\n",
    "    x = tf.gather(input_cat, idx, axis=1)\n",
    "    \n",
    "    # now use an embedding to deal with integers as if they were one hot encoded\n",
    "    x = Embedding(input_dim=N, \n",
    "                  output_dim=int(np.sqrt(N)), \n",
    "                  input_length=1, name=col+'_embed')(x)\n",
    "    \n",
    "    # save these outputs to concatenate later\n",
    "    all_deep_branch_outputs.append(x)\n",
    "    \n",
    "# NUMERIC DATA INPUT\n",
    "# create dense input branch for numeric\n",
    "input_num = Input(shape=(X_train_num.shape[1],), name='numeric')\n",
    "x_dense = Dense(units=22, activation='relu',name='num_1')(input_num)\n",
    "    \n",
    "all_deep_branch_outputs.append(x_dense)\n",
    "\n",
    "\n",
    "# merge the deep branches together\n",
    "deep_branch = concatenate(all_deep_branch_outputs,name='concat_embeds')\n",
    "deep_branch = Dense(units=50,activation='relu', name='deep1')(deep_branch)\n",
    "deep_branch = Dense(units=25,activation='relu', name='deep2')(deep_branch)\n",
    "deep_branch = Dense(units=10,activation='relu', name='deep3')(deep_branch)\n",
    "deep_branch = Dense(units=5,activation='relu', name='deep4')(deep_branch)\n",
    "    \n",
    "final_branch = Dense(units=1,activation='sigmoid',\n",
    "                     name='combined')(deep_branch)\n",
    "\n",
    "\n",
    "model = Model(inputs=[input_crossed,input_cat,input_num], \n",
    "              outputs=final_branch)"
   ]
  },
  {
   "cell_type": "code",
   "execution_count": null,
   "id": "fc818449",
   "metadata": {},
   "outputs": [],
   "source": [
    "model.compile(optimizer='adam',\n",
    "              loss='mean_squared_error',\n",
    "              metrics=[Recall()])"
   ]
  },
  {
   "cell_type": "code",
   "execution_count": null,
   "id": "edcaace2",
   "metadata": {},
   "outputs": [],
   "source": [
    "history6 = model.fit([X_train_crossed,X_train_cat,X_train_num],\n",
    "                    y_train, \n",
    "                    epochs=12, \n",
    "                    batch_size=32, \n",
    "                    verbose=1, \n",
    "                    validation_data = ([X_test_crossed,X_test_cat,X_test_num],y_test))"
   ]
  },
  {
   "cell_type": "code",
   "execution_count": null,
   "id": "5d789d31",
   "metadata": {},
   "outputs": [],
   "source": [
    "yhat6 = np.round(model.predict([X_test_crossed,X_test_cat,X_test_num]))\n",
    "\n",
    "# create confusion matrix\n",
    "cf_matrix = confusion_matrix(y_test, yhat6)\n",
    "\n",
    "# create number of values in each group\n",
    "group_counts = [\"{0:0.0f}\".format(value) for value in\n",
    "                cf_matrix.flatten()]\n",
    "\n",
    "# create percentages of each group\n",
    "group_percentages = [\"{0:.2%}\".format(value) for value in\n",
    "                      cf_matrix.flatten()/np.sum(cf_matrix)]\n",
    "\n",
    "# create labels\n",
    "group_names = ['True Negative', 'False Positive', 'False Negative', 'True Positive']\n",
    "labels = [f\"{v1}\\n{v2}\\n{v3}\" for v1, v2, v3 in\n",
    "          zip(group_names,group_counts,group_percentages)]\n",
    "labels = np.asarray(labels).reshape(2,2)\n",
    "\n",
    "plt.figure(figsize=(10,8))\n",
    "sns.heatmap(cf_matrix, annot=labels, fmt='')"
   ]
  },
  {
   "cell_type": "code",
   "execution_count": null,
   "id": "c16a6692",
   "metadata": {},
   "outputs": [],
   "source": [
    "print(mt.classification_report(y_test,yhat6))\n",
    "print(\"Model Accuracy: \",mt.accuracy_score(y_test,yhat6))"
   ]
  },
  {
   "cell_type": "code",
   "execution_count": null,
   "id": "37f68038",
   "metadata": {},
   "outputs": [],
   "source": [
    "hist6Keys = list(history6.history.keys())\n",
    "print(hist6Keys)"
   ]
  },
  {
   "cell_type": "code",
   "execution_count": null,
   "id": "98fe9553",
   "metadata": {},
   "outputs": [],
   "source": [
    "get_ipython().run_line_magic('matplotlib', 'inline')\n",
    "\n",
    "plt.figure(figsize=(15,15))\n",
    "plt.subplot(2,2,1)\n",
    "plt.plot(history6.history[hist6Keys[1]])\n",
    "\n",
    "plt.ylabel('Accuracy %')\n",
    "plt.title('Training')\n",
    "plt.subplot(2,2,2)\n",
    "plt.plot(history6.history[hist6Keys[3]])\n",
    "plt.title('Validation')\n",
    "\n",
    "plt.subplot(2,2,3)\n",
    "plt.plot(history6.history[hist6Keys[0]])\n",
    "plt.ylabel('Training Loss')\n",
    "plt.xlabel('epochs')\n",
    "\n",
    "plt.subplot(2,2,4)\n",
    "plt.plot(history6.history[hist6Keys[2]])\n",
    "plt.xlabel('epochs')"
   ]
  },
  {
   "attachments": {},
   "cell_type": "markdown",
   "id": "c09c0a33",
   "metadata": {},
   "source": [
    "Model did not perform well"
   ]
  },
  {
   "cell_type": "code",
   "execution_count": null,
   "id": "93a245b6",
   "metadata": {},
   "outputs": [],
   "source": [
    "print(\"Model Accuracy 1: \",mt.accuracy_score(y_test,yhat1))\n",
    "print(\"Model Accuracy 2: \",mt.accuracy_score(y_test,yhat2))\n",
    "print(\"Model Accuracy 3: \",mt.accuracy_score(y_test,yhat3))\n",
    "print(\"Model Accuracy 4: \",mt.accuracy_score(y_test,yhat4))\n",
    "print(\"Model Accuracy 5: \",mt.accuracy_score(y_test,yhat5))\n",
    "print(\"Model Accuracy 6: \",mt.accuracy_score(y_test,yhat6))"
   ]
  },
  {
   "cell_type": "code",
   "execution_count": null,
   "id": "463204d3",
   "metadata": {},
   "outputs": [],
   "source": [
    "from sklearn.neural_network import MLPClassifier\n",
    "from sklearn import metrics as mt\n",
    "\n",
    "clf = MLPClassifier(solver='lbfgs', alpha=1e-5,\n",
    "                    hidden_layer_sizes=(5, 2), random_state=1)\n",
    "\n",
    "clf.fit(X_train, y_train)\n",
    "y_hat = clf.predict(X_test)\n",
    "\n",
    "print(mt.accuracy_score(y_test,y_hat))"
   ]
  },
  {
   "cell_type": "code",
   "execution_count": null,
   "id": "c3787781",
   "metadata": {},
   "outputs": [],
   "source": [
    "get_ipython().run_cell_magic('time', '', \"from sklearn.linear_model import LogisticRegression\\nfrom sklearn.metrics import accuracy_score\\n\\nlr_sk = LogisticRegression(max_iter = 100) # all params default\\n# note that sklearn is optimized for using the liblinear library with logistic regression\\n# ...and its faster than our implementation here\\n\\nlr_sk.fit(X_train,y_train) # no need to add bias term, sklearn does it internally!!\\n#print(lr_sk.coef_)\\ny_hat1 = lr_sk.predict(X_test)\\nprint('Accuracy of: ',accuracy_score(y_test,y_hat1))\\n#plot_decision_boundaries(lr_sk,X_train,y_train, title = 'Logistic regression from sklrearn')\\n\")"
   ]
  },
  {
   "attachments": {},
   "cell_type": "markdown",
   "id": "e5bb8346",
   "metadata": {},
   "source": [
    "## Graduate Analysis"
   ]
  },
  {
   "cell_type": "code",
   "execution_count": null,
   "id": "84f4c3b1",
   "metadata": {},
   "outputs": [],
   "source": [
    "from sklearn.decomposition import PCA"
   ]
  },
  {
   "cell_type": "code",
   "execution_count": null,
   "id": "33c9c338",
   "metadata": {},
   "outputs": [],
   "source": [
    "pca = PCA(n_components=2)\n",
    "pca.fit(X) # fit data and then transform it\n",
    "X_pca = pca.transform(X)"
   ]
  },
  {
   "cell_type": "code",
   "execution_count": null,
   "id": "a6468aaa",
   "metadata": {},
   "outputs": [],
   "source": [
    "cmap = sns.set(style=\"darkgrid\") \n",
    "# this function definition just formats the weights into readable strings\n",
    "# you can skip it without loss of generality to the Data Science content\n",
    "def get_feature_names_from_weights(weights, names):\n",
    "    tmp_array = []\n",
    "    for comp in weights:\n",
    "        tmp_string = ''\n",
    "        for fidx,f in enumerate(names):\n",
    "            if fidx>0 and comp[fidx]>=0:\n",
    "                tmp_string+='+'\n",
    "            tmp_string += '%.2f*%s ' % (comp[fidx],f[:-5])\n",
    "        tmp_array.append(tmp_string)\n",
    "    return tmp_array\n",
    "  \n",
    "plt.style.use('default')\n",
    "pca_weight_strings = get_feature_names_from_weights(pca.components_, feature_columns) \n",
    "\n",
    "# create some pandas dataframes from the transformed outputs\n",
    "df_pca = pd.DataFrame(X_pca,columns=[pca_weight_strings])\n",
    "\n",
    "from matplotlib.pyplot import scatter\n",
    "\n",
    "# scatter plot the output, with the names created from the weights\n",
    "plt.figure(figsize=(15,15))\n",
    "plt.xlabel(pca_weight_strings[0]) \n",
    "plt.ylabel(pca_weight_strings[1])\n",
    "ax = scatter(X_pca[:,0], X_pca[:,1], c=y, s=(y+2)*10, cmap=cmap)"
   ]
  }
 ],
 "metadata": {
  "kernelspec": {
   "display_name": "base",
   "language": "python",
   "name": "python3"
  },
  "language_info": {
   "codemirror_mode": {
    "name": "ipython",
    "version": 3
   },
   "file_extension": ".py",
   "mimetype": "text/x-python",
   "name": "python",
   "nbconvert_exporter": "python",
   "pygments_lexer": "ipython3",
   "version": "3.9.7"
  }
 },
 "nbformat": 4,
 "nbformat_minor": 5
}
